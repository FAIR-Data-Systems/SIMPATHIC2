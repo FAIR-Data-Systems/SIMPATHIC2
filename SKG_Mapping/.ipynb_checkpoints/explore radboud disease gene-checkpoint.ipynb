{
 "cells": [
  {
   "cell_type": "code",
   "execution_count": 1,
   "id": "84498661",
   "metadata": {},
   "outputs": [
    {
     "name": "stdout",
     "output_type": "stream",
     "text": [
      "total 2244\n",
      "-rw-rw-r-- 1 osboxes osboxes    3910 May 17 16:05 explore radboud disease gene.ipynb\n",
      "-rw------- 1 osboxes osboxes 2282825 Feb 21 15:46 Graph_edge_info.xlsx\n",
      "-rw-rw-r-- 1 osboxes osboxes     112 Feb 28 19:02 notes\n",
      "drwxrwxr-x 2 osboxes osboxes    4096 May 17 15:58 rawdata\n"
     ]
    }
   ],
   "source": [
    "puts `ls -l`\n"
   ]
  },
  {
   "cell_type": "code",
   "execution_count": 2,
   "id": "596222ee",
   "metadata": {},
   "outputs": [
    {
     "name": "stdout",
     "output_type": "stream",
     "text": [
      "\"source\",\"source_type\",\"target\",\"target_type\"\n",
      "\"DOID_7551\",\"disease\",\"ENSG00000058085\",\"gene\"\n",
      "\"DOID_7551\",\"disease\",\"ENSG00000091831\",\"gene\"\n",
      "\"DOID_7551\",\"disease\",\"ENSG00000102755\",\"gene\"\n",
      "\"DOID_7551\",\"disease\",\"ENSG00000105329\",\"gene\"\n",
      "\"DOID_7551\",\"disease\",\"ENSG00000112115\",\"gene\"\n",
      "\"DOID_7551\",\"disease\",\"ENSG00000119888\",\"gene\"\n",
      "\"DOID_7551\",\"disease\",\"ENSG00000012779\",\"gene\"\n",
      "\"DOID_7551\",\"disease\",\"ENSG00000068024\",\"gene\"\n",
      "\"DOID_7551\",\"disease\",\"ENSG00000082701\",\"gene\"\n"
     ]
    }
   ],
   "source": [
    "puts `head rawdata/disease-gene.csv`"
   ]
  },
  {
   "cell_type": "code",
   "execution_count": 3,
   "id": "f43b7e59",
   "metadata": {},
   "outputs": [
    {
     "name": "stdout",
     "output_type": "stream",
     "text": [
      "/home/osboxes/CODE/SIMPATHIC/SKG_Mapping/radboud\n",
      "total 2244\n",
      "-rw-rw-r-- 1 osboxes osboxes    3910 May 17 16:05 explore radboud disease gene.ipynb\n",
      "-rw------- 1 osboxes osboxes 2282825 Feb 21 15:46 Graph_edge_info.xlsx\n",
      "-rw-rw-r-- 1 osboxes osboxes     112 Feb 28 19:02 notes\n",
      "drwxrwxr-x 2 osboxes osboxes    4096 May 17 15:58 rawdata\n",
      "\"source\",\"source_type\",\"target\",\"target_type\"\n",
      "\"DOID_7551\",\"disease\",\"ENSG00000058085\",\"gene\"\n",
      "\"DOID_7551\",\"disease\",\"ENSG00000091831\",\"gene\"\n",
      "\"DOID_7551\",\"disease\",\"ENSG00000102755\",\"gene\"\n",
      "\"DOID_7551\",\"disease\",\"ENSG00000105329\",\"gene\"\n",
      "\"DOID_7551\",\"disease\",\"ENSG00000112115\",\"gene\"\n",
      "\"DOID_7551\",\"disease\",\"ENSG00000119888\",\"gene\"\n",
      "\"DOID_7551\",\"disease\",\"ENSG00000012779\",\"gene\"\n",
      "\"DOID_7551\",\"disease\",\"ENSG00000068024\",\"gene\"\n",
      "\"DOID_7551\",\"disease\",\"ENSG00000082701\",\"gene\"\n"
     ]
    }
   ],
   "source": [
    "puts `pwd`\n",
    "puts `ls -l`\n",
    "puts `head rawdata/disease-gene.csv`"
   ]
  },
  {
   "cell_type": "code",
   "execution_count": 23,
   "id": "bea1c3be",
   "metadata": {},
   "outputs": [
    {
     "name": "stdout",
     "output_type": "stream",
     "text": [
      "Sources\n",
      "\"DOID\n",
      "\"HP\n",
      "\"MONDO\n",
      "\"EFO\n",
      "\"OBI\n",
      "\"NCIT\n",
      "\"Orphanet\n",
      "\"OTAR\n",
      "\n",
      "Types\n",
      "\"disease\"\n",
      "\n",
      "Targets\n",
      "ENSG\n",
      "\n",
      "Target Types\n",
      "\"gene\"\n"
     ]
    },
    {
     "ename": "SignalException",
     "evalue": "SIGTERM",
     "output_type": "error",
     "traceback": [
      "\u001b[31mSignalException\u001b[0m: SIGTERM",
      "/home/osboxes/.rvm/gems/ruby-3.0.0/gems/ffi-rzmq-2.0.7/lib/ffi-rzmq/socket.rb:584:in `zmq_recvmsg'",
      "/home/osboxes/.rvm/gems/ruby-3.0.0/gems/ffi-rzmq-2.0.7/lib/ffi-rzmq/socket.rb:584:in `__recvmsg__'",
      "/home/osboxes/.rvm/gems/ruby-3.0.0/gems/ffi-rzmq-2.0.7/lib/ffi-rzmq/socket.rb:321:in `recvmsg'",
      "/home/osboxes/.rvm/gems/ruby-3.0.0/gems/ffi-rzmq-2.0.7/lib/ffi-rzmq/socket.rb:342:in `recv_string'",
      "/home/osboxes/.rvm/gems/ruby-3.0.0/gems/iruby-0.7.4/lib/iruby/session_adapter/ffirzmq_adapter.rb:19:in `recv'",
      "/home/osboxes/.rvm/gems/ruby-3.0.0/gems/iruby-0.7.4/lib/iruby/session.rb:91:in `recv'",
      "/home/osboxes/.rvm/gems/ruby-3.0.0/gems/iruby-0.7.4/lib/iruby/kernel.rb:133:in `dispatch'",
      "/home/osboxes/.rvm/gems/ruby-3.0.0/gems/iruby-0.7.4/lib/iruby/kernel.rb:127:in `run'",
      "/home/osboxes/.rvm/gems/ruby-3.0.0/gems/iruby-0.7.4/lib/iruby/command.rb:106:in `run_kernel'",
      "/home/osboxes/.rvm/gems/ruby-3.0.0/gems/iruby-0.7.4/lib/iruby/command.rb:37:in `run'",
      "/home/osboxes/.rvm/gems/ruby-3.0.0/gems/iruby-0.7.4/bin/iruby:5:in `<main>'"
     ]
    }
   ],
   "source": [
    "types = {}\n",
    "sources = {}\n",
    "targets = {}\n",
    "ttypes = {}\n",
    "\n",
    "File.readlines(\"rawdata/disease-gene.csv\", chomp: true).each do |line|\n",
    "  row = line.split(\",\")\n",
    "  next if row[0] == '\"source\"'\n",
    "\n",
    "  source = row[0].match(/([^_]+)/)[1]\n",
    "  sources[source] = 1\n",
    "  type = row[1]\n",
    "  types[type] = 1\n",
    "  abort row[2] unless row[2].match(/(ENSG)/)\n",
    "  target = row[2].match(/(ENSG)/)[1]\n",
    "  targets[target] = 1\n",
    "  ttype = row[3]\n",
    "  ttypes[ttype] = 1\n",
    "\n",
    "end\n",
    "puts \"Sources\"\n",
    "puts sources.keys\n",
    "puts \n",
    "puts \"Types\"\n",
    "puts types.keys\n",
    "puts \n",
    "puts \"Targets\"\n",
    "puts targets.keys\n",
    "puts\n",
    "puts \"Target Types\"\n",
    "puts ttypes.keys\n",
    "  \n",
    "  \n"
   ]
  }
 ],
 "metadata": {
  "kernelspec": {
   "display_name": "Ruby 3.0.0",
   "language": "ruby",
   "name": "ruby"
  },
  "language_info": {
   "file_extension": ".rb",
   "mimetype": "application/x-ruby",
   "name": "ruby",
   "version": "3.0.0"
  }
 },
 "nbformat": 4,
 "nbformat_minor": 5
}
