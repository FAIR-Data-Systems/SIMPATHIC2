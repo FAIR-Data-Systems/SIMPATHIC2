{
 "cells": [
  {
   "cell_type": "code",
   "execution_count": 1,
   "id": "84498661",
   "metadata": {},
   "outputs": [
    {
     "name": "stdout",
     "output_type": "stream",
     "text": [
      "total 484\n",
      "-rw-rw-r-- 1 osboxes osboxes  34777 May 29 07:33 Demokritos-KG-information.xlsx\n",
      "-rw-rw-r-- 1 osboxes osboxes 207331 May 29 07:33 Disease-Therapeutic_Area.tsv\n",
      "-rw-rw-r-- 1 osboxes osboxes  36869 May 29 07:33 Drug-Disease triples.tsv\n",
      "-rw-rw-r-- 1 osboxes osboxes 111643 May 29 09:32 Drug-Drug_type.tsv\n",
      "-rw-rw-r-- 1 osboxes osboxes  32600 May 29 07:33 Drug-Gene triples.tsv\n",
      "-rw-rw-r-- 1 osboxes osboxes  51800 May 29 07:33 Gene-Disease triples.tsv\n",
      "-rw-rw-r-- 1 osboxes osboxes   7965 May 29 07:33 Gene-Pathway triples.tsv\n"
     ]
    }
   ],
   "source": [
    "puts `ls -l raw-data`\n"
   ]
  },
  {
   "cell_type": "code",
   "execution_count": 2,
   "id": "596222ee",
   "metadata": {},
   "outputs": [
    {
     "name": "stdout",
     "output_type": "stream",
     "text": [
      "Disease\tDisease_id\tTherapeutic_area\tTherapeutic_area_id\t\n",
      "Third cranial nerve disorder\tC0271353\tCranial nerve diseases\tC0010266\t\n",
      "Other specified trigeminal nerve disorders\tC0029834\tCranial nerve diseases\tC0010266\t\n",
      "Marcus Gunn phenomenon\tC0266521\tCranial nerve diseases\tC0010266\t\n",
      "Cranial nerve palsies\tC0151311\tCranial nerve diseases\tC0010266\t\n",
      "Disorders of other cranial nerves\tC0154730\tCranial nerve diseases\tC0010266\t\n",
      "Cranial Nerve Neoplasms, Malignant\tC0153644\tCranial nerve diseases\tC0010266\t\n",
      "Disorder of the optic nerve\tC0029132\tCranial nerve diseases\tC0010266\t\n",
      "Facial Nerve Diseases\tC0015464\tCranial nerve diseases\tC0010266\t\n",
      "Superior Oblique Palsy, Neurogenic\tC0751939\tCranial nerve diseases\tC0010266\t\n"
     ]
    }
   ],
   "source": [
    "puts `head \"raw-data/Disease-Therapeutic_Area.tsv\"`"
   ]
  },
  {
   "cell_type": "markdown",
   "id": "d5c75e5a",
   "metadata": {},
   "source": [
    "# Column 4 = MedGen CUI\n",
    "\n",
    "UMLS requires an API key, that has onerous reporting requirements.  \n",
    "\n",
    "Skip it and use OBO, where the ICD vocabularies use the same CUI\n",
    "\n",
    "e.g. https://data.bioontology.org/search?q=C0010266&ontologies=ICD10CM&require_exact_match=true&apikey=..."
   ]
  },
  {
   "cell_type": "code",
   "execution_count": 13,
   "id": "74e6e50a",
   "metadata": {},
   "outputs": [
    {
     "name": "stdout",
     "output_type": "stream",
     "text": [
      "{\n",
      "  \"page\": 1,\n",
      "  \"pageCount\": 1,\n",
      "  \"totalCount\": 1,\n",
      "  \"prevPage\": null,\n",
      "  \"nextPage\": null,\n",
      "  \"links\": {\n",
      "    \"nextPage\": null,\n",
      "    \"prevPage\": null\n",
      "  },\n",
      "  \"collection\": [\n",
      "    {\n",
      "      \"prefLabel\": \"Cranial nerve disorder, unspecified\",\n",
      "      \"cui\": [\n",
      "        \"C0010266\"\n",
      "      ],\n",
      "      \"semanticType\": [\n",
      "        \"T047\"\n",
      "      ],\n",
      "      \"obsolete\": false,\n",
      "      \"matchType\": \"cui\",\n",
      "      \"ontologyType\": \"ONTOLOGY\",\n",
      "      \"provisional\": false,\n",
      "      \"@id\": \"http://purl.bioontology.org/ontology/ICD10CM/G52.9\",\n",
      "      \"@type\": \"http://www.w3.org/2002/07/owl#Class\",\n",
      "      \"links\": {\n",
      "        \"self\": \"https://data.bioontology.org/ontologies/ICD10CM/classes/http%3A%2F%2Fpurl.bioontology.org%2Fontology%2FICD10CM%2FG52.9\",\n",
      "        \"ontology\": \"https://data.bioontology.org/ontologies/ICD10CM\",\n",
      "        \"children\": \"https://data.bioontology.org/ontologies/ICD10CM/classes/http%3A%2F%2Fpurl.bioontology.org%2Fontology%2FICD10CM%2FG52.9/children\",\n",
      "        \"parents\": \"https://data.bioontology.org/ontologies/ICD10CM/classes/http%3A%2F%2Fpurl.bioontology.org%2Fontology%2FICD10CM%2FG52.9/parents\",\n",
      "        \"descendants\": \"https://data.bioontology.org/ontologies/ICD10CM/classes/http%3A%2F%2Fpurl.bioontology.org%2Fontology%2FICD10CM%2FG52.9/descendants\",\n",
      "        \"ancestors\": \"https://data.bioontology.org/ontologies/ICD10CM/classes/http%3A%2F%2Fpurl.bioontology.org%2Fontology%2FICD10CM%2FG52.9/ancestors\",\n",
      "        \"instances\": \"https://data.bioontology.org/ontologies/ICD10CM/classes/http%3A%2F%2Fpurl.bioontology.org%2Fontology%2FICD10CM%2FG52.9/instances\",\n",
      "        \"tree\": \"https://data.bioontology.org/ontologies/ICD10CM/classes/http%3A%2F%2Fpurl.bioontology.org%2Fontology%2FICD10CM%2FG52.9/tree\",\n",
      "        \"notes\": \"https://data.bioontology.org/ontologies/ICD10CM/classes/http%3A%2F%2Fpurl.bioontology.org%2Fontology%2FICD10CM%2FG52.9/notes\",\n",
      "        \"mappings\": \"https://data.bioontology.org/ontologies/ICD10CM/classes/http%3A%2F%2Fpurl.bioontology.org%2Fontology%2FICD10CM%2FG52.9/mappings\",\n",
      "        \"ui\": \"http://bioportal.bioontology.org/ontologies/ICD10CM?p=classes&conceptid=http%3A%2F%2Fpurl.bioontology.org%2Fontology%2FICD10CM%2FG52.9\",\n",
      "        \"@context\": {\n",
      "          \"self\": \"http://www.w3.org/2002/07/owl#Class\",\n",
      "          \"ontology\": \"http://data.bioontology.org/metadata/Ontology\",\n",
      "          \"children\": \"http://www.w3.org/2002/07/owl#Class\",\n",
      "          \"parents\": \"http://www.w3.org/2002/07/owl#Class\",\n",
      "          \"descendants\": \"http://www.w3.org/2002/07/owl#Class\",\n",
      "          \"ancestors\": \"http://www.w3.org/2002/07/owl#Class\",\n",
      "          \"instances\": \"http://data.bioontology.org/metadata/Instance\",\n",
      "          \"tree\": \"http://www.w3.org/2002/07/owl#Class\",\n",
      "          \"notes\": \"http://data.bioontology.org/metadata/Note\",\n",
      "          \"mappings\": \"http://data.bioontology.org/metadata/Mapping\",\n",
      "          \"ui\": \"http://www.w3.org/2002/07/owl#Class\"\n",
      "        }\n",
      "      },\n",
      "      \"@context\": {\n",
      "        \"@vocab\": \"http://data.bioontology.org/metadata/\",\n",
      "        \"prefLabel\": \"http://www.w3.org/2004/02/skos/core#prefLabel\",\n",
      "        \"obsolete\": \"http://www.w3.org/2002/07/owl#deprecated\",\n",
      "        \"semanticType\": \"http://bioportal.bioontology.org/ontologies/umls/hasSTY\",\n",
      "        \"cui\": \"http://bioportal.bioontology.org/ontologies/umls/cui\",\n",
      "        \"@language\": \"en\"\n",
      "      }\n",
      "    }\n",
      "  ]\n",
      "}\n"
     ]
    }
   ],
   "source": [
    "# puts `curl -H \"Accept: application/json\" \"https://mygene.info/v3/query?q=C1538301&fields=symbol,ensembl.gene,uniprot\"`\n",
    "require \"rest-client\"\n",
    "require 'json'\n",
    "\n",
    "apikey = ENV[\"APIKEY\"] # Replace with BioPortal API key\n",
    "\n",
    "puts JSON.pretty_generate(JSON.parse(RestClient.get(\"https://data.bioontology.org/search?q=C0010266&ontologies=ICD10CM&require_exact_match=true&apikey=#{apikey}\").body))\n"
   ]
  },
  {
   "cell_type": "code",
   "execution_count": 15,
   "id": "f43b7e59",
   "metadata": {},
   "outputs": [
    {
     "data": {
      "text/plain": [
       ":map_cui_to_ICD"
      ]
     },
     "execution_count": 15,
     "metadata": {},
     "output_type": "execute_result"
    }
   ],
   "source": [
    "\n",
    "require \"rest-client\"\n",
    "require 'json'\n",
    "\n",
    "\n",
    "def map_cui_to_ICD(cui)\n",
    "  api_key = ENV[\"APIKEY\"] # Replace with BioPortal API key\n",
    "  begin\n",
    "    response = RestClient.get(\"https://data.bioontology.org/search?q=#{cui}&ontologies=ICD10&require_exact_match=true&apikey=#{api_key}\")\n",
    "  rescue\n",
    "    return false\n",
    "  end\n",
    "  mappings = []\n",
    "  data = JSON.parse(response)\n",
    "\n",
    "  if hit = data.dig('collection')\n",
    "    hit.each do |h|\n",
    "      therapeuticarea = h&.dig('prefLabel')\n",
    "      icd10 = h&.dig('@id')\n",
    "      mappings << { cui: cui, therapeuticarea: therapeuticarea, icd10: icd10}\n",
    "    end\n",
    "    return mappings\n",
    "  else\n",
    "    warn \"No data found for #{cui}\\n\"\n",
    "    return false\n",
    "  end\n",
    "\n",
    "rescue StandardError => e\n",
    "  warn \"No data found for #{cui} Error: #{e.inspect}\\n\"\n",
    "  return false\n",
    "end\n",
    "\n",
    "\n"
   ]
  },
  {
   "cell_type": "code",
   "execution_count": 17,
   "id": "bea1c3be",
   "metadata": {},
   "outputs": [
    {
     "name": "stdout",
     "output_type": "stream",
     "text": [
      "{:cui=>\"C0010266\", :therapeuticarea=>\"Cranial nerve disorder, unspecified\", :icd10=>\"http://purl.bioontology.org/ontology/ICD10/G52.9\"}\n"
     ]
    },
    {
     "data": {
      "text/plain": [
       "[nil]"
      ]
     },
     "execution_count": 17,
     "metadata": {},
     "output_type": "execute_result"
    }
   ],
   "source": [
    "\n",
    "# Example usage\n",
    "cuis = ['C0010266'] \n",
    "results = cuis.map do |cui|\n",
    "  cui_result = map_cui_to_ICD(cui)\n",
    "  puts cui_result\n",
    "#   abort\n",
    "  next if cui_result == false\n",
    "\n",
    "end"
   ]
  },
  {
   "cell_type": "markdown",
   "id": "2601f948",
   "metadata": {},
   "source": [
    "# The MedGen CUI to ICD10 Mapping\n",
    "\n",
    "\n",
    "\n"
   ]
  },
  {
   "cell_type": "code",
   "execution_count": 28,
   "id": "32b04a13",
   "metadata": {},
   "outputs": [
    {
     "name": "stderr",
     "output_type": "stream",
     "text": [
      "(irb):9: warning: already initialized constant Object::CSVFILE\n",
      "(irb):9: warning: previous definition of CSVFILE was here\n",
      "Array\n",
      "{:cui=>\"C0010266\", :therapeuticarea=>\"Cranial nerve disorder, unspecified\", :icd10=>\"http://purl.bioontology.org/ontology/ICD10/G52.9\"}\n",
      "Array\n",
      "Array\n",
      "{:cui=>\"C0042594\", :therapeuticarea=>\"Disorders of vestibular function\", :icd10=>\"http://purl.bioontology.org/ontology/ICD10/H81\"}\n",
      "{:cui=>\"C0042594\", :therapeuticarea=>\"Disorder of vestibular function, unspecified\", :icd10=>\"http://purl.bioontology.org/ontology/ICD10/H81.9\"}\n",
      "Array\n",
      "Array\n",
      "Array\n",
      "Array\n",
      "{:cui=>\"C0027121\", :therapeuticarea=>\"Myositis\", :icd10=>\"http://purl.bioontology.org/ontology/ICD10/M60\"}\n",
      "{:cui=>\"C0027121\", :therapeuticarea=>\"Myositis, unspecified\", :icd10=>\"http://purl.bioontology.org/ontology/ICD10/M60.9\"}\n",
      "Array\n",
      "Array\n",
      "{:cui=>\"C0242172\", :therapeuticarea=>\"Female pelvic inflammatory disease, unspecified\", :icd10=>\"http://purl.bioontology.org/ontology/ICD10/N73.9\"}\n",
      "{:cui=>\"C0242172\", :therapeuticarea=>\"Inflammatory diseases of female pelvic organs\", :icd10=>\"http://purl.bioontology.org/ontology/ICD10/N70-N77.9\"}\n",
      "Array\n",
      "Array\n",
      "{:cui=>\"C0152025\", :therapeuticarea=>\"Polyneuropathy, unspecified\", :icd10=>\"http://purl.bioontology.org/ontology/ICD10/G62.9\"}\n"
     ]
    },
    {
     "ename": "Interrupt",
     "evalue": "",
     "output_type": "error",
     "traceback": [
      "\u001b[31mInterrupt\u001b[0m: ",
      "/home/osboxes/.rvm/gems/ruby-3.0.0/gems/net-protocol-0.2.2/lib/net/protocol.rb:229:in `wait_readable'",
      "/home/osboxes/.rvm/gems/ruby-3.0.0/gems/net-protocol-0.2.2/lib/net/protocol.rb:229:in `rbuf_fill'",
      "/home/osboxes/.rvm/gems/ruby-3.0.0/gems/net-protocol-0.2.2/lib/net/protocol.rb:199:in `readuntil'",
      "/home/osboxes/.rvm/gems/ruby-3.0.0/gems/net-protocol-0.2.2/lib/net/protocol.rb:209:in `readline'",
      "/home/osboxes/.rvm/rubies/ruby-3.0.0/lib/ruby/3.0.0/net/http/response.rb:42:in `read_status_line'",
      "/home/osboxes/.rvm/rubies/ruby-3.0.0/lib/ruby/3.0.0/net/http/response.rb:31:in `read_new'",
      "/home/osboxes/.rvm/rubies/ruby-3.0.0/lib/ruby/3.0.0/net/http.rb:1557:in `block in transport_request'",
      "/home/osboxes/.rvm/rubies/ruby-3.0.0/lib/ruby/3.0.0/net/http.rb:1548:in `catch'",
      "/home/osboxes/.rvm/rubies/ruby-3.0.0/lib/ruby/3.0.0/net/http.rb:1548:in `transport_request'",
      "/home/osboxes/.rvm/rubies/ruby-3.0.0/lib/ruby/3.0.0/net/http.rb:1521:in `request'",
      "/home/osboxes/.rvm/gems/ruby-3.0.0/gems/rest-client-2.1.0/lib/restclient/request.rb:473:in `net_http_do_request'",
      "/home/osboxes/.rvm/gems/ruby-3.0.0/gems/rest-client-2.1.0/lib/restclient/request.rb:733:in `block in transmit'",
      "/home/osboxes/.rvm/rubies/ruby-3.0.0/lib/ruby/3.0.0/net/http.rb:960:in `start'",
      "/home/osboxes/.rvm/gems/ruby-3.0.0/gems/rest-client-2.1.0/lib/restclient/request.rb:727:in `transmit'",
      "/home/osboxes/.rvm/gems/ruby-3.0.0/gems/rest-client-2.1.0/lib/restclient/request.rb:163:in `execute'",
      "/home/osboxes/.rvm/gems/ruby-3.0.0/gems/rest-client-2.1.0/lib/restclient/request.rb:63:in `execute'",
      "/home/osboxes/.rvm/gems/ruby-3.0.0/gems/rest-client-2.1.0/lib/restclient.rb:66:in `get'",
      "(irb):9:in `map_cui_to_ICD'",
      "(irb):17:in `block in <top (required)>'",
      "/home/osboxes/.rvm/gems/ruby-3.0.0/gems/csv-3.3.0/lib/csv.rb:2558:in `each'",
      "/home/osboxes/.rvm/gems/ruby-3.0.0/gems/csv-3.3.0/lib/csv.rb:1335:in `block in foreach'",
      "/home/osboxes/.rvm/gems/ruby-3.0.0/gems/csv-3.3.0/lib/csv.rb:1611:in `open'",
      "/home/osboxes/.rvm/gems/ruby-3.0.0/gems/csv-3.3.0/lib/csv.rb:1334:in `foreach'",
      "(irb):12:in `<top (required)>'"
     ]
    }
   ],
   "source": [
    "require 'csv'\n",
    "\n",
    "f = File.open('./mappings/therapeutic-mappings.csv', 'w')\n",
    "e = File.open('./mappings/therapeutic-errors.txt', 'w')\n",
    "f.sync = true # Ensure immediate writes\n",
    "e.sync = true # Ensure immediate writes\n",
    "f.write CSV.generate_line([\"source\",\"icd10\",\"prefname\"])\n",
    "\n",
    "\n",
    "CSVFILE=\"raw-data/Disease-Therapeutic_Area.tsv\"\n",
    "\n",
    "seen={}\n",
    "CSV.foreach(CSVFILE, headers: true, col_sep: \"\\t\") do |row|\n",
    "  next if row.size < 3\n",
    "  cui = row[\"Therapeutic_area_id\"]  # this is a UMLS CUI\n",
    "  next if seen[cui]\n",
    "  seen[cui] = 1\n",
    "  cui_result = map_cui_to_ICD(cui) # {:cui=>\"C0010266\", :therapeuticarea=>\"Cranial nerve disorder, unspecified\", :icd10=>\"http://purl.bioontology.org/ontology/ICD10/G52.9\"}\n",
    "warn cui_result.class\n",
    "  if cui_result == false\n",
    "    e.write \"error getting #{cui}\\n\"\n",
    "    next\n",
    "  elsif cui_result.empty?\n",
    "    e.write \"No ICD10 matches for #{cui}\\n\"\n",
    "    next    \n",
    "  end\n",
    "  \n",
    "  cui_result.each do |res|\n",
    "    warn res\n",
    "    f.write CSV.generate_line([cui,res[:icd10],res[:therapeuticarea]])\n",
    "  end\n",
    "end\n",
    "f.close\n",
    "e.close\n"
   ]
  },
  {
   "cell_type": "code",
   "execution_count": null,
   "id": "3d298869",
   "metadata": {},
   "outputs": [],
   "source": []
  }
 ],
 "metadata": {
  "kernelspec": {
   "display_name": "Ruby 3.0.0",
   "language": "ruby",
   "name": "ruby"
  },
  "language_info": {
   "file_extension": ".rb",
   "mimetype": "application/x-ruby",
   "name": "ruby",
   "version": "3.0.0"
  }
 },
 "nbformat": 4,
 "nbformat_minor": 5
}
