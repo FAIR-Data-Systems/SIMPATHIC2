{
 "cells": [
  {
   "cell_type": "code",
   "execution_count": 8,
   "id": "f43b7e59",
   "metadata": {},
   "outputs": [
    {
     "name": "stdout",
     "output_type": "stream",
     "text": [
      "/home/osboxes/CODE/SIMPATHIC/SKG_Mapping/radboud\n",
      "total 2628\n",
      "drwxrwxr-x 2 osboxes osboxes    4096 May 20 12:39 mappings\n",
      "-rw-rw-r-- 1 osboxes osboxes     112 Feb 28 19:02 notes\n",
      "-rw-rw-r-- 1 osboxes osboxes 2651290 May 19 11:57 radboud disease gene.ipynb\n",
      "-rw-rw-r-- 1 osboxes osboxes    5251 May 20 11:17 radboud disease therapeutic area.ipynb\n",
      "-rw-rw-r-- 1 osboxes osboxes    4648 May 20 11:47 radboud drug disease and drug type.ipynb\n",
      "-rw-rw-r-- 1 osboxes osboxes    3031 May 20 12:55 radboud drug gene.ipynb\n",
      "drwxrwxr-x 3 osboxes osboxes    4096 May 19 11:26 rawdata\n",
      "drwxrwxr-x 2 osboxes osboxes    4096 May 19 10:26 scripts to copy into Jupyter\n",
      "CHEMBL1200656\n",
      "http://rdf.ebi.ac.uk/resource/chembl/molecule/CHEMBL1200656\n",
      "ENSG00000058085\n",
      "http://purl.uniprot.org/uniprot/P22888\n"
     ]
    }
   ],
   "source": [
    "require 'csv'\n",
    "\n",
    "puts `pwd`\n",
    "puts `ls -l`\n",
    "\n",
    "druguri = {}\n",
    "ensuniprot = {}\n",
    "\n",
    "CSV.foreach('./mappings/drug-drugtype-mappings.csv', headers: true) do |row|\n",
    "  next if row.size < 3\n",
    "\n",
    "  druguri[row[0]] = row[1]\n",
    "end\n",
    "\n",
    "CSV.foreach('./mappings/ENSG-UP-mappings.csv', headers: true) do |row|\n",
    "  next if row.size < 3\n",
    "  ensuniprot[row[1]] = row[3]\n",
    "end\n",
    "\n",
    "puts druguri.first\n",
    "puts ensuniprot.first\n"
   ]
  },
  {
   "cell_type": "markdown",
   "id": "eeb1e71e",
   "metadata": {},
   "source": [
    "# Process file\n",
    "\n",
    "using the existing mapping files rather than remote lookups\n",
    "\n"
   ]
  },
  {
   "cell_type": "code",
   "execution_count": 9,
   "id": "07abb8ed",
   "metadata": {},
   "outputs": [
    {
     "name": "stdout",
     "output_type": "stream",
     "text": [
      "done\n"
     ]
    }
   ],
   "source": [
    "\n",
    "f = File.open('./mappings/drug-gene-mappings.csv', 'w')\n",
    "e = File.open('./mappings/drug-disease-errors.txt', 'w')\n",
    "f.sync = true # Ensure immediate writes\n",
    "e.sync = true # Ensure immediate writes\n",
    "f.write \"radboudsource,sourceguid,target,targetguid\\n\"\n",
    "\n",
    "CSV.foreach('./rawdata/drug-gene.csv', headers: true) do |row|\n",
    "  \n",
    "  next if row.size < 3\n",
    "  radboudsource = row[0]\n",
    "  radboudtarget = row[2]\n",
    "  drugurl = \"http://rdf.ebi.ac.uk/resource/chembl/molecule/#{radboudsource}\"\n",
    "  # can't use this because the drug-gene mappings has drugs that don't appear in the drug-drugtype mappings\n",
    "  # f.write CSV.generate_line([radboudsource,druguri[radboudsource],radboudtarget,ensuniprot[radboudtarget]])\n",
    "  f.write CSV.generate_line([radboudsource,drugurl,radboudtarget,ensuniprot[radboudtarget]])\n",
    "\n",
    "end\n",
    "\n",
    "f.close\n",
    "e.close\n",
    "  puts \"done\""
   ]
  }
 ],
 "metadata": {
  "kernelspec": {
   "display_name": "Ruby 3.0.0",
   "language": "ruby",
   "name": "ruby"
  },
  "language_info": {
   "file_extension": ".rb",
   "mimetype": "application/x-ruby",
   "name": "ruby",
   "version": "3.0.0"
  }
 },
 "nbformat": 4,
 "nbformat_minor": 5
}
