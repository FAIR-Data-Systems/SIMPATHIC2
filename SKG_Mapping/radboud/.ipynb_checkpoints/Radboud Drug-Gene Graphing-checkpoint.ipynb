{
 "cells": [
  {
   "cell_type": "code",
   "execution_count": 3,
   "id": "6be20aad",
   "metadata": {},
   "outputs": [
    {
     "name": "stdout",
     "output_type": "stream",
     "text": [
      "total 7716\n",
      "-rw-rw-r-- 1 osboxes osboxes 3678593 Jul 15 10:40 disease-gene.csv\n",
      "-rw-rw-r-- 1 osboxes osboxes 1419434 Jul 15 10:40 disease-therapeuticarea.csv\n",
      "-rw-rw-r-- 1 osboxes osboxes   50286 Jul 15 10:40 drug-disease.csv\n",
      "-rw-rw-r-- 1 osboxes osboxes   97134 Jul 15 10:40 drug-drugtype.csv\n",
      "-rw-rw-r-- 1 osboxes osboxes  148014 Jul 15 10:40 drug-gene.csv\n",
      "-rw-rw-r-- 1 osboxes osboxes     576 Jul 15 10:40 edges.csv\n",
      "-rw-rw-r-- 1 osboxes osboxes  201313 Jul 15 10:40 gene-reactome.csv\n",
      "-rw-rw-r-- 1 osboxes osboxes 2282825 Jul 15 10:40 Graph_edge_info.xlsx\n"
     ]
    }
   ],
   "source": [
    "puts `ls -l rawdata`"
   ]
  },
  {
   "cell_type": "code",
   "execution_count": 4,
   "id": "03d29447",
   "metadata": {},
   "outputs": [
    {
     "name": "stdout",
     "output_type": "stream",
     "text": [
      "\"source\",\"source_type\",\"target\",\"target_type\"\n",
      "\"CHEMBL1201746\",\"drug\",\"ENSG00000228716\",\"gene\"\n"
     ]
    }
   ],
   "source": [
    "puts `head -2 ./rawdata/drug-gene.csv`"
   ]
  },
  {
   "cell_type": "code",
   "execution_count": 5,
   "id": "9efc799d",
   "metadata": {},
   "outputs": [
    {
     "name": "stdout",
     "output_type": "stream",
     "text": [
      "total 1052\n",
      "drwxrwxr-x 2 osboxes osboxes   4096 Aug  8 14:52 DEPRECATED\n",
      "-rw-rw-r-- 1 osboxes osboxes 378534 Jul 15 10:40 diseases-errors.txt\n",
      "-rw-rw-r-- 1 osboxes osboxes 656312 Jul 15 10:40 diseases.map\n",
      "-rw-rw-r-- 1 osboxes osboxes   1320 Aug 11 12:48 drugs-biologics-errors.txt\n",
      "-rw-rw-r-- 1 osboxes osboxes  11009 Aug  8 15:18 drugs-errors.txt\n",
      "-rw-rw-r-- 1 osboxes osboxes  88654 Aug 11 12:48 drugs.map\n",
      "-rw-rw-r-- 1 osboxes osboxes 135160 Aug  8 14:45 genes.map\n"
     ]
    }
   ],
   "source": [
    "puts `ls -l mappings`"
   ]
  },
  {
   "cell_type": "code",
   "execution_count": 6,
   "id": "1643b67c",
   "metadata": {},
   "outputs": [
    {
     "name": "stdout",
     "output_type": "stream",
     "text": [
      "chembl,label,CID,IUPACname\n",
      "CHEMBL1200656,CHEMBL1200656,5284447,Natamycin\n"
     ]
    }
   ],
   "source": [
    "puts `head -2 ./mappings/drugs.map`"
   ]
  },
  {
   "cell_type": "markdown",
   "id": "4dcbe687",
   "metadata": {},
   "source": [
    "\n",
    "genes.map was lost and recreated (including code) during the large file fiasco\n",
    "\n",
    "This should be identical to previous... we assume!\n"
   ]
  },
  {
   "cell_type": "code",
   "execution_count": 7,
   "id": "46d902b2",
   "metadata": {},
   "outputs": [
    {
     "name": "stdout",
     "output_type": "stream",
     "text": [
      "sourceid,label,geneid,protein,recommended_full,taxon\n",
      "ENSG00000012779,ENSG00000012779,http://purl.uniprot.org/geneid/240,http://purl.uniprot.org/uniprot/P09917,Polyunsaturated fatty acid 5-lipoxygenase,http://purl.uniprot.org/taxonomy/9606\n"
     ]
    }
   ],
   "source": [
    "puts `head -2 ./mappings/genes.map`"
   ]
  },
  {
   "cell_type": "code",
   "execution_count": 1,
   "id": "0c6ffdc6",
   "metadata": {
    "scrolled": true
   },
   "outputs": [
    {
     "name": "stderr",
     "output_type": "stream",
     "text": [
      "drug lookup failed CHEMBL2108222\n",
      "drug lookup failed CHEMBL3991432\n",
      "drug lookup failed CHEMBL2362016\n",
      "gene lookup failed ENSG00000123201\n",
      "drug lookup failed CHEMBL1201630\n",
      "drug lookup failed CHEMBL3301581\n",
      "gene lookup failed ENSG00000106123\n",
      "drug lookup failed CHEMBL1201572\n",
      "drug lookup failed CHEMBL1201629\n",
      "drug lookup failed CHEMBL2107857\n",
      "drug lookup failed CHEMBL1396\n",
      "drug lookup failed CHEMBL2108278\n",
      "drug lookup failed CHEMBL1201608\n",
      "drug lookup failed CHEMBL2107869\n",
      "drug lookup failed CHEMBL1201580\n",
      "drug lookup failed CHEMBL3039583\n",
      "drug lookup failed CHEMBL1201657\n",
      "drug lookup failed CHEMBL1742990\n",
      "drug lookup failed CHEMBL4297762\n",
      "drug lookup failed CHEMBL2103749\n",
      "drug lookup failed CHEMBL1201661\n",
      "drug lookup failed CHEMBL2354773\n",
      "gene lookup failed ENSG00000211891\n",
      "completed graph building\n"
     ]
    },
    {
     "name": "stdout",
     "output_type": "stream",
     "text": [
      "RDF quads written\n"
     ]
    }
   ],
   "source": [
    "require 'linkeddata'\n",
    "require 'rdf/nquads'\n",
    "require 'csv'\n",
    "\n",
    "graphing_errors = File.open('./graph/drug-gene-errors.txt', 'w') \n",
    "\n",
    "# Define namespaces\n",
    "SIMPATHIC = RDF::Vocabulary.new('urn:simpathic:')\n",
    "RDFS = RDF::Vocabulary.new('http://www.w3.org/2000/01/rdf-schema#')\n",
    "\n",
    "# Read input files\n",
    "drug_mappings = CSV.read('./mappings/drugs.map', headers: true)\n",
    "gene_mappings = CSV.read('./mappings/genes.map', headers: true)\n",
    "failures = {}\n",
    "\n",
    "# refresh\n",
    "f = File.open('./graph/drug-gene.nq', 'w')\n",
    "f.close\n",
    "\n",
    "recordcount = 0\n",
    "CSV.foreach('./rawdata/drug-gene.csv', col_sep: \",\", quote_char: '\"', \n",
    "  liberal_parsing: true, headers: true) do |row|\n",
    "# \"source\",\"source_type\",\"target\",\"target_type\"\n",
    "# \"CHEMBL1201746\",\"drug\",\"ENSG00000228716\",\"gene\"\n",
    "  drug_id = row['source']\n",
    "  gene_id = row['target']\n",
    "  score = 1\n",
    "  #evidence = \"\"\n",
    "\n",
    "#   warn \"searching for #{drug_id}\"\n",
    "  drug = drug_mappings.find { |d| d['chembl'] == drug_id }\n",
    "  gene = gene_mappings.find { |d| d['sourceid'] == gene_id }\n",
    "  \n",
    "#     warn \"found #{drug}\"\n",
    "  unless drug\n",
    "    next if failures[drug_id]\n",
    "    failures[drug_id] = 1\n",
    "    warn \"drug lookup failed #{drug_id}\"\n",
    "    graphing_errors.write \"drug lookup failed #{drug_id}\\n\"\n",
    "    next\n",
    "  end\n",
    "  unless gene\n",
    "    next if failures[gene_id]\n",
    "    failures[gene_id] = 1\n",
    "    warn \"gene lookup failed #{gene_id}\"\n",
    "    graphing_errors.write \"gene lookup failed #{gene_id}\\n\"\n",
    "    next\n",
    "  end\n",
    "  \n",
    "  # Extract relevant IDs and labels\n",
    "#   chembl,label,CID,IUPACname\n",
    "#   CHEMBL1200656,CHEMBL1200656,5284447,Natamycin\n",
    "  pubchem_uri = RDF::URI.new(\"https://pubchem.ncbi.nlm.nih.gov/compound/#{drug['CID']}\")\n",
    "  pubchem_type = RDF::URI.new(\"http://semanticscience.org/resource/CHEMINF_000302\")\n",
    "  pubchem_label =  RDF::Literal.new(\"PubChem Identifier\")\n",
    "  pubchem_core_type = RDF::URI.new(\"https://w3id.org/biolink/vocab/Drug\")\n",
    "  drug_label = RDF::Literal.new(drug['label'])\n",
    "  iupac_drug_label = RDF::Literal.new(drug['IUPACname'])\n",
    "\n",
    "#   sourceid,label,geneid,protein,recommended_full,taxon\n",
    "#   ENSG00000091831,ENSG00000091831,http://purl.uniprot.org/geneid/2099,http://purl.uniprot.org/uniprot/P03372,Estrogen receptor,http://purl.uniprot.org/taxonomy/9606\n",
    "  gene_uri = RDF::URI.new(gene['geneid'])\n",
    "  gene_type = RDF::URI.new(\"http://edamontology.org/data_1027\")\n",
    "  gene_label =  RDF::Literal.new(\"NCBI/UniProt Gene Identifier\")\n",
    "  gene_core_type = RDF::URI.new(\"https://w3id.org/biolink/vocab/Gene\")\n",
    "  gene_label = RDF::Literal.new(gene['label'])\n",
    "\n",
    "  \n",
    "  protein_uri = RDF::URI.new(gene['protein'])\n",
    "  protein_type = RDF::URI.new(\"http://edamontology.org/data_2291\")\n",
    "  protein_label =  RDF::Literal.new(\"UniProt Identifier\")\n",
    "  protein_core_type = RDF::URI.new(\"https://w3id.org/biolink/vocab/Protein\")\n",
    "  biovista_protein_label = RDF::Literal.new(gene['recommended_full'])\n",
    "    \n",
    "  taxon = RDF::URI.new(gene['taxon'])\n",
    "  \n",
    "  # Create context URI\n",
    "  context_uri = RDF::URI.new(\"urn:simpathic:context:#{drug_id}_#{gene_id}\")\n",
    "  general_context = RDF::URI.new(\"urn:simpathic:context:all_metadata\")\n",
    "  \n",
    "  # Create RDF repository (need to do this each time, since there are hundreds of thousands of lines, and the graph gets too big for memory)\n",
    "  graph = RDF::Repository.new\n",
    "    \n",
    "  # Add quads to graph using RDF::Statement\n",
    "  graph << RDF::Statement.new(pubchem_uri, SIMPATHIC['associated-with'], gene_uri, graph_name: context_uri)\n",
    "  graph << RDF::Statement.new(gene_uri, SIMPATHIC['associated-with'], pubchem_uri, graph_name: context_uri)\n",
    "  \n",
    "  graph << RDF::Statement.new(pubchem_uri,  RDFS.label,     drug_label, graph_name: context_uri)\n",
    "  graph << RDF::Statement.new(pubchem_uri,  RDFS.label,     iupac_drug_label, graph_name: context_uri)\n",
    "  graph << RDF::Statement.new(pubchem_uri,  RDF.type,       pubchem_type,          graph_name: context_uri)\n",
    "  graph << RDF::Statement.new(pubchem_uri,  RDF.type,       pubchem_core_type,             graph_name: context_uri)\n",
    "  graph << RDF::Statement.new(pubchem_type, RDFS.label,     RDF::Literal.new(\"PubChem\"), graph_name: context_uri)\n",
    "  graph << RDF::Statement.new(pubchem_core_type, RDFS.label,     RDF::Literal.new(\"Drug\"), graph_name: context_uri)\n",
    "  graph << RDF::Statement.new(pubchem_uri,  SIMPATHIC['original-id'], RDF::Literal.new(\"#{drug_id}\"), graph_name: context_uri)\n",
    "  \n",
    "  graph << RDF::Statement.new(gene_uri,  RDFS.label,       gene_label , graph_name: context_uri)\n",
    "  graph << RDF::Statement.new(gene_uri,  RDF.type,         gene_type, graph_name: context_uri)\n",
    "  graph << RDF::Statement.new(gene_uri,  RDF.type,         gene_core_type, graph_name: context_uri)\n",
    "  graph << RDF::Statement.new(gene_type, RDFS.label,       RDF::Literal.new(\"NCBI Gene\"), graph_name: context_uri)\n",
    "  graph << RDF::Statement.new(gene_core_type, RDFS.label,  RDF::Literal.new(\"Gene\"), graph_name: context_uri)\n",
    "  graph << RDF::Statement.new(gene_uri,  SIMPATHIC['original-id'], RDF::Literal.new(\"#{gene_id}\"), graph_name: context_uri)\n",
    "  graph << RDF::Statement.new(gene_uri,  SIMPATHIC['in-taxon'], taxon, graph_name: context_uri)\n",
    "  \n",
    "\n",
    "  graph << RDF::Statement.new(pubchem_uri, SIMPATHIC['associated-with'], protein_uri, graph_name: context_uri)\n",
    "  graph << RDF::Statement.new(protein_uri, SIMPATHIC['associated-with'], pubchem_uri, graph_name: context_uri)\n",
    "  \n",
    "  graph << RDF::Statement.new(protein_uri,  RDFS.label,       biovista_protein_label , graph_name: context_uri)\n",
    "  graph << RDF::Statement.new(protein_uri,  RDF.type,         protein_type, graph_name: context_uri)\n",
    "  graph << RDF::Statement.new(protein_uri,  RDF.type,         protein_core_type, graph_name: context_uri)\n",
    "  graph << RDF::Statement.new(protein_type, RDFS.label,       RDF::Literal.new(\"UniProt\"), graph_name: context_uri)\n",
    "  graph << RDF::Statement.new(protein_core_type, RDFS.label,  RDF::Literal.new(\"Protein\"), graph_name: context_uri)\n",
    "  graph << RDF::Statement.new(protein_uri,  SIMPATHIC['original-id'], RDF::Literal.new(\"#{gene_id}\"), graph_name: context_uri)\n",
    "  graph << RDF::Statement.new(protein_uri,  SIMPATHIC['in-taxon'], taxon, graph_name: context_uri)\n",
    "\n",
    "  \n",
    "  graph << RDF::Statement.new(context_uri, SIMPATHIC['skg-source'], RDF::Literal.new(\"Radboud\"), graph_name: general_context)\n",
    "#   graph << RDF::Statement.new(context_uri, SIMPATHIC['evidence'], RDF::URI.new(evidence))\n",
    "#   graph << RDF::Statement.new(context_uri, SIMPATHIC['score'], RDF::Literal.new(score))\n",
    "\n",
    "\n",
    "#   warn \"graph #{context_uri} built\"\n",
    "  # Write RDF to file in N-Quads format\n",
    "  File.open('./graph/drug-gene.nq.large', 'a') do |f|\n",
    "    RDF::Writer.for(:nquads).new(f) do |writer|\n",
    "      writer << graph\n",
    "    end\n",
    "  end\n",
    "#   warn \"end graph writing\"\n",
    "\n",
    "end\n",
    "warn \"completed graph building\"\n",
    "graphing_errors.close\n",
    "\n",
    "puts \"RDF quads written\""
   ]
  },
  {
   "cell_type": "markdown",
   "id": "fd1f92b4",
   "metadata": {},
   "source": [
    "# Experiments below"
   ]
  },
  {
   "cell_type": "code",
   "execution_count": 6,
   "id": "67c307e3",
   "metadata": {},
   "outputs": [
    {
     "name": "stderr",
     "output_type": "stream",
     "text": [
      "graph urn:simpathic:context:123_456 built\n",
      "end graph writing\n"
     ]
    }
   ],
   "source": [
    "File.open('./graph/drug-gene.nq', 'w')\n",
    "# Create context URI\n",
    "  context_uri = RDF::URI.new(\"urn:simpathic:context:123_456\")\n",
    "  \n",
    "  # Create RDF graph\n",
    "  graph = RDF::Repository.new\n",
    "    \n",
    "  # Add quads to graph using RDF::Statement\n",
    "  graph << RDF::Statement.new(RDF::URI.new(\"https://example.org\"), RDFS.label,     RDF::Literal.new(\"PubChem\"), graph_name: context_uri)\n",
    "\n",
    "  warn \"graph #{context_uri} built\"\n",
    "  # Write RDF to file in N-Quads format\n",
    "  File.open('./graph/drug-gene.nq', 'a') do |f|\n",
    "    RDF::Writer.for(:nquads).new(f) do |writer|\n",
    "      writer << graph\n",
    "    end\n",
    "  end\n",
    "  warn \"end graph writing\"\n"
   ]
  }
 ],
 "metadata": {
  "kernelspec": {
   "display_name": "Ruby 3.0.0",
   "language": "ruby",
   "name": "ruby"
  },
  "language_info": {
   "file_extension": ".rb",
   "mimetype": "application/x-ruby",
   "name": "ruby",
   "version": "3.0.0"
  }
 },
 "nbformat": 4,
 "nbformat_minor": 5
}
