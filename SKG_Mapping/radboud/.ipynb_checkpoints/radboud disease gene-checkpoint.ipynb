{
 "cells": [
  {
   "cell_type": "code",
   "execution_count": null,
   "id": "84498661",
   "metadata": {},
   "outputs": [],
   "source": [
    "puts `ls -l`\n"
   ]
  },
  {
   "cell_type": "code",
   "execution_count": null,
   "id": "596222ee",
   "metadata": {},
   "outputs": [],
   "source": [
    "puts `head rawdata/disease-gene.csv`"
   ]
  },
  {
   "cell_type": "code",
   "execution_count": null,
   "id": "f43b7e59",
   "metadata": {},
   "outputs": [],
   "source": [
    "puts `pwd`\n",
    "puts `ls -l`\n",
    "puts `head rawdata/disease-gene.csv`"
   ]
  },
  {
   "cell_type": "code",
   "execution_count": null,
   "id": "bea1c3be",
   "metadata": {},
   "outputs": [],
   "source": [
    "types = {}\n",
    "sources = {}\n",
    "targets = {}\n",
    "ttypes = {}\n",
    "\n",
    "File.readlines(\"rawdata/disease-gene.csv\", chomp: true).each do |line|\n",
    "  row = line.split(\",\")\n",
    "  next if row[0] == '\"source\"'\n",
    "\n",
    "  source = row[0].match(/([^_]+)/)[1]\n",
    "  sources[source] = 1\n",
    "  type = row[1]\n",
    "  types[type] = 1\n",
    "  abort row[2] unless row[2].match(/(ENSG)/)\n",
    "  target = row[2].match(/(ENSG)/)[1]\n",
    "  targets[target] = 1\n",
    "  ttype = row[3]\n",
    "  ttypes[ttype] = 1\n",
    "\n",
    "end\n",
    "puts \"Sources\"\n",
    "puts sources.keys\n",
    "puts \n",
    "puts \"Types\"\n",
    "puts types.keys\n",
    "puts \n",
    "puts \"Targets\"\n",
    "puts targets.keys\n",
    "puts\n",
    "puts \"Target Types\"\n",
    "puts ttypes.keys\n",
    "  \n",
    "  \n"
   ]
  },
  {
   "cell_type": "code",
   "execution_count": 1,
   "id": "32b04a13",
   "metadata": {},
   "outputs": [
    {
     "ename": "SyntaxError",
     "evalue": "(irb):56: syntax error, unexpected `end', expecting end-of-input",
     "output_type": "error",
     "traceback": [
      "\u001b[31mSyntaxError\u001b[0m: (irb):56: syntax error, unexpected `end', expecting end-of-input"
     ]
    }
   ],
   "source": [
    "require '../Lookups/uniprot'\n",
    "require 'csv'\n",
    "\n",
    "u = UNIPROT.new\n",
    "f = File.open(\"ENSG-UP-mappings.csv\", \"w\")\n",
    "f.write \"source,ensembl,uniprot,taxon,prefname\\n\"\n",
    "f.sync = true  # Ensure immediate writes\n",
    "batch = []\n",
    "sources = []\n",
    "\n",
    "CSV.foreach(\"rawdata/disease-gene.csv\", headers: true) do |row|\n",
    "  next if row.size < 3\n",
    "  source = row[0]\n",
    "  target = row[2]&.gsub(\"\\\"\", \"\") || \"\"\n",
    "\n",
    "  # Collect source and target for the batch\n",
    "  batch << target\n",
    "  sources << source\n",
    "\n",
    "  # Process batch when it reaches 50 or at the end\n",
    "  if batch.size >= 100\n",
    "    # Search for all targets in the batch\n",
    "    results = u.search_by_ensgene(ensg: batch)\n",
    "\n",
    "    # Process each result with corresponding source and target\n",
    "    results.each_with_index do |result, i|\n",
    "      ensgene, protein, tax, recommended_full = result || [nil, nil, nil, nil]\n",
    "      unless protein\n",
    "        warn \"Failed to fetch data for #{batch[i]}\"\n",
    "        next\n",
    "      end\n",
    "\n",
    "      warn \"#{sources[i]}, #{ensgene}, #{protein}\"\n",
    "      f.write CSV.generate_line([sources[i], batch[i], ensgene, protein, tax, recommended_full])\n",
    "    end\n",
    "\n",
    "    # Clear batch and sources for the next set\n",
    "    batch.clear\n",
    "    sources.clear\n",
    "  end\n",
    "end\n",
    "\n",
    "# Process any remaining rows in the batch\n",
    "unless batch.empty?\n",
    "  results = u.search_by_ensgene(ensg: batch)\n",
    "  results.each_with_index do |result, i|\n",
    "    ensgene, protein, tax, recommended_full = result || [nil, nil, nil, nil]\n",
    "    unless protein\n",
    "      warn \"Failed to fetch data for #{batch[i]}\"\n",
    "      next\n",
    "    end\n",
    "\n",
    "    warn \"#{sources[i]}, #{protein}\"\n",
    "    f.write CSV.generate_line([sources[i], batch[i], ensgene, protein, tax, recommended_full])\n",
    "  end\n",
    "end\n",
    "f.close\n"
   ]
  }
 ],
 "metadata": {
  "kernelspec": {
   "display_name": "Ruby 3.0.0",
   "language": "ruby",
   "name": "ruby"
  },
  "language_info": {
   "file_extension": ".rb",
   "mimetype": "application/x-ruby",
   "name": "ruby",
   "version": "3.0.0"
  }
 },
 "nbformat": 4,
 "nbformat_minor": 5
}
