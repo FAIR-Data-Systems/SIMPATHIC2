{
 "cells": [
  {
   "cell_type": "code",
   "execution_count": null,
   "id": "de8a8984",
   "metadata": {},
   "outputs": [],
   "source": [
    "puts `head -1 ./raw_data/bv-kg-20250225.large`\n",
    "puts `head -10 ./raw_data/bv_pathways.tsv`\n"
   ]
  },
  {
   "cell_type": "code",
   "execution_count": null,
   "id": "85120557",
   "metadata": {},
   "outputs": [],
   "source": [
    "require 'csv'\n",
    "drugs = {}\n",
    "sources = {}\n",
    "CSV.foreach('./raw_data/bv-kg-20250225.large', col_sep: \"\\t\", quote_char: '\"', liberal_parsing: true, headers: true) do |row|\n",
    "  if row[\"type_1\"] == \"Pathway\"\n",
    "    sources[row[\"source_1\"]] = 1\n",
    "  end\n",
    "  if row[\"type_2\"] == \"Pathway\"\n",
    "    sources[row[\"source_2\"]] = 1\n",
    "  end\n",
    "end\n",
    "\n",
    "puts sources.keys"
   ]
  },
  {
   "cell_type": "markdown",
   "id": "ceb94e09",
   "metadata": {},
   "source": [
    "# hmmm... that's odd!  What's the difference?  Probably none... just a duplicate label with different tag"
   ]
  },
  {
   "cell_type": "code",
   "execution_count": 1,
   "id": "00a19b77",
   "metadata": {},
   "outputs": [
    {
     "data": {
      "text/plain": [
       "\"./maps/2025-biovista-pathways.map\""
      ]
     },
     "execution_count": 1,
     "metadata": {},
     "output_type": "execute_result"
    }
   ],
   "source": [
    "require 'json'\n",
    "require 'faraday'\n",
    "require 'csv'\n",
    "CSVFILE = \"./raw_data/bv-disease-graph.large\".freeze\n",
    "OUTPUT = \"./maps/2025-biovista-pathways.map\".freeze"
   ]
  },
  {
   "cell_type": "code",
   "execution_count": 2,
   "id": "d5ab8a63",
   "metadata": {},
   "outputs": [
    {
     "name": "stdout",
     "output_type": "stream",
     "text": [
      "402\n",
      "examples\n",
      "GO:0009448\n",
      "GO:0007268\n",
      "GO:0009056\n",
      "GO:0009450\n",
      "GO:0007588\n"
     ]
    }
   ],
   "source": [
    "pathways = {}\n",
    "CSV.foreach('./raw_data/bv-kg-20250225.large', col_sep: \"\\t\", quote_char: '\"', liberal_parsing: true, headers: true) do |row|\n",
    "  # this is to eliminate duplicates\n",
    "  if row[\"type_1\"] == \"Pathway\"\n",
    "    pathways[row[\"id_1\"]] = row[\"name_1\"]\n",
    "  end\n",
    "  if row[\"type_2\"] == \"Pathway\"\n",
    "    pathways[row[\"id_2\"]] = row[\"name_2\"]\n",
    "  end\n",
    "end\n",
    "\n",
    "puts pathways.keys.size\n",
    "puts \"examples\"\n",
    "puts pathways.keys[0..4]\n",
    "\n"
   ]
  },
  {
   "cell_type": "code",
   "execution_count": 3,
   "id": "3439d4c5",
   "metadata": {},
   "outputs": [
    {
     "name": "stdout",
     "output_type": "stream",
     "text": [
      "done\n"
     ]
    }
   ],
   "source": [
    "# sanity check... all GO?\n",
    "\n",
    "pathways.keys.each do |path|\n",
    "  warn path unless path =~ /^GO\\:/\n",
    "end\n",
    "puts \"done\""
   ]
  },
  {
   "cell_type": "markdown",
   "id": "1c7b167a",
   "metadata": {},
   "source": [
    "# confirmed all pathways are GO ontology"
   ]
  },
  {
   "cell_type": "code",
   "execution_count": 4,
   "id": "db701845",
   "metadata": {},
   "outputs": [
    {
     "name": "stderr",
     "output_type": "stream",
     "text": [
      "/home/osboxes/CODE/SIMPATHIC/SKG_Mapping/Lookups/ontologyservers/ncbo.rb:4: warning: already initialized constant PARAMS\n",
      "/home/osboxes/CODE/SIMPATHIC/SKG_Mapping/Lookups/ontologyservers/edam.rb:4: warning: previous definition of PARAMS was here\n",
      "obolibrary\n",
      "obolibrary http://purl.obolibrary.org/obo/GO_0009448\n",
      "GRAPHSIZE:  23\n",
      "\n"
     ]
    },
    {
     "name": "stdout",
     "output_type": "stream",
     "text": [
      "gamma-aminobutyric acid metabolic process\n"
     ]
    },
    {
     "name": "stderr",
     "output_type": "stream",
     "text": [
      "obolibrary\n",
      "obolibrary http://purl.obolibrary.org/obo/GO_0007268\n",
      "GRAPHSIZE:  30\n",
      "\n"
     ]
    },
    {
     "name": "stdout",
     "output_type": "stream",
     "text": [
      "chemical synaptic transmission\n"
     ]
    },
    {
     "name": "stderr",
     "output_type": "stream",
     "text": [
      "obolibrary\n",
      "obolibrary http://purl.obolibrary.org/obo/GO_0009056\n",
      "GRAPHSIZE:  42\n",
      "\n"
     ]
    },
    {
     "name": "stdout",
     "output_type": "stream",
     "text": [
      "catabolic process\n"
     ]
    },
    {
     "name": "stderr",
     "output_type": "stream",
     "text": [
      "obolibrary\n",
      "obolibrary http://purl.obolibrary.org/obo/GO_0009450\n",
      "GRAPHSIZE:  31\n",
      "\n"
     ]
    },
    {
     "name": "stdout",
     "output_type": "stream",
     "text": [
      "gamma-aminobutyric acid catabolic process\n"
     ]
    },
    {
     "name": "stderr",
     "output_type": "stream",
     "text": [
      "obolibrary\n",
      "obolibrary http://purl.obolibrary.org/obo/GO_0007588\n",
      "GRAPHSIZE:  20\n",
      "\n"
     ]
    },
    {
     "name": "stdout",
     "output_type": "stream",
     "text": [
      "excretion\n"
     ]
    },
    {
     "name": "stderr",
     "output_type": "stream",
     "text": [
      "obolibrary\n",
      "obolibrary http://purl.obolibrary.org/obo/GO_0006914\n",
      "GRAPHSIZE:  43\n",
      "\n"
     ]
    },
    {
     "name": "stdout",
     "output_type": "stream",
     "text": [
      "autophagy\n"
     ]
    },
    {
     "name": "stderr",
     "output_type": "stream",
     "text": [
      "obolibrary\n",
      "obolibrary http://purl.obolibrary.org/obo/GO_0006099\n",
      "GRAPHSIZE:  31\n",
      "\n"
     ]
    },
    {
     "name": "stdout",
     "output_type": "stream",
     "text": [
      "tricarboxylic acid cycle\n"
     ]
    },
    {
     "name": "stderr",
     "output_type": "stream",
     "text": [
      "obolibrary\n",
      "obolibrary http://purl.obolibrary.org/obo/GO_0098754\n",
      "GRAPHSIZE:  31\n",
      "\n"
     ]
    },
    {
     "name": "stdout",
     "output_type": "stream",
     "text": [
      "detoxification\n"
     ]
    },
    {
     "name": "stderr",
     "output_type": "stream",
     "text": [
      "obolibrary\n",
      "obolibrary http://purl.obolibrary.org/obo/GO_0002118\n",
      "GRAPHSIZE:  15\n",
      "\n"
     ]
    },
    {
     "name": "stdout",
     "output_type": "stream",
     "text": [
      "aggressive behavior\n"
     ]
    },
    {
     "name": "stderr",
     "output_type": "stream",
     "text": [
      "obolibrary\n",
      "obolibrary http://purl.obolibrary.org/obo/GO_0042133\n",
      "GRAPHSIZE:  14\n",
      "\n"
     ]
    },
    {
     "name": "stdout",
     "output_type": "stream",
     "text": [
      "obsolete neurotransmitter metabolic process\n"
     ]
    },
    {
     "name": "stderr",
     "output_type": "stream",
     "text": [
      "obolibrary\n",
      "obolibrary http://purl.obolibrary.org/obo/GO_0050890\n",
      "GRAPHSIZE:  16\n",
      "\n"
     ]
    },
    {
     "name": "stdout",
     "output_type": "stream",
     "text": [
      "cognition\n"
     ]
    },
    {
     "name": "stderr",
     "output_type": "stream",
     "text": [
      "obolibrary\n",
      "obolibrary http://purl.obolibrary.org/obo/GO_0042552\n",
      "GRAPHSIZE:  15\n",
      "\n"
     ]
    },
    {
     "name": "stdout",
     "output_type": "stream",
     "text": [
      "myelination\n"
     ]
    },
    {
     "name": "stderr",
     "output_type": "stream",
     "text": [
      "obolibrary\n",
      "obolibrary http://purl.obolibrary.org/obo/GO_0042592\n",
      "GRAPHSIZE:  31\n",
      "\n"
     ]
    },
    {
     "name": "stdout",
     "output_type": "stream",
     "text": [
      "homeostatic process\n"
     ]
    },
    {
     "name": "stderr",
     "output_type": "stream",
     "text": [
      "obolibrary\n",
      "obolibrary http://purl.obolibrary.org/obo/GO_0000423\n",
      "GRAPHSIZE:  20\n",
      "\n"
     ]
    },
    {
     "name": "stdout",
     "output_type": "stream",
     "text": [
      "mitophagy\n"
     ]
    },
    {
     "name": "stderr",
     "output_type": "stream",
     "text": [
      "obolibrary\n",
      "obolibrary http://purl.obolibrary.org/obo/GO_0045292\n",
      "GRAPHSIZE:  17\n",
      "\n"
     ]
    },
    {
     "name": "stdout",
     "output_type": "stream",
     "text": [
      "mRNA cis splicing, via spliceosome\n"
     ]
    },
    {
     "name": "stderr",
     "output_type": "stream",
     "text": [
      "obolibrary\n",
      "obolibrary http://purl.obolibrary.org/obo/GO_0045333\n",
      "GRAPHSIZE:  25\n",
      "\n"
     ]
    },
    {
     "name": "stdout",
     "output_type": "stream",
     "text": [
      "cellular respiration\n"
     ]
    },
    {
     "name": "stderr",
     "output_type": "stream",
     "text": [
      "obolibrary\n",
      "obolibrary http://purl.obolibrary.org/obo/GO_0000050\n",
      "GRAPHSIZE:  24\n",
      "\n"
     ]
    },
    {
     "name": "stdout",
     "output_type": "stream",
     "text": [
      "urea cycle\n"
     ]
    },
    {
     "name": "stderr",
     "output_type": "stream",
     "text": [
      "obolibrary\n",
      "obolibrary http://purl.obolibrary.org/obo/GO_0006081\n",
      "GRAPHSIZE:  20\n",
      "\n"
     ]
    },
    {
     "name": "stdout",
     "output_type": "stream",
     "text": [
      "aldehyde metabolic process\n"
     ]
    },
    {
     "name": "stderr",
     "output_type": "stream",
     "text": [
      "obolibrary\n",
      "obolibrary http://purl.obolibrary.org/obo/GO_0006541\n",
      "GRAPHSIZE:  13\n",
      "\n"
     ]
    },
    {
     "name": "stdout",
     "output_type": "stream",
     "text": [
      "glutamine metabolic process\n"
     ]
    },
    {
     "name": "stderr",
     "output_type": "stream",
     "text": [
      "obolibrary\n",
      "obolibrary http://purl.obolibrary.org/obo/GO_0006915\n",
      "GRAPHSIZE:  52\n",
      "\n"
     ]
    },
    {
     "name": "stdout",
     "output_type": "stream",
     "text": [
      "apoptotic process\n"
     ]
    },
    {
     "name": "stderr",
     "output_type": "stream",
     "text": [
      "obolibrary\n",
      "obolibrary http://purl.obolibrary.org/obo/GO_0042137\n",
      "GRAPHSIZE:  22\n",
      "\n"
     ]
    },
    {
     "name": "stdout",
     "output_type": "stream",
     "text": [
      "obsolete sequestering of neurotransmitter\n"
     ]
    },
    {
     "name": "stderr",
     "output_type": "stream",
     "text": [
      "obolibrary\n",
      "obolibrary http://purl.obolibrary.org/obo/GO_0015881\n",
      "GRAPHSIZE:  25\n",
      "\n"
     ]
    },
    {
     "name": "stdout",
     "output_type": "stream",
     "text": [
      "creatine transmembrane transport\n"
     ]
    },
    {
     "name": "stderr",
     "output_type": "stream",
     "text": [
      "obolibrary\n",
      "obolibrary http://purl.obolibrary.org/obo/GO_0070085\n",
      "GRAPHSIZE:  13\n",
      "\n"
     ]
    },
    {
     "name": "stdout",
     "output_type": "stream",
     "text": [
      "glycosylation\n"
     ]
    },
    {
     "name": "stderr",
     "output_type": "stream",
     "text": [
      "obolibrary\n",
      "obolibrary http://purl.obolibrary.org/obo/GO_0008219\n",
      "GRAPHSIZE:  20\n",
      "\n"
     ]
    },
    {
     "name": "stdout",
     "output_type": "stream",
     "text": [
      "cell death\n"
     ]
    },
    {
     "name": "stderr",
     "output_type": "stream",
     "text": [
      "obolibrary\n",
      "obolibrary http://purl.obolibrary.org/obo/GO_0006600\n",
      "GRAPHSIZE:  18\n",
      "\n"
     ]
    },
    {
     "name": "stdout",
     "output_type": "stream",
     "text": [
      "creatine metabolic process\n"
     ]
    },
    {
     "name": "stderr",
     "output_type": "stream",
     "text": [
      "obolibrary\n",
      "obolibrary http://purl.obolibrary.org/obo/GO_0006412\n",
      "GRAPHSIZE:  77\n",
      "\n"
     ]
    },
    {
     "name": "stdout",
     "output_type": "stream",
     "text": [
      "translation\n"
     ]
    },
    {
     "name": "stderr",
     "output_type": "stream",
     "text": [
      "obolibrary\n",
      "obolibrary http://purl.obolibrary.org/obo/GO_0009790\n",
      "GRAPHSIZE:  28\n",
      "\n"
     ]
    },
    {
     "name": "stdout",
     "output_type": "stream",
     "text": [
      "embryo development\n"
     ]
    },
    {
     "name": "stderr",
     "output_type": "stream",
     "text": [
      "obolibrary\n",
      "obolibrary http://purl.obolibrary.org/obo/GO_0006457\n",
      "GRAPHSIZE:  66\n",
      "\n"
     ]
    },
    {
     "name": "stdout",
     "output_type": "stream",
     "text": [
      "protein folding\n"
     ]
    },
    {
     "name": "stderr",
     "output_type": "stream",
     "text": [
      "obolibrary\n",
      "obolibrary http://purl.obolibrary.org/obo/GO_0006540\n",
      "GRAPHSIZE:  43\n",
      "\n"
     ]
    },
    {
     "name": "stdout",
     "output_type": "stream",
     "text": [
      "gamma-aminobutyrate shunt\n"
     ]
    },
    {
     "name": "stderr",
     "output_type": "stream",
     "text": [
      "obolibrary\n",
      "obolibrary http://purl.obolibrary.org/obo/GO_0006729\n",
      "GRAPHSIZE:  23\n",
      "\n"
     ]
    },
    {
     "name": "stdout",
     "output_type": "stream",
     "text": [
      "tetrahydrobiopterin biosynthetic process\n"
     ]
    },
    {
     "name": "stderr",
     "output_type": "stream",
     "text": [
      "obolibrary\n",
      "obolibrary http://purl.obolibrary.org/obo/GO_0022900\n",
      "GRAPHSIZE:  18\n",
      "\n"
     ]
    },
    {
     "name": "stdout",
     "output_type": "stream",
     "text": [
      "electron transport chain\n"
     ]
    },
    {
     "name": "stderr",
     "output_type": "stream",
     "text": [
      "obolibrary\n",
      "obolibrary http://purl.obolibrary.org/obo/GO_0006117\n",
      "GRAPHSIZE:  15\n",
      "\n"
     ]
    },
    {
     "name": "stdout",
     "output_type": "stream",
     "text": [
      "acetaldehyde metabolic process\n"
     ]
    },
    {
     "name": "stderr",
     "output_type": "stream",
     "text": [
      "obolibrary\n",
      "obolibrary http://purl.obolibrary.org/obo/GO_0019395\n",
      "GRAPHSIZE:  16\n",
      "\n"
     ]
    },
    {
     "name": "stdout",
     "output_type": "stream",
     "text": [
      "fatty acid oxidation\n"
     ]
    },
    {
     "name": "stderr",
     "output_type": "stream",
     "text": [
      "obolibrary\n",
      "obolibrary http://purl.obolibrary.org/obo/GO_0007416\n",
      "GRAPHSIZE:  31\n",
      "\n"
     ]
    },
    {
     "name": "stdout",
     "output_type": "stream",
     "text": [
      "synapse assembly\n"
     ]
    },
    {
     "name": "stderr",
     "output_type": "stream",
     "text": [
      "obolibrary\n",
      "obolibrary http://purl.obolibrary.org/obo/GO_0042417\n",
      "GRAPHSIZE:  13\n",
      "\n"
     ]
    },
    {
     "name": "stdout",
     "output_type": "stream",
     "text": [
      "dopamine metabolic process\n"
     ]
    },
    {
     "name": "stderr",
     "output_type": "stream",
     "text": [
      "obolibrary\n",
      "obolibrary http://purl.obolibrary.org/obo/GO_0007417\n",
      "GRAPHSIZE:  24\n",
      "\n"
     ]
    },
    {
     "name": "stdout",
     "output_type": "stream",
     "text": [
      "central nervous system development\n"
     ]
    },
    {
     "name": "stderr",
     "output_type": "stream",
     "text": [
      "obolibrary\n",
      "obolibrary http://purl.obolibrary.org/obo/GO_0007420\n",
      "GRAPHSIZE:  26\n",
      "\n"
     ]
    },
    {
     "name": "stdout",
     "output_type": "stream",
     "text": [
      "brain development\n"
     ]
    },
    {
     "name": "stderr",
     "output_type": "stream",
     "text": [
      "obolibrary\n",
      "obolibrary http://purl.obolibrary.org/obo/GO_0006954\n",
      "GRAPHSIZE:  18\n",
      "\n"
     ]
    },
    {
     "name": "stdout",
     "output_type": "stream",
     "text": [
      "inflammatory response\n"
     ]
    },
    {
     "name": "stderr",
     "output_type": "stream",
     "text": [
      "obolibrary\n",
      "obolibrary http://purl.obolibrary.org/obo/GO_0001171\n",
      "GRAPHSIZE:  32\n",
      "\n"
     ]
    },
    {
     "name": "stdout",
     "output_type": "stream",
     "text": [
      "reverse transcription\n"
     ]
    },
    {
     "name": "stderr",
     "output_type": "stream",
     "text": [
      "obolibrary\n",
      "obolibrary http://purl.obolibrary.org/obo/GO_0042427\n",
      "GRAPHSIZE:  27\n",
      "\n"
     ]
    },
    {
     "name": "stdout",
     "output_type": "stream",
     "text": [
      "serotonin biosynthetic process\n"
     ]
    },
    {
     "name": "stderr",
     "output_type": "stream",
     "text": [
      "obolibrary\n",
      "obolibrary http://purl.obolibrary.org/obo/GO_0042428\n",
      "GRAPHSIZE:  22\n",
      "\n"
     ]
    },
    {
     "name": "stdout",
     "output_type": "stream",
     "text": [
      "serotonin metabolic process\n"
     ]
    },
    {
     "name": "stderr",
     "output_type": "stream",
     "text": [
      "obolibrary\n",
      "obolibrary http://purl.obolibrary.org/obo/GO_0009444\n",
      "GRAPHSIZE:  14\n",
      "\n"
     ]
    },
    {
     "name": "stdout",
     "output_type": "stream",
     "text": [
      "obsolete pyruvate oxidation\n"
     ]
    },
    {
     "name": "stderr",
     "output_type": "stream",
     "text": [
      "obolibrary\n",
      "obolibrary http://purl.obolibrary.org/obo/GO_0015884\n",
      "GRAPHSIZE:  24\n",
      "\n"
     ]
    },
    {
     "name": "stdout",
     "output_type": "stream",
     "text": [
      "folic acid transport\n"
     ]
    },
    {
     "name": "stderr",
     "output_type": "stream",
     "text": [
      "obolibrary\n",
      "obolibrary http://purl.obolibrary.org/obo/GO_0080144\n",
      "GRAPHSIZE:  19\n",
      "\n"
     ]
    },
    {
     "name": "stdout",
     "output_type": "stream",
     "text": [
      "intracellular amino acid homeostasis\n"
     ]
    },
    {
     "name": "stderr",
     "output_type": "stream",
     "text": [
      "obolibrary\n",
      "obolibrary http://purl.obolibrary.org/obo/GO_0006783\n",
      "GRAPHSIZE:  27\n",
      "\n"
     ]
    },
    {
     "name": "stdout",
     "output_type": "stream",
     "text": [
      "heme biosynthetic process\n"
     ]
    },
    {
     "name": "stderr",
     "output_type": "stream",
     "text": [
      "obolibrary\n",
      "obolibrary http://purl.obolibrary.org/obo/GO_0044237\n",
      "GRAPHSIZE:  22\n",
      "\n"
     ]
    },
    {
     "name": "stdout",
     "output_type": "stream",
     "text": [
      "obsolete cellular metabolic process\n"
     ]
    },
    {
     "name": "stderr",
     "output_type": "stream",
     "text": [
      "obolibrary\n",
      "obolibrary http://purl.obolibrary.org/obo/GO_0016236\n",
      "GRAPHSIZE:  32\n",
      "\n"
     ]
    },
    {
     "name": "stdout",
     "output_type": "stream",
     "text": [
      "macroautophagy\n"
     ]
    },
    {
     "name": "stderr",
     "output_type": "stream",
     "text": [
      "obolibrary\n",
      "obolibrary http://purl.obolibrary.org/obo/GO_0046459\n",
      "GRAPHSIZE:  16\n",
      "\n"
     ]
    },
    {
     "name": "stdout",
     "output_type": "stream",
     "text": [
      "short-chain fatty acid metabolic process\n"
     ]
    },
    {
     "name": "stderr",
     "output_type": "stream",
     "text": [
      "obolibrary\n",
      "obolibrary http://purl.obolibrary.org/obo/GO_0009594\n",
      "GRAPHSIZE:  19\n",
      "\n"
     ]
    },
    {
     "name": "stdout",
     "output_type": "stream",
     "text": [
      "detection of nutrient\n"
     ]
    },
    {
     "name": "stderr",
     "output_type": "stream",
     "text": [
      "obolibrary\n",
      "obolibrary http://purl.obolibrary.org/obo/GO_0006629\n",
      "GRAPHSIZE:  47\n",
      "\n"
     ]
    },
    {
     "name": "stdout",
     "output_type": "stream",
     "text": [
      "lipid metabolic process\n"
     ]
    },
    {
     "name": "stderr",
     "output_type": "stream",
     "text": [
      "obolibrary\n",
      "obolibrary http://purl.obolibrary.org/obo/GO_0006805\n",
      "GRAPHSIZE:  41\n",
      "\n"
     ]
    },
    {
     "name": "stdout",
     "output_type": "stream",
     "text": [
      "xenobiotic metabolic process\n"
     ]
    },
    {
     "name": "stderr",
     "output_type": "stream",
     "text": [
      "obolibrary\n",
      "obolibrary http://purl.obolibrary.org/obo/GO_1901336\n",
      "GRAPHSIZE:  23\n",
      "\n"
     ]
    },
    {
     "name": "stdout",
     "output_type": "stream",
     "text": [
      "lactone biosynthetic process\n"
     ]
    },
    {
     "name": "stderr",
     "output_type": "stream",
     "text": [
      "obolibrary\n",
      "obolibrary http://purl.obolibrary.org/obo/GO_0061744\n",
      "GRAPHSIZE:  15\n",
      "\n"
     ]
    },
    {
     "name": "stdout",
     "output_type": "stream",
     "text": [
      "motor behavior\n"
     ]
    },
    {
     "name": "stderr",
     "output_type": "stream",
     "text": [
      "obolibrary\n",
      "obolibrary http://purl.obolibrary.org/obo/GO_0050893\n",
      "GRAPHSIZE:  20\n",
      "\n"
     ]
    },
    {
     "name": "stdout",
     "output_type": "stream",
     "text": [
      "sensory processing\n"
     ]
    },
    {
     "name": "stderr",
     "output_type": "stream",
     "text": [
      "obolibrary\n",
      "obolibrary http://purl.obolibrary.org/obo/GO_0000302\n",
      "GRAPHSIZE:  21\n",
      "\n"
     ]
    },
    {
     "name": "stdout",
     "output_type": "stream",
     "text": [
      "response to reactive oxygen species\n"
     ]
    },
    {
     "name": "stderr",
     "output_type": "stream",
     "text": [
      "obolibrary\n",
      "obolibrary http://purl.obolibrary.org/obo/GO_0007565\n",
      "GRAPHSIZE:  23\n",
      "\n"
     ]
    },
    {
     "name": "stdout",
     "output_type": "stream",
     "text": [
      "female pregnancy\n"
     ]
    },
    {
     "name": "stderr",
     "output_type": "stream",
     "text": [
      "obolibrary\n",
      "obolibrary http://purl.obolibrary.org/obo/GO_0008610\n",
      "GRAPHSIZE:  20\n",
      "\n"
     ]
    },
    {
     "name": "stdout",
     "output_type": "stream",
     "text": [
      "lipid biosynthetic process\n"
     ]
    },
    {
     "name": "stderr",
     "output_type": "stream",
     "text": [
      "obolibrary\n",
      "obolibrary http://purl.obolibrary.org/obo/GO_0000425\n",
      "GRAPHSIZE:  18\n",
      "\n"
     ]
    },
    {
     "name": "stdout",
     "output_type": "stream",
     "text": [
      "pexophagy\n"
     ]
    },
    {
     "name": "stderr",
     "output_type": "stream",
     "text": [
      "obolibrary\n",
      "obolibrary http://purl.obolibrary.org/obo/GO_0016037\n",
      "GRAPHSIZE:  22\n",
      "\n"
     ]
    },
    {
     "name": "stdout",
     "output_type": "stream",
     "text": [
      "light absorption\n"
     ]
    },
    {
     "name": "stderr",
     "output_type": "stream",
     "text": [
      "obolibrary\n",
      "obolibrary http://purl.obolibrary.org/obo/GO_0140115\n",
      "GRAPHSIZE:  20\n",
      "\n"
     ]
    },
    {
     "name": "stdout",
     "output_type": "stream",
     "text": [
      "export across plasma membrane\n"
     ]
    },
    {
     "name": "stderr",
     "output_type": "stream",
     "text": [
      "obolibrary\n",
      "obolibrary http://purl.obolibrary.org/obo/GO_0150103\n",
      "GRAPHSIZE:  17\n",
      "\n"
     ]
    },
    {
     "name": "stdout",
     "output_type": "stream",
     "text": [
      "reactive gliosis\n"
     ]
    },
    {
     "name": "stderr",
     "output_type": "stream",
     "text": [
      "obolibrary\n",
      "obolibrary http://purl.obolibrary.org/obo/GO_0022008\n",
      "GRAPHSIZE:  26\n",
      "\n"
     ]
    },
    {
     "name": "stdout",
     "output_type": "stream",
     "text": [
      "neurogenesis\n"
     ]
    },
    {
     "name": "stderr",
     "output_type": "stream",
     "text": [
      "obolibrary\n",
      "obolibrary http://purl.obolibrary.org/obo/GO_0007605\n",
      "GRAPHSIZE:  17\n",
      "\n"
     ]
    },
    {
     "name": "stdout",
     "output_type": "stream",
     "text": [
      "sensory perception of sound\n"
     ]
    },
    {
     "name": "stderr",
     "output_type": "stream",
     "text": [
      "obolibrary\n",
      "obolibrary http://purl.obolibrary.org/obo/GO_0006695\n",
      "GRAPHSIZE:  24\n",
      "\n"
     ]
    },
    {
     "name": "stdout",
     "output_type": "stream",
     "text": [
      "cholesterol biosynthetic process\n"
     ]
    },
    {
     "name": "stderr",
     "output_type": "stream",
     "text": [
      "obolibrary\n",
      "obolibrary http://purl.obolibrary.org/obo/GO_0006277\n",
      "GRAPHSIZE:  11\n",
      "\n"
     ]
    },
    {
     "name": "stdout",
     "output_type": "stream",
     "text": [
      "DNA amplification\n"
     ]
    },
    {
     "name": "stderr",
     "output_type": "stream",
     "text": [
      "obolibrary\n",
      "obolibrary http://purl.obolibrary.org/obo/GO_0006082\n",
      "GRAPHSIZE:  16\n",
      "\n"
     ]
    },
    {
     "name": "stdout",
     "output_type": "stream",
     "text": [
      "organic acid metabolic process\n"
     ]
    },
    {
     "name": "stderr",
     "output_type": "stream",
     "text": [
      "obolibrary\n",
      "obolibrary http://purl.obolibrary.org/obo/GO_0006083\n",
      "GRAPHSIZE:  13\n",
      "\n"
     ]
    },
    {
     "name": "stdout",
     "output_type": "stream",
     "text": [
      "acetate metabolic process\n"
     ]
    },
    {
     "name": "stderr",
     "output_type": "stream",
     "text": [
      "obolibrary\n",
      "obolibrary http://purl.obolibrary.org/obo/GO_0006086\n",
      "GRAPHSIZE:  28\n",
      "\n"
     ]
    },
    {
     "name": "stdout",
     "output_type": "stream",
     "text": [
      "pyruvate decarboxylation to acetyl-CoA\n"
     ]
    },
    {
     "name": "stderr",
     "output_type": "stream",
     "text": [
      "obolibrary\n",
      "obolibrary http://purl.obolibrary.org/obo/GO_0006542\n",
      "GRAPHSIZE:  21\n",
      "\n"
     ]
    },
    {
     "name": "stdout",
     "output_type": "stream",
     "text": [
      "glutamine biosynthetic process\n"
     ]
    },
    {
     "name": "stderr",
     "output_type": "stream",
     "text": [
      "obolibrary\n",
      "obolibrary http://purl.obolibrary.org/obo/GO_0007623\n",
      "GRAPHSIZE:  28\n",
      "\n"
     ]
    },
    {
     "name": "stdout",
     "output_type": "stream",
     "text": [
      "circadian rhythm\n"
     ]
    },
    {
     "name": "stderr",
     "output_type": "stream",
     "text": [
      "obolibrary\n",
      "obolibrary http://purl.obolibrary.org/obo/GO_0006546\n",
      "GRAPHSIZE:  23\n",
      "\n"
     ]
    },
    {
     "name": "stdout",
     "output_type": "stream",
     "text": [
      "glycine catabolic process\n"
     ]
    },
    {
     "name": "stderr",
     "output_type": "stream",
     "text": [
      "obolibrary\n",
      "obolibrary http://purl.obolibrary.org/obo/GO_0036268\n",
      "GRAPHSIZE:  16\n",
      "\n"
     ]
    },
    {
     "name": "stdout",
     "output_type": "stream",
     "text": [
      "swimming\n"
     ]
    },
    {
     "name": "stderr",
     "output_type": "stream",
     "text": [
      "obolibrary\n",
      "obolibrary http://purl.obolibrary.org/obo/GO_0009555\n",
      "GRAPHSIZE:  29\n",
      "\n"
     ]
    },
    {
     "name": "stdout",
     "output_type": "stream",
     "text": [
      "pollen development\n"
     ]
    },
    {
     "name": "stderr",
     "output_type": "stream",
     "text": [
      "obolibrary\n",
      "obolibrary http://purl.obolibrary.org/obo/GO_0007568\n",
      "GRAPHSIZE:  16\n",
      "\n"
     ]
    },
    {
     "name": "stdout",
     "output_type": "stream",
     "text": [
      "obsolete aging\n"
     ]
    },
    {
     "name": "stderr",
     "output_type": "stream",
     "text": [
      "obolibrary\n",
      "obolibrary http://purl.obolibrary.org/obo/GO_0048653\n",
      "GRAPHSIZE:  23\n",
      "\n"
     ]
    },
    {
     "name": "stdout",
     "output_type": "stream",
     "text": [
      "anther development\n"
     ]
    },
    {
     "name": "stderr",
     "output_type": "stream",
     "text": [
      "obolibrary\n",
      "obolibrary http://purl.obolibrary.org/obo/GO_0007165\n",
      "GRAPHSIZE:  62\n",
      "\n"
     ]
    },
    {
     "name": "stdout",
     "output_type": "stream",
     "text": [
      "signal transduction\n"
     ]
    },
    {
     "name": "stderr",
     "output_type": "stream",
     "text": [
      "obolibrary\n",
      "obolibrary http://purl.obolibrary.org/obo/GO_0035640\n",
      "GRAPHSIZE:  22\n",
      "\n"
     ]
    },
    {
     "name": "stdout",
     "output_type": "stream",
     "text": [
      "exploration behavior\n"
     ]
    },
    {
     "name": "stderr",
     "output_type": "stream",
     "text": [
      "obolibrary\n",
      "obolibrary http://purl.obolibrary.org/obo/GO_0035176\n",
      "GRAPHSIZE:  21\n",
      "\n"
     ]
    },
    {
     "name": "stdout",
     "output_type": "stream",
     "text": [
      "social behavior\n"
     ]
    },
    {
     "name": "stderr",
     "output_type": "stream",
     "text": [
      "obolibrary\n",
      "obolibrary http://purl.obolibrary.org/obo/GO_0006936\n",
      "GRAPHSIZE:  17\n",
      "\n"
     ]
    },
    {
     "name": "stdout",
     "output_type": "stream",
     "text": [
      "muscle contraction\n"
     ]
    },
    {
     "name": "stderr",
     "output_type": "stream",
     "text": [
      "obolibrary\n",
      "obolibrary http://purl.obolibrary.org/obo/GO_0010228\n",
      "GRAPHSIZE:  31\n",
      "\n"
     ]
    },
    {
     "name": "stdout",
     "output_type": "stream",
     "text": [
      "vegetative to reproductive phase transition of meristem\n"
     ]
    },
    {
     "name": "stderr",
     "output_type": "stream",
     "text": [
      "obolibrary\n",
      "obolibrary http://purl.obolibrary.org/obo/GO_0009451\n",
      "GRAPHSIZE:  24\n",
      "\n"
     ]
    },
    {
     "name": "stdout",
     "output_type": "stream",
     "text": [
      "RNA modification\n"
     ]
    },
    {
     "name": "stderr",
     "output_type": "stream",
     "text": [
      "obolibrary\n",
      "obolibrary http://purl.obolibrary.org/obo/GO_0141119\n",
      "GRAPHSIZE:  25\n",
      "\n"
     ]
    },
    {
     "name": "stdout",
     "output_type": "stream",
     "text": [
      "chromosomal DNA methylation maintenance following DNA replication\n"
     ]
    },
    {
     "name": "stderr",
     "output_type": "stream",
     "text": [
      "obolibrary\n",
      "obolibrary http://purl.obolibrary.org/obo/GO_0030154\n",
      "GRAPHSIZE:  30\n",
      "\n"
     ]
    },
    {
     "name": "stdout",
     "output_type": "stream",
     "text": [
      "cell differentiation\n"
     ]
    },
    {
     "name": "stderr",
     "output_type": "stream",
     "text": [
      "obolibrary\n",
      "obolibrary http://purl.obolibrary.org/obo/GO_0042060\n",
      "GRAPHSIZE:  25\n",
      "\n"
     ]
    },
    {
     "name": "stdout",
     "output_type": "stream",
     "text": [
      "wound healing\n"
     ]
    },
    {
     "name": "stderr",
     "output_type": "stream",
     "text": [
      "obolibrary\n",
      "obolibrary http://purl.obolibrary.org/obo/GO_0032259\n",
      "GRAPHSIZE:  17\n",
      "\n"
     ]
    },
    {
     "name": "stdout",
     "output_type": "stream",
     "text": [
      "methylation\n"
     ]
    },
    {
     "name": "stderr",
     "output_type": "stream",
     "text": [
      "obolibrary\n",
      "obolibrary http://purl.obolibrary.org/obo/GO_0012501\n",
      "GRAPHSIZE:  57\n",
      "\n"
     ]
    },
    {
     "name": "stdout",
     "output_type": "stream",
     "text": [
      "programmed cell death\n"
     ]
    },
    {
     "name": "stderr",
     "output_type": "stream",
     "text": [
      "obolibrary\n",
      "obolibrary http://purl.obolibrary.org/obo/GO_0031099\n",
      "GRAPHSIZE:  13\n",
      "\n"
     ]
    },
    {
     "name": "stdout",
     "output_type": "stream",
     "text": [
      "regeneration\n"
     ]
    },
    {
     "name": "stderr",
     "output_type": "stream",
     "text": [
      "obolibrary\n",
      "obolibrary http://purl.obolibrary.org/obo/GO_0009856\n",
      "GRAPHSIZE:  27\n",
      "\n"
     ]
    },
    {
     "name": "stdout",
     "output_type": "stream",
     "text": [
      "pollination\n"
     ]
    },
    {
     "name": "stderr",
     "output_type": "stream",
     "text": [
      "obolibrary\n",
      "obolibrary http://purl.obolibrary.org/obo/GO_0140013\n",
      "GRAPHSIZE:  40\n",
      "\n"
     ]
    },
    {
     "name": "stdout",
     "output_type": "stream",
     "text": [
      "meiotic nuclear division\n"
     ]
    },
    {
     "name": "stderr",
     "output_type": "stream",
     "text": [
      "obolibrary\n",
      "obolibrary http://purl.obolibrary.org/obo/GO_0006119\n",
      "GRAPHSIZE:  27\n",
      "\n"
     ]
    },
    {
     "name": "stdout",
     "output_type": "stream",
     "text": [
      "oxidative phosphorylation\n"
     ]
    },
    {
     "name": "stderr",
     "output_type": "stream",
     "text": [
      "obolibrary\n",
      "obolibrary http://purl.obolibrary.org/obo/GO_0006955\n",
      "GRAPHSIZE:  17\n",
      "\n"
     ]
    },
    {
     "name": "stdout",
     "output_type": "stream",
     "text": [
      "immune response\n"
     ]
    },
    {
     "name": "stderr",
     "output_type": "stream",
     "text": [
      "obolibrary\n",
      "obolibrary http://purl.obolibrary.org/obo/GO_0001503\n",
      "GRAPHSIZE:  18\n",
      "\n"
     ]
    },
    {
     "name": "stdout",
     "output_type": "stream",
     "text": [
      "ossification\n"
     ]
    },
    {
     "name": "stderr",
     "output_type": "stream",
     "text": [
      "obolibrary\n",
      "obolibrary http://purl.obolibrary.org/obo/GO_0001525\n",
      "GRAPHSIZE:  24\n",
      "\n"
     ]
    },
    {
     "name": "stdout",
     "output_type": "stream",
     "text": [
      "angiogenesis\n"
     ]
    },
    {
     "name": "stderr",
     "output_type": "stream",
     "text": [
      "obolibrary\n",
      "obolibrary http://purl.obolibrary.org/obo/GO_0007601\n",
      "GRAPHSIZE:  17\n",
      "\n"
     ]
    },
    {
     "name": "stdout",
     "output_type": "stream",
     "text": [
      "visual perception\n"
     ]
    },
    {
     "name": "stderr",
     "output_type": "stream",
     "text": [
      "obolibrary\n",
      "obolibrary http://purl.obolibrary.org/obo/GO_0001837\n",
      "GRAPHSIZE:  17\n",
      "\n"
     ]
    },
    {
     "name": "stdout",
     "output_type": "stream",
     "text": [
      "epithelial to mesenchymal transition\n"
     ]
    },
    {
     "name": "stderr",
     "output_type": "stream",
     "text": [
      "obolibrary\n",
      "obolibrary http://purl.obolibrary.org/obo/GO_0007631\n",
      "GRAPHSIZE:  41\n",
      "\n"
     ]
    },
    {
     "name": "stdout",
     "output_type": "stream",
     "text": [
      "feeding behavior\n"
     ]
    },
    {
     "name": "stderr",
     "output_type": "stream",
     "text": [
      "obolibrary\n",
      "obolibrary http://purl.obolibrary.org/obo/GO_0040011\n",
      "GRAPHSIZE:  19\n",
      "\n"
     ]
    },
    {
     "name": "stdout",
     "output_type": "stream",
     "text": [
      "locomotion\n"
     ]
    },
    {
     "name": "stderr",
     "output_type": "stream",
     "text": [
      "obolibrary\n",
      "obolibrary http://purl.obolibrary.org/obo/GO_0023060\n",
      "GRAPHSIZE:  18\n",
      "\n"
     ]
    },
    {
     "name": "stdout",
     "output_type": "stream",
     "text": [
      "obsolete signal transmission\n"
     ]
    },
    {
     "name": "stderr",
     "output_type": "stream",
     "text": [
      "obolibrary\n",
      "obolibrary http://purl.obolibrary.org/obo/GO_0008380\n",
      "GRAPHSIZE:  21\n",
      "\n"
     ]
    },
    {
     "name": "stdout",
     "output_type": "stream",
     "text": [
      "RNA splicing\n"
     ]
    },
    {
     "name": "stderr",
     "output_type": "stream",
     "text": [
      "obolibrary\n",
      "obolibrary http://purl.obolibrary.org/obo/GO_0030218\n",
      "GRAPHSIZE:  27\n",
      "\n"
     ]
    },
    {
     "name": "stdout",
     "output_type": "stream",
     "text": [
      "erythrocyte differentiation\n"
     ]
    },
    {
     "name": "stderr",
     "output_type": "stream",
     "text": [
      "obolibrary\n",
      "obolibrary http://purl.obolibrary.org/obo/GO_0046903\n",
      "GRAPHSIZE:  14\n",
      "\n"
     ]
    },
    {
     "name": "stdout",
     "output_type": "stream",
     "text": [
      "secretion\n"
     ]
    },
    {
     "name": "stderr",
     "output_type": "stream",
     "text": [
      "obolibrary\n",
      "obolibrary http://purl.obolibrary.org/obo/GO_0035825\n",
      "GRAPHSIZE:  26\n",
      "\n"
     ]
    },
    {
     "name": "stdout",
     "output_type": "stream",
     "text": [
      "homologous recombination\n"
     ]
    },
    {
     "name": "stderr",
     "output_type": "stream",
     "text": [
      "obolibrary\n",
      "obolibrary http://purl.obolibrary.org/obo/GO_0006950\n",
      "GRAPHSIZE:  29\n",
      "\n"
     ]
    },
    {
     "name": "stdout",
     "output_type": "stream",
     "text": [
      "response to stress\n"
     ]
    },
    {
     "name": "stderr",
     "output_type": "stream",
     "text": [
      "obolibrary\n",
      "obolibrary http://purl.obolibrary.org/obo/GO_0007049\n",
      "GRAPHSIZE:  33\n",
      "\n"
     ]
    },
    {
     "name": "stdout",
     "output_type": "stream",
     "text": [
      "cell cycle\n"
     ]
    },
    {
     "name": "stderr",
     "output_type": "stream",
     "text": [
      "obolibrary\n",
      "obolibrary http://purl.obolibrary.org/obo/GO_0007595\n",
      "GRAPHSIZE:  33\n",
      "\n"
     ]
    },
    {
     "name": "stdout",
     "output_type": "stream",
     "text": [
      "lactation\n"
     ]
    },
    {
     "name": "stderr",
     "output_type": "stream",
     "text": [
      "obolibrary\n",
      "obolibrary http://purl.obolibrary.org/obo/GO_0009556\n",
      "GRAPHSIZE:  22\n",
      "\n"
     ]
    },
    {
     "name": "stdout",
     "output_type": "stream",
     "text": [
      "microsporogenesis\n"
     ]
    },
    {
     "name": "stderr",
     "output_type": "stream",
     "text": [
      "obolibrary\n",
      "obolibrary http://purl.obolibrary.org/obo/GO_0051301\n",
      "GRAPHSIZE:  21\n",
      "\n"
     ]
    },
    {
     "name": "stdout",
     "output_type": "stream",
     "text": [
      "cell division\n"
     ]
    },
    {
     "name": "stderr",
     "output_type": "stream",
     "text": [
      "obolibrary\n",
      "obolibrary http://purl.obolibrary.org/obo/GO_0035194\n",
      "GRAPHSIZE:  35\n",
      "\n"
     ]
    },
    {
     "name": "stdout",
     "output_type": "stream",
     "text": [
      "regulatory ncRNA-mediated post-transcriptional gene silencing\n"
     ]
    },
    {
     "name": "stderr",
     "output_type": "stream",
     "text": [
      "obolibrary\n",
      "obolibrary http://purl.obolibrary.org/obo/GO_0007155\n",
      "GRAPHSIZE:  41\n",
      "\n"
     ]
    },
    {
     "name": "stdout",
     "output_type": "stream",
     "text": [
      "cell adhesion\n"
     ]
    },
    {
     "name": "stderr",
     "output_type": "stream",
     "text": [
      "obolibrary\n",
      "obolibrary http://purl.obolibrary.org/obo/GO_0015031\n",
      "GRAPHSIZE:  25\n",
      "\n"
     ]
    },
    {
     "name": "stdout",
     "output_type": "stream",
     "text": [
      "protein transport\n"
     ]
    },
    {
     "name": "stderr",
     "output_type": "stream",
     "text": [
      "obolibrary\n",
      "obolibrary http://purl.obolibrary.org/obo/GO_0006096\n",
      "GRAPHSIZE:  75\n",
      "\n"
     ]
    },
    {
     "name": "stdout",
     "output_type": "stream",
     "text": [
      "glycolytic process\n"
     ]
    },
    {
     "name": "stderr",
     "output_type": "stream",
     "text": [
      "obolibrary\n",
      "obolibrary http://purl.obolibrary.org/obo/GO_0009410\n",
      "GRAPHSIZE:  24\n",
      "\n"
     ]
    },
    {
     "name": "stdout",
     "output_type": "stream",
     "text": [
      "response to xenobiotic stimulus\n"
     ]
    },
    {
     "name": "stderr",
     "output_type": "stream",
     "text": [
      "obolibrary\n",
      "obolibrary http://purl.obolibrary.org/obo/GO_0099024\n",
      "GRAPHSIZE:  11\n",
      "\n"
     ]
    },
    {
     "name": "stdout",
     "output_type": "stream",
     "text": [
      "plasma membrane invagination\n"
     ]
    },
    {
     "name": "stderr",
     "output_type": "stream",
     "text": [
      "obolibrary\n",
      "obolibrary http://purl.obolibrary.org/obo/GO_0048870\n",
      "GRAPHSIZE:  29\n",
      "\n"
     ]
    },
    {
     "name": "stdout",
     "output_type": "stream",
     "text": [
      "cell motility\n"
     ]
    },
    {
     "name": "stderr",
     "output_type": "stream",
     "text": [
      "obolibrary\n",
      "obolibrary http://purl.obolibrary.org/obo/GO_0006396\n",
      "GRAPHSIZE:  35\n",
      "\n"
     ]
    },
    {
     "name": "stdout",
     "output_type": "stream",
     "text": [
      "RNA processing\n"
     ]
    },
    {
     "name": "stderr",
     "output_type": "stream",
     "text": [
      "obolibrary\n",
      "obolibrary http://purl.obolibrary.org/obo/GO_0009908\n",
      "GRAPHSIZE:  18\n",
      "\n"
     ]
    },
    {
     "name": "stdout",
     "output_type": "stream",
     "text": [
      "flower development\n"
     ]
    },
    {
     "name": "stderr",
     "output_type": "stream",
     "text": [
      "obolibrary\n",
      "obolibrary http://purl.obolibrary.org/obo/GO_0160109\n",
      "GRAPHSIZE:  19\n",
      "\n"
     ]
    },
    {
     "name": "stdout",
     "output_type": "stream",
     "text": [
      "plant gross anatomical part developmental process\n"
     ]
    },
    {
     "name": "stderr",
     "output_type": "stream",
     "text": [
      "obolibrary\n",
      "obolibrary http://purl.obolibrary.org/obo/GO_0005975\n",
      "GRAPHSIZE:  50\n",
      "\n"
     ]
    },
    {
     "name": "stdout",
     "output_type": "stream",
     "text": [
      "carbohydrate metabolic process\n"
     ]
    },
    {
     "name": "stderr",
     "output_type": "stream",
     "text": [
      "obolibrary\n",
      "obolibrary http://purl.obolibrary.org/obo/GO_0006486\n",
      "GRAPHSIZE:  38\n",
      "\n"
     ]
    },
    {
     "name": "stdout",
     "output_type": "stream",
     "text": [
      "protein glycosylation\n"
     ]
    },
    {
     "name": "stderr",
     "output_type": "stream",
     "text": [
      "obolibrary\n",
      "obolibrary http://purl.obolibrary.org/obo/GO_0060004\n",
      "GRAPHSIZE:  13\n",
      "\n"
     ]
    },
    {
     "name": "stdout",
     "output_type": "stream",
     "text": [
      "reflex\n"
     ]
    },
    {
     "name": "stderr",
     "output_type": "stream",
     "text": [
      "obolibrary\n",
      "obolibrary http://purl.obolibrary.org/obo/GO_0009844\n",
      "GRAPHSIZE:  14\n",
      "\n"
     ]
    },
    {
     "name": "stdout",
     "output_type": "stream",
     "text": [
      "obsolete germination\n"
     ]
    },
    {
     "name": "stderr",
     "output_type": "stream",
     "text": [
      "obolibrary\n",
      "obolibrary http://purl.obolibrary.org/obo/GO_0072583\n",
      "GRAPHSIZE:  19\n",
      "\n"
     ]
    },
    {
     "name": "stdout",
     "output_type": "stream",
     "text": [
      "clathrin-dependent endocytosis\n"
     ]
    },
    {
     "name": "stderr",
     "output_type": "stream",
     "text": [
      "obolibrary\n",
      "obolibrary http://purl.obolibrary.org/obo/GO_0007618\n",
      "GRAPHSIZE:  20\n",
      "\n"
     ]
    },
    {
     "name": "stdout",
     "output_type": "stream",
     "text": [
      "mating\n"
     ]
    },
    {
     "name": "stderr",
     "output_type": "stream",
     "text": [
      "obolibrary\n",
      "obolibrary http://purl.obolibrary.org/obo/GO_0006113\n",
      "GRAPHSIZE:  20\n",
      "\n"
     ]
    },
    {
     "name": "stdout",
     "output_type": "stream",
     "text": [
      "fermentation\n"
     ]
    },
    {
     "name": "stderr",
     "output_type": "stream",
     "text": [
      "obolibrary\n",
      "obolibrary http://purl.obolibrary.org/obo/GO_0016055\n",
      "GRAPHSIZE:  28\n",
      "\n"
     ]
    },
    {
     "name": "stdout",
     "output_type": "stream",
     "text": [
      "Wnt signaling pathway\n"
     ]
    },
    {
     "name": "stderr",
     "output_type": "stream",
     "text": [
      "obolibrary\n",
      "obolibrary http://purl.obolibrary.org/obo/GO_0048658\n",
      "GRAPHSIZE:  26\n",
      "\n"
     ]
    },
    {
     "name": "stdout",
     "output_type": "stream",
     "text": [
      "anther wall tapetum development\n"
     ]
    },
    {
     "name": "stderr",
     "output_type": "stream",
     "text": [
      "obolibrary\n",
      "obolibrary http://purl.obolibrary.org/obo/GO_0006887\n",
      "GRAPHSIZE:  35\n",
      "\n"
     ]
    },
    {
     "name": "stdout",
     "output_type": "stream",
     "text": [
      "exocytosis\n"
     ]
    },
    {
     "name": "stderr",
     "output_type": "stream",
     "text": [
      "obolibrary\n",
      "obolibrary http://purl.obolibrary.org/obo/GO_0042310\n",
      "GRAPHSIZE:  17\n",
      "\n"
     ]
    },
    {
     "name": "stdout",
     "output_type": "stream",
     "text": [
      "vasoconstriction\n"
     ]
    },
    {
     "name": "stderr",
     "output_type": "stream",
     "text": [
      "obolibrary\n",
      "obolibrary http://purl.obolibrary.org/obo/GO_0015979\n",
      "GRAPHSIZE:  30\n",
      "\n"
     ]
    },
    {
     "name": "stdout",
     "output_type": "stream",
     "text": [
      "photosynthesis\n"
     ]
    },
    {
     "name": "stderr",
     "output_type": "stream",
     "text": [
      "obolibrary\n",
      "obolibrary http://purl.obolibrary.org/obo/GO_0043113\n",
      "GRAPHSIZE:  19\n",
      "\n"
     ]
    },
    {
     "name": "stdout",
     "output_type": "stream",
     "text": [
      "receptor clustering\n"
     ]
    },
    {
     "name": "stderr",
     "output_type": "stream",
     "text": [
      "obolibrary\n",
      "obolibrary http://purl.obolibrary.org/obo/GO_0140053\n",
      "GRAPHSIZE:  38\n",
      "\n"
     ]
    },
    {
     "name": "stdout",
     "output_type": "stream",
     "text": [
      "mitochondrial gene expression\n"
     ]
    },
    {
     "name": "stderr",
     "output_type": "stream",
     "text": [
      "obolibrary\n",
      "obolibrary http://purl.obolibrary.org/obo/GO_0001508\n",
      "GRAPHSIZE:  12\n",
      "\n"
     ]
    },
    {
     "name": "stdout",
     "output_type": "stream",
     "text": [
      "action potential\n"
     ]
    },
    {
     "name": "stderr",
     "output_type": "stream",
     "text": [
      "obolibrary\n",
      "obolibrary http://purl.obolibrary.org/obo/GO_0010468\n",
      "GRAPHSIZE:  49\n",
      "\n"
     ]
    },
    {
     "name": "stdout",
     "output_type": "stream",
     "text": [
      "regulation of gene expression\n"
     ]
    },
    {
     "name": "stderr",
     "output_type": "stream",
     "text": [
      "obolibrary\n",
      "obolibrary http://purl.obolibrary.org/obo/GO_0009566\n",
      "GRAPHSIZE:  26\n",
      "\n"
     ]
    },
    {
     "name": "stdout",
     "output_type": "stream",
     "text": [
      "fertilization\n"
     ]
    },
    {
     "name": "stderr",
     "output_type": "stream",
     "text": [
      "obolibrary\n",
      "obolibrary http://purl.obolibrary.org/obo/GO_0046849\n",
      "GRAPHSIZE:  15\n",
      "\n"
     ]
    },
    {
     "name": "stdout",
     "output_type": "stream",
     "text": [
      "bone remodeling\n"
     ]
    },
    {
     "name": "stderr",
     "output_type": "stream",
     "text": [
      "obolibrary\n",
      "obolibrary http://purl.obolibrary.org/obo/GO_0009616\n",
      "GRAPHSIZE:  32\n",
      "\n"
     ]
    },
    {
     "name": "stdout",
     "output_type": "stream",
     "text": [
      "RNAi-mediated antiviral immune response\n"
     ]
    },
    {
     "name": "stderr",
     "output_type": "stream",
     "text": [
      "obolibrary\n",
      "obolibrary http://purl.obolibrary.org/obo/GO_0050817\n",
      "GRAPHSIZE:  16\n",
      "\n"
     ]
    },
    {
     "name": "stdout",
     "output_type": "stream",
     "text": [
      "coagulation\n"
     ]
    },
    {
     "name": "stderr",
     "output_type": "stream",
     "text": [
      "obolibrary\n",
      "obolibrary http://purl.obolibrary.org/obo/GO_0019722\n",
      "GRAPHSIZE:  18\n",
      "\n"
     ]
    },
    {
     "name": "stdout",
     "output_type": "stream",
     "text": [
      "calcium-mediated signaling\n"
     ]
    },
    {
     "name": "stderr",
     "output_type": "stream",
     "text": [
      "obolibrary\n",
      "obolibrary http://purl.obolibrary.org/obo/GO_0010629\n",
      "GRAPHSIZE:  39\n",
      "\n"
     ]
    },
    {
     "name": "stdout",
     "output_type": "stream",
     "text": [
      "negative regulation of gene expression\n"
     ]
    },
    {
     "name": "stderr",
     "output_type": "stream",
     "text": [
      "obolibrary\n",
      "obolibrary http://purl.obolibrary.org/obo/GO_0007530\n",
      "GRAPHSIZE:  13\n",
      "\n"
     ]
    },
    {
     "name": "stdout",
     "output_type": "stream",
     "text": [
      "sex determination\n"
     ]
    },
    {
     "name": "stderr",
     "output_type": "stream",
     "text": [
      "obolibrary\n",
      "obolibrary http://purl.obolibrary.org/obo/GO_0042311\n",
      "GRAPHSIZE:  20\n",
      "\n"
     ]
    },
    {
     "name": "stdout",
     "output_type": "stream",
     "text": [
      "vasodilation\n"
     ]
    },
    {
     "name": "stderr",
     "output_type": "stream",
     "text": [
      "obolibrary\n",
      "obolibrary http://purl.obolibrary.org/obo/GO_0042697\n",
      "GRAPHSIZE:  20\n",
      "\n"
     ]
    },
    {
     "name": "stdout",
     "output_type": "stream",
     "text": [
      "menopause\n"
     ]
    },
    {
     "name": "stderr",
     "output_type": "stream",
     "text": [
      "obolibrary\n",
      "obolibrary http://purl.obolibrary.org/obo/GO_0006298\n",
      "GRAPHSIZE:  23\n",
      "\n"
     ]
    },
    {
     "name": "stdout",
     "output_type": "stream",
     "text": [
      "mismatch repair\n"
     ]
    },
    {
     "name": "stderr",
     "output_type": "stream",
     "text": [
      "obolibrary\n",
      "obolibrary http://purl.obolibrary.org/obo/GO_0006508\n",
      "GRAPHSIZE:  25\n",
      "\n"
     ]
    },
    {
     "name": "stdout",
     "output_type": "stream",
     "text": [
      "proteolysis\n"
     ]
    },
    {
     "name": "stderr",
     "output_type": "stream",
     "text": [
      "obolibrary\n",
      "obolibrary http://purl.obolibrary.org/obo/GO_0035282\n",
      "GRAPHSIZE:  13\n",
      "\n"
     ]
    },
    {
     "name": "stdout",
     "output_type": "stream",
     "text": [
      "segmentation\n"
     ]
    },
    {
     "name": "stderr",
     "output_type": "stream",
     "text": [
      "obolibrary\n",
      "obolibrary http://purl.obolibrary.org/obo/GO_0044849\n",
      "GRAPHSIZE:  17\n",
      "\n"
     ]
    },
    {
     "name": "stdout",
     "output_type": "stream",
     "text": [
      "estrous cycle\n"
     ]
    },
    {
     "name": "stderr",
     "output_type": "stream",
     "text": [
      "obolibrary\n",
      "obolibrary http://purl.obolibrary.org/obo/GO_0010286\n",
      "GRAPHSIZE:  13\n",
      "\n"
     ]
    },
    {
     "name": "stdout",
     "output_type": "stream",
     "text": [
      "heat acclimation\n"
     ]
    },
    {
     "name": "stderr",
     "output_type": "stream",
     "text": [
      "obolibrary\n",
      "obolibrary http://purl.obolibrary.org/obo/GO_0045453\n",
      "GRAPHSIZE:  22\n",
      "\n"
     ]
    },
    {
     "name": "stdout",
     "output_type": "stream",
     "text": [
      "bone resorption\n"
     ]
    },
    {
     "name": "stderr",
     "output_type": "stream",
     "text": [
      "obolibrary\n",
      "obolibrary http://purl.obolibrary.org/obo/GO_0042756\n",
      "GRAPHSIZE:  13\n",
      "\n"
     ]
    },
    {
     "name": "stdout",
     "output_type": "stream",
     "text": [
      "drinking behavior\n"
     ]
    },
    {
     "name": "stderr",
     "output_type": "stream",
     "text": [
      "obolibrary\n",
      "obolibrary http://purl.obolibrary.org/obo/GO_0016049\n",
      "GRAPHSIZE:  34\n",
      "\n"
     ]
    },
    {
     "name": "stdout",
     "output_type": "stream",
     "text": [
      "cell growth\n"
     ]
    },
    {
     "name": "stderr",
     "output_type": "stream",
     "text": [
      "obolibrary\n",
      "obolibrary http://purl.obolibrary.org/obo/GO_0002082\n",
      "GRAPHSIZE:  34\n",
      "\n"
     ]
    },
    {
     "name": "stdout",
     "output_type": "stream",
     "text": [
      "regulation of oxidative phosphorylation\n"
     ]
    },
    {
     "name": "stderr",
     "output_type": "stream",
     "text": [
      "obolibrary\n",
      "obolibrary http://purl.obolibrary.org/obo/GO_0032543\n",
      "GRAPHSIZE:  54\n",
      "\n"
     ]
    },
    {
     "name": "stdout",
     "output_type": "stream",
     "text": [
      "mitochondrial translation\n"
     ]
    },
    {
     "name": "stderr",
     "output_type": "stream",
     "text": [
      "obolibrary\n",
      "obolibrary http://purl.obolibrary.org/obo/GO_0006754\n",
      "GRAPHSIZE:  27\n",
      "\n"
     ]
    },
    {
     "name": "stdout",
     "output_type": "stream",
     "text": [
      "ATP biosynthetic process\n"
     ]
    },
    {
     "name": "stderr",
     "output_type": "stream",
     "text": [
      "obolibrary\n",
      "obolibrary http://purl.obolibrary.org/obo/GO_0006090\n",
      "GRAPHSIZE:  28\n",
      "\n"
     ]
    },
    {
     "name": "stdout",
     "output_type": "stream",
     "text": [
      "pyruvate metabolic process\n"
     ]
    },
    {
     "name": "stderr",
     "output_type": "stream",
     "text": [
      "obolibrary\n",
      "obolibrary http://purl.obolibrary.org/obo/GO_0022904\n",
      "GRAPHSIZE:  34\n",
      "\n"
     ]
    },
    {
     "name": "stdout",
     "output_type": "stream",
     "text": [
      "respiratory electron transport chain\n"
     ]
    },
    {
     "name": "stderr",
     "output_type": "stream",
     "text": [
      "obolibrary\n",
      "obolibrary http://purl.obolibrary.org/obo/GO_0042775\n",
      "GRAPHSIZE:  32\n",
      "\n"
     ]
    },
    {
     "name": "stdout",
     "output_type": "stream",
     "text": [
      "mitochondrial ATP synthesis coupled electron transport\n"
     ]
    },
    {
     "name": "stderr",
     "output_type": "stream",
     "text": [
      "obolibrary\n",
      "obolibrary http://purl.obolibrary.org/obo/GO_0007005\n",
      "GRAPHSIZE:  35\n",
      "\n"
     ]
    },
    {
     "name": "stdout",
     "output_type": "stream",
     "text": [
      "mitochondrion organization\n"
     ]
    },
    {
     "name": "stderr",
     "output_type": "stream",
     "text": [
      "obolibrary\n",
      "obolibrary http://purl.obolibrary.org/obo/GO_0006573\n",
      "GRAPHSIZE:  16\n",
      "\n"
     ]
    },
    {
     "name": "stdout",
     "output_type": "stream",
     "text": [
      "valine metabolic process\n"
     ]
    },
    {
     "name": "stderr",
     "output_type": "stream",
     "text": [
      "obolibrary\n",
      "obolibrary http://purl.obolibrary.org/obo/GO_0006574\n",
      "GRAPHSIZE:  23\n",
      "\n"
     ]
    },
    {
     "name": "stdout",
     "output_type": "stream",
     "text": [
      "valine catabolic process\n"
     ]
    },
    {
     "name": "stderr",
     "output_type": "stream",
     "text": [
      "obolibrary\n",
      "obolibrary http://purl.obolibrary.org/obo/GO_0032981\n",
      "GRAPHSIZE:  19\n",
      "\n"
     ]
    },
    {
     "name": "stdout",
     "output_type": "stream",
     "text": [
      "mitochondrial respiratory chain complex I assembly\n"
     ]
    },
    {
     "name": "stderr",
     "output_type": "stream",
     "text": [
      "obolibrary\n",
      "obolibrary http://purl.obolibrary.org/obo/GO_0006635\n",
      "GRAPHSIZE:  27\n",
      "\n"
     ]
    },
    {
     "name": "stdout",
     "output_type": "stream",
     "text": [
      "fatty acid beta-oxidation\n"
     ]
    },
    {
     "name": "stderr",
     "output_type": "stream",
     "text": [
      "obolibrary\n",
      "obolibrary http://purl.obolibrary.org/obo/GO_0000266\n",
      "GRAPHSIZE:  18\n",
      "\n"
     ]
    },
    {
     "name": "stdout",
     "output_type": "stream",
     "text": [
      "mitochondrial fission\n"
     ]
    },
    {
     "name": "stderr",
     "output_type": "stream",
     "text": [
      "obolibrary\n",
      "obolibrary http://purl.obolibrary.org/obo/GO_0006200\n",
      "GRAPHSIZE:  22\n",
      "\n"
     ]
    },
    {
     "name": "stdout",
     "output_type": "stream",
     "text": [
      "obsolete ATP catabolic process\n"
     ]
    },
    {
     "name": "stderr",
     "output_type": "stream",
     "text": [
      "obolibrary\n",
      "obolibrary http://purl.obolibrary.org/obo/GO_0006631\n",
      "GRAPHSIZE:  23\n",
      "\n"
     ]
    },
    {
     "name": "stdout",
     "output_type": "stream",
     "text": [
      "fatty acid metabolic process\n"
     ]
    },
    {
     "name": "stderr",
     "output_type": "stream",
     "text": [
      "obolibrary\n",
      "obolibrary http://purl.obolibrary.org/obo/GO_0097009\n",
      "GRAPHSIZE:  23\n",
      "\n"
     ]
    },
    {
     "name": "stdout",
     "output_type": "stream",
     "text": [
      "energy homeostasis\n"
     ]
    },
    {
     "name": "stderr",
     "output_type": "stream",
     "text": [
      "obolibrary\n",
      "obolibrary http://purl.obolibrary.org/obo/GO_0051259\n",
      "GRAPHSIZE:  26\n",
      "\n"
     ]
    },
    {
     "name": "stdout",
     "output_type": "stream",
     "text": [
      "protein complex oligomerization\n"
     ]
    },
    {
     "name": "stderr",
     "output_type": "stream",
     "text": [
      "obolibrary\n",
      "obolibrary http://purl.obolibrary.org/obo/GO_0048477\n",
      "GRAPHSIZE:  21\n",
      "\n"
     ]
    },
    {
     "name": "stdout",
     "output_type": "stream",
     "text": [
      "oogenesis\n"
     ]
    },
    {
     "name": "stderr",
     "output_type": "stream",
     "text": [
      "obolibrary\n",
      "obolibrary http://purl.obolibrary.org/obo/GO_0006784\n",
      "GRAPHSIZE:  21\n",
      "\n"
     ]
    },
    {
     "name": "stdout",
     "output_type": "stream",
     "text": [
      "heme A biosynthetic process\n"
     ]
    },
    {
     "name": "stderr",
     "output_type": "stream",
     "text": [
      "obolibrary\n",
      "obolibrary http://purl.obolibrary.org/obo/GO_0006264\n",
      "GRAPHSIZE:  36\n",
      "\n"
     ]
    },
    {
     "name": "stdout",
     "output_type": "stream",
     "text": [
      "mitochondrial DNA replication\n"
     ]
    },
    {
     "name": "stderr",
     "output_type": "stream",
     "text": [
      "obolibrary\n",
      "obolibrary http://purl.obolibrary.org/obo/GO_0006390\n",
      "GRAPHSIZE:  43\n",
      "\n"
     ]
    },
    {
     "name": "stdout",
     "output_type": "stream",
     "text": [
      "mitochondrial transcription\n"
     ]
    },
    {
     "name": "stderr",
     "output_type": "stream",
     "text": [
      "obolibrary\n",
      "obolibrary http://purl.obolibrary.org/obo/GO_0019725\n",
      "GRAPHSIZE:  18\n",
      "\n"
     ]
    },
    {
     "name": "stdout",
     "output_type": "stream",
     "text": [
      "cellular homeostasis\n"
     ]
    },
    {
     "name": "stderr",
     "output_type": "stream",
     "text": [
      "obolibrary\n",
      "obolibrary http://purl.obolibrary.org/obo/GO_0006413\n",
      "GRAPHSIZE:  43\n",
      "\n"
     ]
    },
    {
     "name": "stdout",
     "output_type": "stream",
     "text": [
      "translational initiation\n"
     ]
    },
    {
     "name": "stderr",
     "output_type": "stream",
     "text": [
      "obolibrary\n",
      "obolibrary http://purl.obolibrary.org/obo/GO_1903409\n",
      "GRAPHSIZE:  27\n",
      "\n"
     ]
    },
    {
     "name": "stdout",
     "output_type": "stream",
     "text": [
      "reactive oxygen species biosynthetic process\n"
     ]
    },
    {
     "name": "stderr",
     "output_type": "stream",
     "text": [
      "obolibrary\n",
      "obolibrary http://purl.obolibrary.org/obo/GO_0014889\n",
      "GRAPHSIZE:  14\n",
      "\n"
     ]
    },
    {
     "name": "stdout",
     "output_type": "stream",
     "text": [
      "muscle atrophy\n"
     ]
    },
    {
     "name": "stderr",
     "output_type": "stream",
     "text": [
      "obolibrary\n",
      "obolibrary http://purl.obolibrary.org/obo/GO_0006094\n",
      "GRAPHSIZE:  22\n",
      "\n"
     ]
    },
    {
     "name": "stdout",
     "output_type": "stream",
     "text": [
      "gluconeogenesis\n"
     ]
    },
    {
     "name": "stderr",
     "output_type": "stream",
     "text": [
      "obolibrary\n",
      "obolibrary http://purl.obolibrary.org/obo/GO_0009063\n",
      "GRAPHSIZE:  21\n",
      "\n"
     ]
    },
    {
     "name": "stdout",
     "output_type": "stream",
     "text": [
      "amino acid catabolic process\n"
     ]
    },
    {
     "name": "stderr",
     "output_type": "stream",
     "text": [
      "obolibrary\n",
      "obolibrary http://purl.obolibrary.org/obo/GO_0034514\n",
      "GRAPHSIZE:  13\n",
      "\n"
     ]
    },
    {
     "name": "stdout",
     "output_type": "stream",
     "text": [
      "mitochondrial unfolded protein response\n"
     ]
    },
    {
     "name": "stderr",
     "output_type": "stream",
     "text": [
      "obolibrary\n",
      "obolibrary http://purl.obolibrary.org/obo/GO_0110148\n",
      "GRAPHSIZE:  25\n",
      "\n"
     ]
    },
    {
     "name": "stdout",
     "output_type": "stream",
     "text": [
      "obsolete biomineralization\n"
     ]
    },
    {
     "name": "stderr",
     "output_type": "stream",
     "text": [
      "obolibrary\n",
      "obolibrary http://purl.obolibrary.org/obo/GO_0000394\n",
      "GRAPHSIZE:  14\n",
      "\n"
     ]
    },
    {
     "name": "stdout",
     "output_type": "stream",
     "text": [
      "RNA splicing, via endonucleolytic cleavage and ligation\n"
     ]
    },
    {
     "name": "stderr",
     "output_type": "stream",
     "text": [
      "obolibrary\n",
      "obolibrary http://purl.obolibrary.org/obo/GO_0045821\n",
      "GRAPHSIZE:  49\n",
      "\n"
     ]
    },
    {
     "name": "stdout",
     "output_type": "stream",
     "text": [
      "positive regulation of glycolytic process\n"
     ]
    },
    {
     "name": "stderr",
     "output_type": "stream",
     "text": [
      "obolibrary\n",
      "obolibrary http://purl.obolibrary.org/obo/GO_0045851\n",
      "GRAPHSIZE:  13\n",
      "\n"
     ]
    },
    {
     "name": "stdout",
     "output_type": "stream",
     "text": [
      "pH reduction\n"
     ]
    },
    {
     "name": "stderr",
     "output_type": "stream",
     "text": [
      "obolibrary\n",
      "obolibrary http://purl.obolibrary.org/obo/GO_0043526\n",
      "GRAPHSIZE:  14\n",
      "\n"
     ]
    },
    {
     "name": "stdout",
     "output_type": "stream",
     "text": [
      "obsolete neuroprotection\n"
     ]
    },
    {
     "name": "stderr",
     "output_type": "stream",
     "text": [
      "obolibrary\n",
      "obolibrary http://purl.obolibrary.org/obo/GO_0043687\n",
      "GRAPHSIZE:  22\n",
      "\n"
     ]
    },
    {
     "name": "stdout",
     "output_type": "stream",
     "text": [
      "post-translational protein modification\n"
     ]
    },
    {
     "name": "stderr",
     "output_type": "stream",
     "text": [
      "obolibrary\n",
      "obolibrary http://purl.obolibrary.org/obo/GO_0006730\n",
      "GRAPHSIZE:  25\n",
      "\n"
     ]
    },
    {
     "name": "stdout",
     "output_type": "stream",
     "text": [
      "one-carbon metabolic process\n"
     ]
    },
    {
     "name": "stderr",
     "output_type": "stream",
     "text": [
      "obolibrary\n",
      "obolibrary http://purl.obolibrary.org/obo/GO_0008053\n",
      "GRAPHSIZE:  26\n",
      "\n"
     ]
    },
    {
     "name": "stdout",
     "output_type": "stream",
     "text": [
      "mitochondrial fusion\n"
     ]
    },
    {
     "name": "stderr",
     "output_type": "stream",
     "text": [
      "obolibrary\n",
      "obolibrary http://purl.obolibrary.org/obo/GO_0006772\n",
      "GRAPHSIZE:  22\n",
      "\n"
     ]
    },
    {
     "name": "stdout",
     "output_type": "stream",
     "text": [
      "thiamine metabolic process\n"
     ]
    },
    {
     "name": "stderr",
     "output_type": "stream",
     "text": [
      "obolibrary\n",
      "obolibrary http://purl.obolibrary.org/obo/GO_0048565\n",
      "GRAPHSIZE:  25\n",
      "\n"
     ]
    },
    {
     "name": "stdout",
     "output_type": "stream",
     "text": [
      "digestive tract development\n"
     ]
    },
    {
     "name": "stderr",
     "output_type": "stream",
     "text": [
      "obolibrary\n",
      "obolibrary http://purl.obolibrary.org/obo/GO_0006006\n",
      "GRAPHSIZE:  16\n",
      "\n"
     ]
    },
    {
     "name": "stdout",
     "output_type": "stream",
     "text": [
      "glucose metabolic process\n"
     ]
    },
    {
     "name": "stderr",
     "output_type": "stream",
     "text": [
      "obolibrary\n",
      "obolibrary http://purl.obolibrary.org/obo/GO_0097707\n",
      "GRAPHSIZE:  17\n",
      "\n"
     ]
    },
    {
     "name": "stdout",
     "output_type": "stream",
     "text": [
      "ferroptosis\n"
     ]
    },
    {
     "name": "stderr",
     "output_type": "stream",
     "text": [
      "obolibrary\n",
      "obolibrary http://purl.obolibrary.org/obo/GO_0006909\n",
      "GRAPHSIZE:  16\n",
      "\n"
     ]
    },
    {
     "name": "stdout",
     "output_type": "stream",
     "text": [
      "phagocytosis\n"
     ]
    },
    {
     "name": "stderr",
     "output_type": "stream",
     "text": [
      "obolibrary\n",
      "obolibrary http://purl.obolibrary.org/obo/GO_0015888\n",
      "GRAPHSIZE:  23\n",
      "\n"
     ]
    },
    {
     "name": "stdout",
     "output_type": "stream",
     "text": [
      "thiamine transport\n"
     ]
    },
    {
     "name": "stderr",
     "output_type": "stream",
     "text": [
      "obolibrary\n",
      "obolibrary http://purl.obolibrary.org/obo/GO_0016070\n",
      "GRAPHSIZE:  28\n",
      "\n"
     ]
    },
    {
     "name": "stdout",
     "output_type": "stream",
     "text": [
      "RNA metabolic process\n"
     ]
    },
    {
     "name": "stderr",
     "output_type": "stream",
     "text": [
      "obolibrary\n",
      "obolibrary http://purl.obolibrary.org/obo/GO_0006309\n",
      "GRAPHSIZE:  45\n",
      "\n"
     ]
    },
    {
     "name": "stdout",
     "output_type": "stream",
     "text": [
      "apoptotic DNA fragmentation\n"
     ]
    },
    {
     "name": "stderr",
     "output_type": "stream",
     "text": [
      "obolibrary\n",
      "obolibrary http://purl.obolibrary.org/obo/GO_0017038\n",
      "GRAPHSIZE:  13\n",
      "\n"
     ]
    },
    {
     "name": "stdout",
     "output_type": "stream",
     "text": [
      "protein import\n"
     ]
    },
    {
     "name": "stderr",
     "output_type": "stream",
     "text": [
      "obolibrary\n",
      "obolibrary http://purl.obolibrary.org/obo/GO_0006699\n",
      "GRAPHSIZE:  21\n",
      "\n"
     ]
    },
    {
     "name": "stdout",
     "output_type": "stream",
     "text": [
      "bile acid biosynthetic process\n"
     ]
    },
    {
     "name": "stderr",
     "output_type": "stream",
     "text": [
      "obolibrary\n",
      "obolibrary http://purl.obolibrary.org/obo/GO_0001764\n",
      "GRAPHSIZE:  28\n",
      "\n"
     ]
    },
    {
     "name": "stdout",
     "output_type": "stream",
     "text": [
      "neuron migration\n"
     ]
    },
    {
     "name": "stderr",
     "output_type": "stream",
     "text": [
      "obolibrary\n",
      "obolibrary http://purl.obolibrary.org/obo/GO_0000747\n",
      "GRAPHSIZE:  39\n",
      "\n"
     ]
    },
    {
     "name": "stdout",
     "output_type": "stream",
     "text": [
      "conjugation with cellular fusion\n"
     ]
    },
    {
     "name": "stderr",
     "output_type": "stream",
     "text": [
      "obolibrary\n",
      "obolibrary http://purl.obolibrary.org/obo/GO_0008611\n",
      "GRAPHSIZE:  28\n",
      "\n"
     ]
    },
    {
     "name": "stdout",
     "output_type": "stream",
     "text": [
      "ether lipid biosynthetic process\n"
     ]
    },
    {
     "name": "stderr",
     "output_type": "stream",
     "text": [
      "obolibrary\n",
      "obolibrary http://purl.obolibrary.org/obo/GO_0008654\n",
      "GRAPHSIZE:  25\n",
      "\n"
     ]
    },
    {
     "name": "stdout",
     "output_type": "stream",
     "text": [
      "phospholipid biosynthetic process\n"
     ]
    },
    {
     "name": "stderr",
     "output_type": "stream",
     "text": [
      "obolibrary\n",
      "obolibrary http://purl.obolibrary.org/obo/GO_0071709\n",
      "GRAPHSIZE:  27\n",
      "\n"
     ]
    },
    {
     "name": "stdout",
     "output_type": "stream",
     "text": [
      "membrane assembly\n"
     ]
    },
    {
     "name": "stderr",
     "output_type": "stream",
     "text": [
      "obolibrary\n",
      "obolibrary http://purl.obolibrary.org/obo/GO_0008206\n",
      "GRAPHSIZE:  18\n",
      "\n"
     ]
    },
    {
     "name": "stdout",
     "output_type": "stream",
     "text": [
      "bile acid metabolic process\n"
     ]
    },
    {
     "name": "stderr",
     "output_type": "stream",
     "text": [
      "obolibrary\n",
      "obolibrary http://purl.obolibrary.org/obo/GO_0016559\n",
      "GRAPHSIZE:  23\n",
      "\n"
     ]
    },
    {
     "name": "stdout",
     "output_type": "stream",
     "text": [
      "peroxisome fission\n"
     ]
    },
    {
     "name": "stderr",
     "output_type": "stream",
     "text": [
      "obolibrary\n",
      "obolibrary http://purl.obolibrary.org/obo/GO_0051641\n",
      "GRAPHSIZE:  38\n",
      "\n"
     ]
    },
    {
     "name": "stdout",
     "output_type": "stream",
     "text": [
      "cellular localization\n"
     ]
    },
    {
     "name": "stderr",
     "output_type": "stream",
     "text": [
      "obolibrary\n",
      "obolibrary http://purl.obolibrary.org/obo/GO_0042632\n",
      "GRAPHSIZE:  17\n",
      "\n"
     ]
    },
    {
     "name": "stdout",
     "output_type": "stream",
     "text": [
      "cholesterol homeostasis\n"
     ]
    },
    {
     "name": "stderr",
     "output_type": "stream",
     "text": [
      "obolibrary\n",
      "obolibrary http://purl.obolibrary.org/obo/GO_0050892\n",
      "GRAPHSIZE:  15\n",
      "\n"
     ]
    },
    {
     "name": "stdout",
     "output_type": "stream",
     "text": [
      "intestinal absorption\n"
     ]
    },
    {
     "name": "stderr",
     "output_type": "stream",
     "text": [
      "obolibrary\n",
      "obolibrary http://purl.obolibrary.org/obo/GO_0006605\n",
      "GRAPHSIZE:  26\n",
      "\n"
     ]
    },
    {
     "name": "stdout",
     "output_type": "stream",
     "text": [
      "protein targeting\n"
     ]
    },
    {
     "name": "stderr",
     "output_type": "stream",
     "text": [
      "obolibrary\n",
      "obolibrary http://purl.obolibrary.org/obo/GO_0006694\n",
      "GRAPHSIZE:  22\n",
      "\n"
     ]
    },
    {
     "name": "stdout",
     "output_type": "stream",
     "text": [
      "steroid biosynthetic process\n"
     ]
    },
    {
     "name": "stderr",
     "output_type": "stream",
     "text": [
      "obolibrary\n",
      "obolibrary http://purl.obolibrary.org/obo/GO_1990523\n",
      "GRAPHSIZE:  15\n",
      "\n"
     ]
    },
    {
     "name": "stdout",
     "output_type": "stream",
     "text": [
      "bone regeneration\n"
     ]
    },
    {
     "name": "stderr",
     "output_type": "stream",
     "text": [
      "obolibrary\n",
      "obolibrary http://purl.obolibrary.org/obo/GO_0016112\n",
      "GRAPHSIZE:  22\n",
      "\n"
     ]
    },
    {
     "name": "stdout",
     "output_type": "stream",
     "text": [
      "polyterpenoid biosynthetic process\n"
     ]
    },
    {
     "name": "stderr",
     "output_type": "stream",
     "text": [
      "obolibrary\n",
      "obolibrary http://purl.obolibrary.org/obo/GO_0071626\n",
      "GRAPHSIZE:  17\n",
      "\n"
     ]
    },
    {
     "name": "stdout",
     "output_type": "stream",
     "text": [
      "mastication\n"
     ]
    },
    {
     "name": "stderr",
     "output_type": "stream",
     "text": [
      "obolibrary\n",
      "obolibrary http://purl.obolibrary.org/obo/GO_0048513\n",
      "GRAPHSIZE:  18\n",
      "\n"
     ]
    },
    {
     "name": "stdout",
     "output_type": "stream",
     "text": [
      "animal organ development\n"
     ]
    },
    {
     "name": "stderr",
     "output_type": "stream",
     "text": [
      "obolibrary\n",
      "obolibrary http://purl.obolibrary.org/obo/GO_0044091\n",
      "GRAPHSIZE:  11\n",
      "\n"
     ]
    },
    {
     "name": "stdout",
     "output_type": "stream",
     "text": [
      "membrane biogenesis\n"
     ]
    },
    {
     "name": "stderr",
     "output_type": "stream",
     "text": [
      "obolibrary\n",
      "obolibrary http://purl.obolibrary.org/obo/GO_0070925\n",
      "GRAPHSIZE:  21\n",
      "\n"
     ]
    },
    {
     "name": "stdout",
     "output_type": "stream",
     "text": [
      "organelle assembly\n"
     ]
    },
    {
     "name": "stderr",
     "output_type": "stream",
     "text": [
      "obolibrary\n",
      "obolibrary http://purl.obolibrary.org/obo/GO_0006468\n",
      "GRAPHSIZE:  21\n",
      "\n"
     ]
    },
    {
     "name": "stdout",
     "output_type": "stream",
     "text": [
      "protein phosphorylation\n"
     ]
    },
    {
     "name": "stderr",
     "output_type": "stream",
     "text": [
      "obolibrary\n",
      "obolibrary http://purl.obolibrary.org/obo/GO_0042063\n",
      "GRAPHSIZE:  13\n",
      "\n"
     ]
    },
    {
     "name": "stdout",
     "output_type": "stream",
     "text": [
      "gliogenesis\n"
     ]
    },
    {
     "name": "stderr",
     "output_type": "stream",
     "text": [
      "obolibrary\n",
      "obolibrary http://purl.obolibrary.org/obo/GO_0006633\n",
      "GRAPHSIZE:  28\n",
      "\n"
     ]
    },
    {
     "name": "stdout",
     "output_type": "stream",
     "text": [
      "fatty acid biosynthetic process\n"
     ]
    },
    {
     "name": "stderr",
     "output_type": "stream",
     "text": [
      "obolibrary\n",
      "obolibrary http://purl.obolibrary.org/obo/GO_0051319\n",
      "GRAPHSIZE:  26\n",
      "\n"
     ]
    },
    {
     "name": "stdout",
     "output_type": "stream",
     "text": [
      "G2 phase\n"
     ]
    },
    {
     "name": "stderr",
     "output_type": "stream",
     "text": [
      "obolibrary\n",
      "obolibrary http://purl.obolibrary.org/obo/GO_0008203\n",
      "GRAPHSIZE:  16\n",
      "\n"
     ]
    },
    {
     "name": "stdout",
     "output_type": "stream",
     "text": [
      "cholesterol metabolic process\n"
     ]
    },
    {
     "name": "stderr",
     "output_type": "stream",
     "text": [
      "obolibrary\n",
      "obolibrary http://purl.obolibrary.org/obo/GO_0030308\n",
      "GRAPHSIZE:  43\n",
      "\n"
     ]
    },
    {
     "name": "stdout",
     "output_type": "stream",
     "text": [
      "negative regulation of cell growth\n"
     ]
    },
    {
     "name": "stderr",
     "output_type": "stream",
     "text": [
      "obolibrary\n",
      "obolibrary http://purl.obolibrary.org/obo/GO_0046485\n",
      "GRAPHSIZE:  22\n",
      "\n"
     ]
    },
    {
     "name": "stdout",
     "output_type": "stream",
     "text": [
      "ether lipid metabolic process\n"
     ]
    },
    {
     "name": "stderr",
     "output_type": "stream",
     "text": [
      "obolibrary\n",
      "obolibrary http://purl.obolibrary.org/obo/GO_0000187\n",
      "GRAPHSIZE:  24\n",
      "\n"
     ]
    },
    {
     "name": "stdout",
     "output_type": "stream",
     "text": [
      "obsolete activation of MAPK activity\n"
     ]
    },
    {
     "name": "stderr",
     "output_type": "stream",
     "text": [
      "obolibrary\n",
      "obolibrary http://purl.obolibrary.org/obo/GO_0016477\n",
      "GRAPHSIZE:  15\n",
      "\n"
     ]
    },
    {
     "name": "stdout",
     "output_type": "stream",
     "text": [
      "cell migration\n"
     ]
    },
    {
     "name": "stderr",
     "output_type": "stream",
     "text": [
      "obolibrary\n",
      "obolibrary http://purl.obolibrary.org/obo/GO_0019915\n",
      "GRAPHSIZE:  21\n",
      "\n"
     ]
    },
    {
     "name": "stdout",
     "output_type": "stream",
     "text": [
      "lipid storage\n"
     ]
    },
    {
     "name": "stderr",
     "output_type": "stream",
     "text": [
      "obolibrary\n",
      "obolibrary http://purl.obolibrary.org/obo/GO_0071578\n",
      "GRAPHSIZE:  35\n",
      "\n"
     ]
    },
    {
     "name": "stdout",
     "output_type": "stream",
     "text": [
      "zinc ion import across plasma membrane\n"
     ]
    },
    {
     "name": "stderr",
     "output_type": "stream",
     "text": [
      "obolibrary\n",
      "obolibrary http://purl.obolibrary.org/obo/GO_0140014\n",
      "GRAPHSIZE:  42\n",
      "\n"
     ]
    },
    {
     "name": "stdout",
     "output_type": "stream",
     "text": [
      "mitotic nuclear division\n"
     ]
    },
    {
     "name": "stderr",
     "output_type": "stream",
     "text": [
      "obolibrary\n",
      "obolibrary http://purl.obolibrary.org/obo/GO_0016557\n",
      "GRAPHSIZE:  20\n",
      "\n"
     ]
    },
    {
     "name": "stdout",
     "output_type": "stream",
     "text": [
      "peroxisome membrane biogenesis\n"
     ]
    },
    {
     "name": "stderr",
     "output_type": "stream",
     "text": [
      "obolibrary\n",
      "obolibrary http://purl.obolibrary.org/obo/GO_0016558\n",
      "GRAPHSIZE:  23\n",
      "\n"
     ]
    },
    {
     "name": "stdout",
     "output_type": "stream",
     "text": [
      "protein import into peroxisome matrix\n"
     ]
    },
    {
     "name": "stderr",
     "output_type": "stream",
     "text": [
      "obolibrary\n",
      "obolibrary http://purl.obolibrary.org/obo/GO_0090546\n",
      "GRAPHSIZE:  15\n",
      "\n"
     ]
    },
    {
     "name": "stdout",
     "output_type": "stream",
     "text": [
      "chlorophyll fluorescence\n"
     ]
    },
    {
     "name": "stderr",
     "output_type": "stream",
     "text": [
      "obolibrary\n",
      "obolibrary http://purl.obolibrary.org/obo/GO_0006554\n",
      "GRAPHSIZE:  20\n",
      "\n"
     ]
    },
    {
     "name": "stdout",
     "output_type": "stream",
     "text": [
      "lysine catabolic process\n"
     ]
    },
    {
     "name": "stderr",
     "output_type": "stream",
     "text": [
      "obolibrary\n",
      "obolibrary http://purl.obolibrary.org/obo/GO_1903412\n",
      "GRAPHSIZE:  18\n",
      "\n"
     ]
    },
    {
     "name": "stdout",
     "output_type": "stream",
     "text": [
      "response to bile acid\n"
     ]
    },
    {
     "name": "stderr",
     "output_type": "stream",
     "text": [
      "obolibrary\n",
      "obolibrary http://purl.obolibrary.org/obo/GO_1905144\n",
      "GRAPHSIZE:  18\n",
      "\n"
     ]
    },
    {
     "name": "stdout",
     "output_type": "stream",
     "text": [
      "response to acetylcholine\n"
     ]
    },
    {
     "name": "stderr",
     "output_type": "stream",
     "text": [
      "obolibrary\n",
      "obolibrary http://purl.obolibrary.org/obo/GO_0006558\n",
      "GRAPHSIZE:  21\n",
      "\n"
     ]
    },
    {
     "name": "stdout",
     "output_type": "stream",
     "text": [
      "L-phenylalanine metabolic process\n"
     ]
    },
    {
     "name": "stderr",
     "output_type": "stream",
     "text": [
      "obolibrary\n",
      "obolibrary http://purl.obolibrary.org/obo/GO_0006559\n",
      "GRAPHSIZE:  24\n",
      "\n"
     ]
    },
    {
     "name": "stdout",
     "output_type": "stream",
     "text": [
      "L-phenylalanine catabolic process\n"
     ]
    },
    {
     "name": "stderr",
     "output_type": "stream",
     "text": [
      "obolibrary\n",
      "obolibrary http://purl.obolibrary.org/obo/GO_0051179\n",
      "GRAPHSIZE:  35\n",
      "\n"
     ]
    },
    {
     "name": "stdout",
     "output_type": "stream",
     "text": [
      "localization\n"
     ]
    },
    {
     "name": "stderr",
     "output_type": "stream",
     "text": [
      "obolibrary\n",
      "obolibrary http://purl.obolibrary.org/obo/GO_0019889\n",
      "GRAPHSIZE:  13\n",
      "\n"
     ]
    },
    {
     "name": "stdout",
     "output_type": "stream",
     "text": [
      "pteridine metabolic process\n"
     ]
    },
    {
     "name": "stderr",
     "output_type": "stream",
     "text": [
      "obolibrary\n",
      "obolibrary http://purl.obolibrary.org/obo/GO_0051188\n",
      "GRAPHSIZE:  15\n",
      "\n"
     ]
    },
    {
     "name": "stdout",
     "output_type": "stream",
     "text": [
      "obsolete cofactor biosynthetic process\n"
     ]
    },
    {
     "name": "stderr",
     "output_type": "stream",
     "text": [
      "obolibrary\n",
      "obolibrary http://purl.obolibrary.org/obo/GO_0042416\n",
      "GRAPHSIZE:  19\n",
      "\n"
     ]
    },
    {
     "name": "stdout",
     "output_type": "stream",
     "text": [
      "dopamine biosynthetic process\n"
     ]
    },
    {
     "name": "stderr",
     "output_type": "stream",
     "text": [
      "obolibrary\n",
      "obolibrary http://purl.obolibrary.org/obo/GO_0046146\n",
      "GRAPHSIZE:  19\n",
      "\n"
     ]
    },
    {
     "name": "stdout",
     "output_type": "stream",
     "text": [
      "tetrahydrobiopterin metabolic process\n"
     ]
    },
    {
     "name": "stderr",
     "output_type": "stream",
     "text": [
      "obolibrary\n",
      "obolibrary http://purl.obolibrary.org/obo/GO_0042423\n",
      "GRAPHSIZE:  25\n",
      "\n"
     ]
    },
    {
     "name": "stdout",
     "output_type": "stream",
     "text": [
      "catecholamine biosynthetic process\n"
     ]
    },
    {
     "name": "stderr",
     "output_type": "stream",
     "text": [
      "obolibrary\n",
      "obolibrary http://purl.obolibrary.org/obo/GO_0007596\n",
      "GRAPHSIZE:  28\n",
      "\n"
     ]
    },
    {
     "name": "stdout",
     "output_type": "stream",
     "text": [
      "blood coagulation\n"
     ]
    },
    {
     "name": "stderr",
     "output_type": "stream",
     "text": [
      "obolibrary\n",
      "obolibrary http://purl.obolibrary.org/obo/GO_0006487\n",
      "GRAPHSIZE:  20\n",
      "\n"
     ]
    },
    {
     "name": "stdout",
     "output_type": "stream",
     "text": [
      "protein N-linked glycosylation\n"
     ]
    },
    {
     "name": "stderr",
     "output_type": "stream",
     "text": [
      "obolibrary\n",
      "obolibrary http://purl.obolibrary.org/obo/GO_0030259\n",
      "GRAPHSIZE:  19\n",
      "\n"
     ]
    },
    {
     "name": "stdout",
     "output_type": "stream",
     "text": [
      "lipid glycosylation\n"
     ]
    },
    {
     "name": "stderr",
     "output_type": "stream",
     "text": [
      "obolibrary\n",
      "obolibrary http://purl.obolibrary.org/obo/GO_0007599\n",
      "GRAPHSIZE:  13\n",
      "\n"
     ]
    },
    {
     "name": "stdout",
     "output_type": "stream",
     "text": [
      "hemostasis\n"
     ]
    },
    {
     "name": "stderr",
     "output_type": "stream",
     "text": [
      "obolibrary\n",
      "obolibrary http://purl.obolibrary.org/obo/GO_0030073\n",
      "GRAPHSIZE:  16\n",
      "\n"
     ]
    },
    {
     "name": "stdout",
     "output_type": "stream",
     "text": [
      "insulin secretion\n"
     ]
    },
    {
     "name": "stderr",
     "output_type": "stream",
     "text": [
      "obolibrary\n",
      "obolibrary http://purl.obolibrary.org/obo/GO_0034976\n",
      "GRAPHSIZE:  15\n",
      "\n"
     ]
    },
    {
     "name": "stdout",
     "output_type": "stream",
     "text": [
      "response to endoplasmic reticulum stress\n"
     ]
    },
    {
     "name": "stderr",
     "output_type": "stream",
     "text": [
      "obolibrary\n",
      "obolibrary http://purl.obolibrary.org/obo/GO_0036065\n",
      "GRAPHSIZE:  15\n",
      "\n"
     ]
    },
    {
     "name": "stdout",
     "output_type": "stream",
     "text": [
      "fucosylation\n"
     ]
    },
    {
     "name": "stderr",
     "output_type": "stream",
     "text": [
      "obolibrary\n",
      "obolibrary http://purl.obolibrary.org/obo/GO_0009101\n",
      "GRAPHSIZE:  22\n",
      "\n"
     ]
    },
    {
     "name": "stdout",
     "output_type": "stream",
     "text": [
      "glycoprotein biosynthetic process\n"
     ]
    },
    {
     "name": "stderr",
     "output_type": "stream",
     "text": [
      "obolibrary\n",
      "obolibrary http://purl.obolibrary.org/obo/GO_0097502\n",
      "GRAPHSIZE:  18\n",
      "\n"
     ]
    },
    {
     "name": "stdout",
     "output_type": "stream",
     "text": [
      "mannosylation\n"
     ]
    },
    {
     "name": "stderr",
     "output_type": "stream",
     "text": [
      "obolibrary\n",
      "obolibrary http://purl.obolibrary.org/obo/GO_0019835\n",
      "GRAPHSIZE:  25\n",
      "\n"
     ]
    },
    {
     "name": "stdout",
     "output_type": "stream",
     "text": [
      "cytolysis\n"
     ]
    },
    {
     "name": "stderr",
     "output_type": "stream",
     "text": [
      "obolibrary\n",
      "obolibrary http://purl.obolibrary.org/obo/GO_0000271\n",
      "GRAPHSIZE:  24\n",
      "\n"
     ]
    },
    {
     "name": "stdout",
     "output_type": "stream",
     "text": [
      "polysaccharide biosynthetic process\n"
     ]
    },
    {
     "name": "stderr",
     "output_type": "stream",
     "text": [
      "obolibrary\n",
      "obolibrary http://purl.obolibrary.org/obo/GO_0006491\n",
      "GRAPHSIZE:  17\n",
      "\n"
     ]
    },
    {
     "name": "stdout",
     "output_type": "stream",
     "text": [
      "N-glycan processing\n"
     ]
    },
    {
     "name": "stderr",
     "output_type": "stream",
     "text": [
      "obolibrary\n",
      "obolibrary http://purl.obolibrary.org/obo/GO_0019348\n",
      "GRAPHSIZE:  13\n",
      "\n"
     ]
    },
    {
     "name": "stdout",
     "output_type": "stream",
     "text": [
      "dolichol metabolic process\n"
     ]
    },
    {
     "name": "stderr",
     "output_type": "stream",
     "text": [
      "obolibrary\n",
      "obolibrary http://purl.obolibrary.org/obo/GO_0006312\n",
      "GRAPHSIZE:  13\n",
      "\n"
     ]
    },
    {
     "name": "stdout",
     "output_type": "stream",
     "text": [
      "mitotic recombination\n"
     ]
    },
    {
     "name": "stderr",
     "output_type": "stream",
     "text": [
      "obolibrary\n",
      "obolibrary http://purl.obolibrary.org/obo/GO_0051320\n",
      "GRAPHSIZE:  28\n",
      "\n"
     ]
    },
    {
     "name": "stdout",
     "output_type": "stream",
     "text": [
      "S phase\n"
     ]
    },
    {
     "name": "stderr",
     "output_type": "stream",
     "text": [
      "obolibrary\n",
      "obolibrary http://purl.obolibrary.org/obo/GO_0005976\n",
      "GRAPHSIZE:  25\n",
      "\n"
     ]
    },
    {
     "name": "stdout",
     "output_type": "stream",
     "text": [
      "polysaccharide metabolic process\n"
     ]
    },
    {
     "name": "stderr",
     "output_type": "stream",
     "text": [
      "obolibrary\n",
      "obolibrary http://purl.obolibrary.org/obo/GO_0005980\n",
      "GRAPHSIZE:  24\n",
      "\n"
     ]
    },
    {
     "name": "stdout",
     "output_type": "stream",
     "text": [
      "glycogen catabolic process\n"
     ]
    },
    {
     "name": "stderr",
     "output_type": "stream",
     "text": [
      "obolibrary\n",
      "obolibrary http://purl.obolibrary.org/obo/GO_0032197\n",
      "GRAPHSIZE:  32\n",
      "\n"
     ]
    },
    {
     "name": "stdout",
     "output_type": "stream",
     "text": [
      "retrotransposition\n"
     ]
    },
    {
     "name": "stderr",
     "output_type": "stream",
     "text": [
      "obolibrary\n",
      "obolibrary http://purl.obolibrary.org/obo/GO_0019751\n",
      "GRAPHSIZE:  14\n",
      "\n"
     ]
    },
    {
     "name": "stdout",
     "output_type": "stream",
     "text": [
      "polyol metabolic process\n"
     ]
    },
    {
     "name": "stderr",
     "output_type": "stream",
     "text": [
      "obolibrary\n",
      "obolibrary http://purl.obolibrary.org/obo/GO_0070527\n",
      "GRAPHSIZE:  24\n",
      "\n"
     ]
    },
    {
     "name": "stdout",
     "output_type": "stream",
     "text": [
      "platelet aggregation\n"
     ]
    },
    {
     "name": "stderr",
     "output_type": "stream",
     "text": [
      "obolibrary\n",
      "obolibrary http://purl.obolibrary.org/obo/GO_0030101\n",
      "GRAPHSIZE:  13\n",
      "\n"
     ]
    },
    {
     "name": "stdout",
     "output_type": "stream",
     "text": [
      "natural killer cell activation\n"
     ]
    },
    {
     "name": "stderr",
     "output_type": "stream",
     "text": [
      "obolibrary\n",
      "obolibrary http://purl.obolibrary.org/obo/GO_0072672\n",
      "GRAPHSIZE:  18\n",
      "\n"
     ]
    },
    {
     "name": "stdout",
     "output_type": "stream",
     "text": [
      "neutrophil extravasation\n"
     ]
    },
    {
     "name": "stderr",
     "output_type": "stream",
     "text": [
      "obolibrary\n",
      "obolibrary http://purl.obolibrary.org/obo/GO_0048599\n",
      "GRAPHSIZE:  20\n",
      "\n"
     ]
    },
    {
     "name": "stdout",
     "output_type": "stream",
     "text": [
      "oocyte development\n"
     ]
    },
    {
     "name": "stderr",
     "output_type": "stream",
     "text": [
      "obolibrary\n",
      "obolibrary http://purl.obolibrary.org/obo/GO_0033762\n",
      "GRAPHSIZE:  13\n",
      "\n"
     ]
    },
    {
     "name": "stdout",
     "output_type": "stream",
     "text": [
      "response to glucagon\n"
     ]
    },
    {
     "name": "stderr",
     "output_type": "stream",
     "text": [
      "obolibrary\n",
      "obolibrary http://purl.obolibrary.org/obo/GO_0019307\n",
      "GRAPHSIZE:  19\n",
      "\n"
     ]
    },
    {
     "name": "stdout",
     "output_type": "stream",
     "text": [
      "mannose biosynthetic process\n"
     ]
    },
    {
     "name": "stderr",
     "output_type": "stream",
     "text": [
      "obolibrary\n",
      "obolibrary http://purl.obolibrary.org/obo/GO_0006488\n",
      "GRAPHSIZE:  33\n",
      "\n"
     ]
    },
    {
     "name": "stdout",
     "output_type": "stream",
     "text": [
      "dolichol-linked oligosaccharide biosynthetic process\n"
     ]
    },
    {
     "name": "stderr",
     "output_type": "stream",
     "text": [
      "obolibrary\n",
      "obolibrary http://purl.obolibrary.org/obo/GO_0040008\n",
      "GRAPHSIZE:  32\n",
      "\n"
     ]
    },
    {
     "name": "stdout",
     "output_type": "stream",
     "text": [
      "regulation of growth\n"
     ]
    },
    {
     "name": "stderr",
     "output_type": "stream",
     "text": [
      "obolibrary\n",
      "obolibrary http://purl.obolibrary.org/obo/GO_0055085\n",
      "GRAPHSIZE:  42\n",
      "\n"
     ]
    },
    {
     "name": "stdout",
     "output_type": "stream",
     "text": [
      "transmembrane transport\n"
     ]
    },
    {
     "name": "stderr",
     "output_type": "stream",
     "text": [
      "obolibrary\n",
      "obolibrary http://purl.obolibrary.org/obo/GO_0046907\n",
      "GRAPHSIZE:  44\n",
      "\n"
     ]
    },
    {
     "name": "stdout",
     "output_type": "stream",
     "text": [
      "intracellular transport\n"
     ]
    },
    {
     "name": "stderr",
     "output_type": "stream",
     "text": [
      "obolibrary\n",
      "obolibrary http://purl.obolibrary.org/obo/GO_0006869\n",
      "GRAPHSIZE:  29\n",
      "\n"
     ]
    },
    {
     "name": "stdout",
     "output_type": "stream",
     "text": [
      "lipid transport\n"
     ]
    },
    {
     "name": "stderr",
     "output_type": "stream",
     "text": [
      "obolibrary\n",
      "obolibrary http://purl.obolibrary.org/obo/GO_0010149\n",
      "GRAPHSIZE:  14\n",
      "\n"
     ]
    },
    {
     "name": "stdout",
     "output_type": "stream",
     "text": [
      "obsolete senescence\n"
     ]
    },
    {
     "name": "stderr",
     "output_type": "stream",
     "text": [
      "obolibrary\n",
      "obolibrary http://purl.obolibrary.org/obo/GO_0042730\n",
      "GRAPHSIZE:  14\n",
      "\n"
     ]
    },
    {
     "name": "stdout",
     "output_type": "stream",
     "text": [
      "fibrinolysis\n"
     ]
    },
    {
     "name": "stderr",
     "output_type": "stream",
     "text": [
      "obolibrary\n",
      "obolibrary http://purl.obolibrary.org/obo/GO_0035264\n",
      "GRAPHSIZE:  16\n",
      "\n"
     ]
    },
    {
     "name": "stdout",
     "output_type": "stream",
     "text": [
      "multicellular organism growth\n"
     ]
    },
    {
     "name": "stderr",
     "output_type": "stream",
     "text": [
      "obolibrary\n",
      "obolibrary http://purl.obolibrary.org/obo/GO_0007399\n",
      "GRAPHSIZE:  18\n",
      "\n"
     ]
    },
    {
     "name": "stdout",
     "output_type": "stream",
     "text": [
      "nervous system development\n"
     ]
    },
    {
     "name": "stderr",
     "output_type": "stream",
     "text": [
      "obolibrary\n",
      "obolibrary http://purl.obolibrary.org/obo/GO_0042116\n",
      "GRAPHSIZE:  13\n",
      "\n"
     ]
    },
    {
     "name": "stdout",
     "output_type": "stream",
     "text": [
      "macrophage activation\n"
     ]
    },
    {
     "name": "stderr",
     "output_type": "stream",
     "text": [
      "obolibrary\n",
      "obolibrary http://purl.obolibrary.org/obo/GO_0009100\n",
      "GRAPHSIZE:  19\n",
      "\n"
     ]
    },
    {
     "name": "stdout",
     "output_type": "stream",
     "text": [
      "glycoprotein metabolic process\n"
     ]
    },
    {
     "name": "stderr",
     "output_type": "stream",
     "text": [
      "obolibrary\n",
      "obolibrary http://purl.obolibrary.org/obo/GO_0043473\n",
      "GRAPHSIZE:  16\n",
      "\n"
     ]
    },
    {
     "name": "stdout",
     "output_type": "stream",
     "text": [
      "pigmentation\n"
     ]
    },
    {
     "name": "stderr",
     "output_type": "stream",
     "text": [
      "obolibrary\n",
      "obolibrary http://purl.obolibrary.org/obo/GO_0003006\n",
      "GRAPHSIZE:  25\n",
      "\n"
     ]
    },
    {
     "name": "stdout",
     "output_type": "stream",
     "text": [
      "developmental process involved in reproduction\n"
     ]
    },
    {
     "name": "stderr",
     "output_type": "stream",
     "text": [
      "obolibrary\n",
      "obolibrary http://purl.obolibrary.org/obo/GO_0051651\n",
      "GRAPHSIZE:  38\n",
      "\n"
     ]
    },
    {
     "name": "stdout",
     "output_type": "stream",
     "text": [
      "maintenance of location in cell\n"
     ]
    },
    {
     "name": "stderr",
     "output_type": "stream",
     "text": [
      "obolibrary\n",
      "obolibrary http://purl.obolibrary.org/obo/GO_0045087\n",
      "GRAPHSIZE:  22\n",
      "\n"
     ]
    },
    {
     "name": "stdout",
     "output_type": "stream",
     "text": [
      "innate immune response\n"
     ]
    },
    {
     "name": "stderr",
     "output_type": "stream",
     "text": [
      "obolibrary\n",
      "obolibrary http://purl.obolibrary.org/obo/GO_0042267\n",
      "GRAPHSIZE:  26\n",
      "\n"
     ]
    },
    {
     "name": "stdout",
     "output_type": "stream",
     "text": [
      "natural killer cell mediated cytotoxicity\n"
     ]
    },
    {
     "name": "stderr",
     "output_type": "stream",
     "text": [
      "obolibrary\n",
      "obolibrary http://purl.obolibrary.org/obo/GO_0099537\n",
      "GRAPHSIZE:  14\n",
      "\n"
     ]
    },
    {
     "name": "stdout",
     "output_type": "stream",
     "text": [
      "trans-synaptic signaling\n"
     ]
    },
    {
     "name": "stderr",
     "output_type": "stream",
     "text": [
      "obolibrary\n",
      "obolibrary http://purl.obolibrary.org/obo/GO_0009247\n",
      "GRAPHSIZE:  26\n",
      "\n"
     ]
    },
    {
     "name": "stdout",
     "output_type": "stream",
     "text": [
      "glycolipid biosynthetic process\n"
     ]
    },
    {
     "name": "stderr",
     "output_type": "stream",
     "text": [
      "obolibrary\n",
      "obolibrary http://purl.obolibrary.org/obo/GO_0045190\n",
      "GRAPHSIZE:  21\n",
      "\n"
     ]
    },
    {
     "name": "stdout",
     "output_type": "stream",
     "text": [
      "isotype switching\n"
     ]
    },
    {
     "name": "stderr",
     "output_type": "stream",
     "text": [
      "obolibrary\n",
      "obolibrary http://purl.obolibrary.org/obo/GO_0051216\n",
      "GRAPHSIZE:  35\n",
      "\n"
     ]
    },
    {
     "name": "stdout",
     "output_type": "stream",
     "text": [
      "cartilage development\n"
     ]
    },
    {
     "name": "stderr",
     "output_type": "stream",
     "text": [
      "obolibrary\n",
      "obolibrary http://purl.obolibrary.org/obo/GO_0009888\n",
      "GRAPHSIZE:  17\n",
      "\n"
     ]
    },
    {
     "name": "stdout",
     "output_type": "stream",
     "text": [
      "tissue development\n"
     ]
    },
    {
     "name": "stderr",
     "output_type": "stream",
     "text": [
      "obolibrary\n",
      "obolibrary http://purl.obolibrary.org/obo/GO_0006688\n",
      "GRAPHSIZE:  24\n",
      "\n"
     ]
    },
    {
     "name": "stdout",
     "output_type": "stream",
     "text": [
      "glycosphingolipid biosynthetic process\n"
     ]
    },
    {
     "name": "stderr",
     "output_type": "stream",
     "text": [
      "obolibrary\n",
      "obolibrary http://purl.obolibrary.org/obo/GO_0007114\n",
      "GRAPHSIZE:  24\n",
      "\n"
     ]
    },
    {
     "name": "stdout",
     "output_type": "stream",
     "text": [
      "cell budding\n"
     ]
    },
    {
     "name": "stderr",
     "output_type": "stream",
     "text": [
      "obolibrary\n",
      "obolibrary http://purl.obolibrary.org/obo/GO_0036503\n",
      "GRAPHSIZE:  28\n",
      "\n"
     ]
    },
    {
     "name": "stdout",
     "output_type": "stream",
     "text": [
      "ERAD pathway\n"
     ]
    },
    {
     "name": "stderr",
     "output_type": "stream",
     "text": [
      "obolibrary\n",
      "obolibrary http://purl.obolibrary.org/obo/GO_0006281\n",
      "GRAPHSIZE:  32\n",
      "\n"
     ]
    },
    {
     "name": "stdout",
     "output_type": "stream",
     "text": [
      "DNA repair\n"
     ]
    },
    {
     "name": "stderr",
     "output_type": "stream",
     "text": [
      "obolibrary\n",
      "obolibrary http://purl.obolibrary.org/obo/GO_0007519\n",
      "GRAPHSIZE:  24\n",
      "\n"
     ]
    },
    {
     "name": "stdout",
     "output_type": "stream",
     "text": [
      "skeletal muscle tissue development\n"
     ]
    },
    {
     "name": "stderr",
     "output_type": "stream",
     "text": [
      "obolibrary\n",
      "obolibrary http://purl.obolibrary.org/obo/GO_0006260\n",
      "GRAPHSIZE:  44\n",
      "\n"
     ]
    },
    {
     "name": "stdout",
     "output_type": "stream",
     "text": [
      "DNA replication\n"
     ]
    },
    {
     "name": "stderr",
     "output_type": "stream",
     "text": [
      "obolibrary\n",
      "obolibrary http://purl.obolibrary.org/obo/GO_0061337\n",
      "GRAPHSIZE:  17\n",
      "\n"
     ]
    },
    {
     "name": "stdout",
     "output_type": "stream",
     "text": [
      "cardiac conduction\n"
     ]
    },
    {
     "name": "stderr",
     "output_type": "stream",
     "text": [
      "obolibrary\n",
      "obolibrary http://purl.obolibrary.org/obo/GO_0051235\n",
      "GRAPHSIZE:  17\n",
      "\n"
     ]
    },
    {
     "name": "stdout",
     "output_type": "stream",
     "text": [
      "maintenance of location\n"
     ]
    },
    {
     "name": "stderr",
     "output_type": "stream",
     "text": [
      "obolibrary\n",
      "obolibrary http://purl.obolibrary.org/obo/GO_0071514\n",
      "GRAPHSIZE:  31\n",
      "\n"
     ]
    },
    {
     "name": "stdout",
     "output_type": "stream",
     "text": [
      "genomic imprinting\n"
     ]
    },
    {
     "name": "stderr",
     "output_type": "stream",
     "text": [
      "obolibrary\n",
      "obolibrary http://purl.obolibrary.org/obo/GO_0045445\n",
      "GRAPHSIZE:  22\n",
      "\n"
     ]
    },
    {
     "name": "stdout",
     "output_type": "stream",
     "text": [
      "myoblast differentiation\n"
     ]
    },
    {
     "name": "stderr",
     "output_type": "stream",
     "text": [
      "obolibrary\n",
      "obolibrary http://purl.obolibrary.org/obo/GO_0006397\n",
      "GRAPHSIZE:  21\n",
      "\n"
     ]
    },
    {
     "name": "stdout",
     "output_type": "stream",
     "text": [
      "mRNA processing\n"
     ]
    },
    {
     "name": "stderr",
     "output_type": "stream",
     "text": [
      "obolibrary\n",
      "obolibrary http://purl.obolibrary.org/obo/GO_0060384\n",
      "GRAPHSIZE:  20\n",
      "\n"
     ]
    },
    {
     "name": "stdout",
     "output_type": "stream",
     "text": [
      "innervation\n"
     ]
    },
    {
     "name": "stderr",
     "output_type": "stream",
     "text": [
      "obolibrary\n",
      "obolibrary http://purl.obolibrary.org/obo/GO_0016310\n",
      "GRAPHSIZE:  22\n",
      "\n"
     ]
    },
    {
     "name": "stdout",
     "output_type": "stream",
     "text": [
      "phosphorylation\n"
     ]
    },
    {
     "name": "stderr",
     "output_type": "stream",
     "text": [
      "obolibrary\n",
      "obolibrary http://purl.obolibrary.org/obo/GO_0090398\n",
      "GRAPHSIZE:  28\n",
      "\n"
     ]
    },
    {
     "name": "stdout",
     "output_type": "stream",
     "text": [
      "cellular senescence\n"
     ]
    },
    {
     "name": "stderr",
     "output_type": "stream",
     "text": [
      "obolibrary\n",
      "obolibrary http://purl.obolibrary.org/obo/GO_0046323\n",
      "GRAPHSIZE:  16\n",
      "\n"
     ]
    },
    {
     "name": "stdout",
     "output_type": "stream",
     "text": [
      "D-glucose import\n"
     ]
    },
    {
     "name": "stderr",
     "output_type": "stream",
     "text": [
      "obolibrary\n",
      "obolibrary http://purl.obolibrary.org/obo/GO_0035483\n",
      "GRAPHSIZE:  15\n",
      "\n"
     ]
    },
    {
     "name": "stdout",
     "output_type": "stream",
     "text": [
      "gastric emptying\n"
     ]
    },
    {
     "name": "stderr",
     "output_type": "stream",
     "text": [
      "obolibrary\n",
      "obolibrary http://purl.obolibrary.org/obo/GO_0048468\n",
      "GRAPHSIZE:  30\n",
      "\n"
     ]
    },
    {
     "name": "stdout",
     "output_type": "stream",
     "text": [
      "cell development\n"
     ]
    },
    {
     "name": "stderr",
     "output_type": "stream",
     "text": [
      "obolibrary\n",
      "obolibrary http://purl.obolibrary.org/obo/GO_0051168\n",
      "GRAPHSIZE:  15\n",
      "\n"
     ]
    },
    {
     "name": "stdout",
     "output_type": "stream",
     "text": [
      "nuclear export\n"
     ]
    },
    {
     "name": "stderr",
     "output_type": "stream",
     "text": [
      "obolibrary\n",
      "obolibrary http://purl.obolibrary.org/obo/GO_0030432\n",
      "GRAPHSIZE:  13\n",
      "\n"
     ]
    },
    {
     "name": "stdout",
     "output_type": "stream",
     "text": [
      "peristalsis\n"
     ]
    },
    {
     "name": "stderr",
     "output_type": "stream",
     "text": [
      "obolibrary\n",
      "obolibrary http://purl.obolibrary.org/obo/GO_0110134\n",
      "GRAPHSIZE:  18\n",
      "\n"
     ]
    },
    {
     "name": "stdout",
     "output_type": "stream",
     "text": [
      "meiotic drive\n"
     ]
    },
    {
     "name": "stderr",
     "output_type": "stream",
     "text": [
      "obolibrary\n",
      "obolibrary http://purl.obolibrary.org/obo/GO_0006811\n",
      "GRAPHSIZE:  22\n",
      "\n"
     ]
    },
    {
     "name": "stdout",
     "output_type": "stream",
     "text": [
      "monoatomic ion transport\n"
     ]
    },
    {
     "name": "stderr",
     "output_type": "stream",
     "text": [
      "obolibrary\n",
      "obolibrary http://purl.obolibrary.org/obo/GO_0002524\n",
      "GRAPHSIZE:  15\n",
      "\n"
     ]
    },
    {
     "name": "stdout",
     "output_type": "stream",
     "text": [
      "hypersensitivity\n"
     ]
    },
    {
     "name": "stderr",
     "output_type": "stream",
     "text": [
      "obolibrary\n",
      "obolibrary http://purl.obolibrary.org/obo/GO_0014732\n",
      "GRAPHSIZE:  14\n",
      "\n"
     ]
    },
    {
     "name": "stdout",
     "output_type": "stream",
     "text": [
      "skeletal muscle atrophy\n"
     ]
    },
    {
     "name": "stderr",
     "output_type": "stream",
     "text": [
      "obolibrary\n",
      "obolibrary http://purl.obolibrary.org/obo/GO_0014896\n",
      "GRAPHSIZE:  13\n",
      "\n"
     ]
    },
    {
     "name": "stdout",
     "output_type": "stream",
     "text": [
      "muscle hypertrophy\n"
     ]
    },
    {
     "name": "stderr",
     "output_type": "stream",
     "text": [
      "obolibrary\n",
      "obolibrary http://purl.obolibrary.org/obo/GO_0030163\n",
      "GRAPHSIZE:  46\n",
      "\n"
     ]
    },
    {
     "name": "stdout",
     "output_type": "stream",
     "text": [
      "protein catabolic process\n"
     ]
    },
    {
     "name": "stderr",
     "output_type": "stream",
     "text": [
      "obolibrary\n",
      "obolibrary http://purl.obolibrary.org/obo/GO_0031175\n",
      "GRAPHSIZE:  36\n",
      "\n"
     ]
    },
    {
     "name": "stdout",
     "output_type": "stream",
     "text": [
      "neuron projection development\n"
     ]
    },
    {
     "name": "stderr",
     "output_type": "stream",
     "text": [
      "obolibrary\n",
      "obolibrary http://purl.obolibrary.org/obo/GO_0071897\n",
      "GRAPHSIZE:  23\n",
      "\n"
     ]
    },
    {
     "name": "stdout",
     "output_type": "stream",
     "text": [
      "DNA biosynthetic process\n"
     ]
    },
    {
     "name": "stderr",
     "output_type": "stream",
     "text": [
      "obolibrary\n",
      "obolibrary http://purl.obolibrary.org/obo/GO_0035822\n",
      "GRAPHSIZE:  17\n",
      "\n"
     ]
    },
    {
     "name": "stdout",
     "output_type": "stream",
     "text": [
      "gene conversion\n"
     ]
    },
    {
     "name": "stderr",
     "output_type": "stream",
     "text": [
      "obolibrary\n",
      "obolibrary http://purl.obolibrary.org/obo/GO_0007163\n",
      "GRAPHSIZE:  27\n",
      "\n"
     ]
    },
    {
     "name": "stdout",
     "output_type": "stream",
     "text": [
      "establishment or maintenance of cell polarity\n"
     ]
    },
    {
     "name": "stderr",
     "output_type": "stream",
     "text": [
      "obolibrary\n",
      "obolibrary http://purl.obolibrary.org/obo/GO_0050801\n",
      "GRAPHSIZE:  21\n",
      "\n"
     ]
    },
    {
     "name": "stdout",
     "output_type": "stream",
     "text": [
      "monoatomic ion homeostasis\n"
     ]
    },
    {
     "name": "stderr",
     "output_type": "stream",
     "text": [
      "obolibrary\n",
      "obolibrary http://purl.obolibrary.org/obo/GO_0007283\n",
      "GRAPHSIZE:  18\n",
      "\n"
     ]
    },
    {
     "name": "stdout",
     "output_type": "stream",
     "text": [
      "spermatogenesis\n"
     ]
    },
    {
     "name": "stderr",
     "output_type": "stream",
     "text": [
      "obolibrary\n",
      "obolibrary http://purl.obolibrary.org/obo/GO_0007520\n",
      "GRAPHSIZE:  20\n",
      "\n"
     ]
    },
    {
     "name": "stdout",
     "output_type": "stream",
     "text": [
      "myoblast fusion\n"
     ]
    },
    {
     "name": "stderr",
     "output_type": "stream",
     "text": [
      "obolibrary\n",
      "obolibrary http://purl.obolibrary.org/obo/GO_0006338\n",
      "GRAPHSIZE:  23\n",
      "\n"
     ]
    },
    {
     "name": "stdout",
     "output_type": "stream",
     "text": [
      "chromatin remodeling\n"
     ]
    },
    {
     "name": "stderr",
     "output_type": "stream",
     "text": [
      "obolibrary\n",
      "obolibrary http://purl.obolibrary.org/obo/GO_0006402\n",
      "GRAPHSIZE:  23\n",
      "\n"
     ]
    },
    {
     "name": "stdout",
     "output_type": "stream",
     "text": [
      "mRNA catabolic process\n"
     ]
    },
    {
     "name": "stderr",
     "output_type": "stream",
     "text": [
      "obolibrary\n",
      "obolibrary http://purl.obolibrary.org/obo/GO_0006553\n",
      "GRAPHSIZE:  15\n",
      "\n"
     ]
    },
    {
     "name": "stdout",
     "output_type": "stream",
     "text": [
      "lysine metabolic process\n"
     ]
    },
    {
     "name": "stderr",
     "output_type": "stream",
     "text": [
      "obolibrary\n",
      "obolibrary http://purl.obolibrary.org/obo/GO_0042816\n",
      "GRAPHSIZE:  18\n",
      "\n"
     ]
    },
    {
     "name": "stdout",
     "output_type": "stream",
     "text": [
      "vitamin B6 metabolic process\n"
     ]
    },
    {
     "name": "stderr",
     "output_type": "stream",
     "text": [
      "obolibrary\n",
      "obolibrary http://purl.obolibrary.org/obo/GO_0015819\n",
      "GRAPHSIZE:  27\n",
      "\n"
     ]
    },
    {
     "name": "stdout",
     "output_type": "stream",
     "text": [
      "lysine transport\n"
     ]
    },
    {
     "name": "stderr",
     "output_type": "stream",
     "text": [
      "obolibrary\n",
      "obolibrary http://purl.obolibrary.org/obo/GO_0019346\n",
      "GRAPHSIZE:  25\n",
      "\n"
     ]
    },
    {
     "name": "stdout",
     "output_type": "stream",
     "text": [
      "transsulfuration\n"
     ]
    },
    {
     "name": "stderr",
     "output_type": "stream",
     "text": [
      "obolibrary\n",
      "obolibrary http://purl.obolibrary.org/obo/GO_0030282\n",
      "GRAPHSIZE:  22\n",
      "\n"
     ]
    },
    {
     "name": "stdout",
     "output_type": "stream",
     "text": [
      "bone mineralization\n"
     ]
    },
    {
     "name": "stderr",
     "output_type": "stream",
     "text": [
      "obolibrary\n",
      "obolibrary http://purl.obolibrary.org/obo/GO_0006567\n",
      "GRAPHSIZE:  21\n",
      "\n"
     ]
    },
    {
     "name": "stdout",
     "output_type": "stream",
     "text": [
      "threonine catabolic process\n"
     ]
    },
    {
     "name": "stderr",
     "output_type": "stream",
     "text": [
      "obolibrary\n",
      "obolibrary http://purl.obolibrary.org/obo/GO_0006568\n",
      "GRAPHSIZE:  22\n",
      "\n"
     ]
    },
    {
     "name": "stdout",
     "output_type": "stream",
     "text": [
      "L-tryptophan metabolic process\n"
     ]
    },
    {
     "name": "stderr",
     "output_type": "stream",
     "text": [
      "obolibrary\n",
      "obolibrary http://purl.obolibrary.org/obo/GO_0006569\n",
      "GRAPHSIZE:  31\n",
      "\n"
     ]
    },
    {
     "name": "stdout",
     "output_type": "stream",
     "text": [
      "L-tryptophan catabolic process\n"
     ]
    },
    {
     "name": "stderr",
     "output_type": "stream",
     "text": [
      "obolibrary\n",
      "obolibrary http://purl.obolibrary.org/obo/GO_0005977\n",
      "GRAPHSIZE:  18\n",
      "\n"
     ]
    },
    {
     "name": "stdout",
     "output_type": "stream",
     "text": [
      "glycogen metabolic process\n"
     ]
    },
    {
     "name": "stderr",
     "output_type": "stream",
     "text": [
      "obolibrary\n",
      "obolibrary http://purl.obolibrary.org/obo/GO_0006591\n",
      "GRAPHSIZE:  16\n",
      "\n"
     ]
    },
    {
     "name": "stdout",
     "output_type": "stream",
     "text": [
      "ornithine metabolic process\n"
     ]
    },
    {
     "name": "stderr",
     "output_type": "stream",
     "text": [
      "obolibrary\n",
      "obolibrary http://purl.obolibrary.org/obo/GO_0051646\n",
      "GRAPHSIZE:  19\n",
      "\n"
     ]
    },
    {
     "name": "stdout",
     "output_type": "stream",
     "text": [
      "mitochondrion localization\n"
     ]
    },
    {
     "name": "stderr",
     "output_type": "stream",
     "text": [
      "obolibrary\n",
      "obolibrary http://purl.obolibrary.org/obo/GO_0006596\n",
      "GRAPHSIZE:  23\n",
      "\n"
     ]
    },
    {
     "name": "stdout",
     "output_type": "stream",
     "text": [
      "polyamine biosynthetic process\n"
     ]
    },
    {
     "name": "stderr",
     "output_type": "stream",
     "text": [
      "obolibrary\n",
      "obolibrary http://purl.obolibrary.org/obo/GO_0046440\n",
      "GRAPHSIZE:  16\n",
      "\n"
     ]
    },
    {
     "name": "stdout",
     "output_type": "stream",
     "text": [
      "L-lysine metabolic process\n"
     ]
    },
    {
     "name": "stderr",
     "output_type": "stream",
     "text": [
      "obolibrary\n",
      "obolibrary http://purl.obolibrary.org/obo/GO_0019477\n",
      "GRAPHSIZE:  21\n",
      "\n"
     ]
    },
    {
     "name": "stdout",
     "output_type": "stream",
     "text": [
      "L-lysine catabolic process\n"
     ]
    },
    {
     "name": "stderr",
     "output_type": "stream",
     "text": [
      "obolibrary\n",
      "obolibrary http://purl.obolibrary.org/obo/GO_0055062\n",
      "GRAPHSIZE:  17\n",
      "\n"
     ]
    },
    {
     "name": "stdout",
     "output_type": "stream",
     "text": [
      "phosphate ion homeostasis\n"
     ]
    },
    {
     "name": "stderr",
     "output_type": "stream",
     "text": [
      "obolibrary\n",
      "obolibrary http://purl.obolibrary.org/obo/GO_0030574\n",
      "GRAPHSIZE:  20\n",
      "\n"
     ]
    },
    {
     "name": "stdout",
     "output_type": "stream",
     "text": [
      "collagen catabolic process\n"
     ]
    },
    {
     "name": "stderr",
     "output_type": "stream",
     "text": [
      "obolibrary\n",
      "obolibrary http://purl.obolibrary.org/obo/GO_0007048\n",
      "GRAPHSIZE:  12\n",
      "\n"
     ]
    },
    {
     "name": "stdout",
     "output_type": "stream",
     "text": [
      "obsolete oncogenesis\n"
     ]
    },
    {
     "name": "stderr",
     "output_type": "stream",
     "text": [
      "obolibrary\n",
      "obolibrary http://purl.obolibrary.org/obo/GO_0007567\n",
      "GRAPHSIZE:  18\n",
      "\n"
     ]
    },
    {
     "name": "stdout",
     "output_type": "stream",
     "text": [
      "parturition\n"
     ]
    },
    {
     "name": "stderr",
     "output_type": "stream",
     "text": [
      "obolibrary\n",
      "obolibrary http://purl.obolibrary.org/obo/GO_0008614\n",
      "GRAPHSIZE:  15\n",
      "\n"
     ]
    },
    {
     "name": "stdout",
     "output_type": "stream",
     "text": [
      "pyridoxine metabolic process\n"
     ]
    },
    {
     "name": "stderr",
     "output_type": "stream",
     "text": [
      "obolibrary\n",
      "obolibrary http://purl.obolibrary.org/obo/GO_0006529\n",
      "GRAPHSIZE:  19\n",
      "\n"
     ]
    },
    {
     "name": "stdout",
     "output_type": "stream",
     "text": [
      "asparagine biosynthetic process\n"
     ]
    },
    {
     "name": "stderr",
     "output_type": "stream",
     "text": [
      "obolibrary\n",
      "obolibrary http://purl.obolibrary.org/obo/GO_0008652\n",
      "GRAPHSIZE:  25\n",
      "\n"
     ]
    },
    {
     "name": "stdout",
     "output_type": "stream",
     "text": [
      "amino acid biosynthetic process\n"
     ]
    },
    {
     "name": "stderr",
     "output_type": "stream",
     "text": [
      "obolibrary\n",
      "obolibrary http://purl.obolibrary.org/obo/GO_0006536\n",
      "GRAPHSIZE:  20\n",
      "\n"
     ]
    },
    {
     "name": "stdout",
     "output_type": "stream",
     "text": [
      "glutamate metabolic process\n"
     ]
    },
    {
     "name": "stderr",
     "output_type": "stream",
     "text": [
      "obolibrary\n",
      "obolibrary http://purl.obolibrary.org/obo/GO_0031923\n",
      "GRAPHSIZE:  14\n",
      "\n"
     ]
    },
    {
     "name": "stdout",
     "output_type": "stream",
     "text": [
      "pyridoxine transport\n"
     ]
    },
    {
     "name": "stderr",
     "output_type": "stream",
     "text": [
      "obolibrary\n",
      "obolibrary http://purl.obolibrary.org/obo/GO_0046655\n",
      "GRAPHSIZE:  30\n",
      "\n"
     ]
    },
    {
     "name": "stdout",
     "output_type": "stream",
     "text": [
      "folic acid metabolic process\n"
     ]
    },
    {
     "name": "stderr",
     "output_type": "stream",
     "text": [
      "obolibrary\n",
      "obolibrary http://purl.obolibrary.org/obo/GO_0070997\n",
      "GRAPHSIZE:  17\n",
      "\n"
     ]
    },
    {
     "name": "stdout",
     "output_type": "stream",
     "text": [
      "obsolete neuron death\n"
     ]
    },
    {
     "name": "stderr",
     "output_type": "stream",
     "text": [
      "obolibrary\n",
      "obolibrary http://purl.obolibrary.org/obo/GO_0016579\n",
      "GRAPHSIZE:  28\n",
      "\n"
     ]
    },
    {
     "name": "stdout",
     "output_type": "stream",
     "text": [
      "protein deubiquitination\n"
     ]
    },
    {
     "name": "stderr",
     "output_type": "stream",
     "text": [
      "obolibrary\n",
      "obolibrary http://purl.obolibrary.org/obo/GO_0016567\n",
      "GRAPHSIZE:  16\n",
      "\n"
     ]
    },
    {
     "name": "stdout",
     "output_type": "stream",
     "text": [
      "protein ubiquitination\n"
     ]
    },
    {
     "name": "stderr",
     "output_type": "stream",
     "text": [
      "obolibrary\n",
      "obolibrary http://purl.obolibrary.org/obo/GO_0030164\n",
      "GRAPHSIZE:  13\n",
      "\n"
     ]
    },
    {
     "name": "stdout",
     "output_type": "stream",
     "text": [
      "protein denaturation\n"
     ]
    },
    {
     "name": "stderr",
     "output_type": "stream",
     "text": [
      "obolibrary\n",
      "obolibrary http://purl.obolibrary.org/obo/GO_0016925\n",
      "GRAPHSIZE:  30\n",
      "\n"
     ]
    },
    {
     "name": "stdout",
     "output_type": "stream",
     "text": [
      "protein sumoylation\n"
     ]
    },
    {
     "name": "stderr",
     "output_type": "stream",
     "text": [
      "obolibrary\n",
      "obolibrary http://purl.obolibrary.org/obo/GO_0061743\n",
      "GRAPHSIZE:  15\n",
      "\n"
     ]
    },
    {
     "name": "stdout",
     "output_type": "stream",
     "text": [
      "motor learning\n"
     ]
    },
    {
     "name": "stderr",
     "output_type": "stream",
     "text": [
      "obolibrary\n",
      "obolibrary http://purl.obolibrary.org/obo/GO_0016573\n",
      "GRAPHSIZE:  12\n",
      "\n"
     ]
    },
    {
     "name": "stdout",
     "output_type": "stream",
     "text": [
      "obsolete histone acetylation\n"
     ]
    },
    {
     "name": "stderr",
     "output_type": "stream",
     "text": [
      "obolibrary\n",
      "obolibrary http://purl.obolibrary.org/obo/GO_0043161\n",
      "GRAPHSIZE:  25\n",
      "\n"
     ]
    },
    {
     "name": "stdout",
     "output_type": "stream",
     "text": [
      "proteasome-mediated ubiquitin-dependent protein catabolic process\n"
     ]
    },
    {
     "name": "stderr",
     "output_type": "stream",
     "text": [
      "obolibrary\n",
      "obolibrary http://purl.obolibrary.org/obo/GO_0051169\n",
      "GRAPHSIZE:  18\n",
      "\n"
     ]
    },
    {
     "name": "stdout",
     "output_type": "stream",
     "text": [
      "nuclear transport\n"
     ]
    },
    {
     "name": "stderr",
     "output_type": "stream",
     "text": [
      "obolibrary\n",
      "obolibrary http://purl.obolibrary.org/obo/GO_0051170\n",
      "GRAPHSIZE:  20\n",
      "\n"
     ]
    },
    {
     "name": "stdout",
     "output_type": "stream",
     "text": [
      "import into nucleus\n"
     ]
    },
    {
     "name": "stderr",
     "output_type": "stream",
     "text": [
      "obolibrary\n",
      "obolibrary http://purl.obolibrary.org/obo/GO_0019230\n",
      "GRAPHSIZE:  22\n",
      "\n"
     ]
    },
    {
     "name": "stdout",
     "output_type": "stream",
     "text": [
      "proprioception\n"
     ]
    },
    {
     "name": "stderr",
     "output_type": "stream",
     "text": [
      "obolibrary\n",
      "obolibrary http://purl.obolibrary.org/obo/GO_0098930\n",
      "GRAPHSIZE:  27\n",
      "\n"
     ]
    },
    {
     "name": "stdout",
     "output_type": "stream",
     "text": [
      "axonal transport\n"
     ]
    },
    {
     "name": "stderr",
     "output_type": "stream",
     "text": [
      "obolibrary\n",
      "obolibrary http://purl.obolibrary.org/obo/GO_0007059\n",
      "GRAPHSIZE:  30\n",
      "\n"
     ]
    },
    {
     "name": "stdout",
     "output_type": "stream",
     "text": [
      "chromosome segregation\n"
     ]
    },
    {
     "name": "stderr",
     "output_type": "stream",
     "text": [
      "obolibrary\n",
      "obolibrary http://purl.obolibrary.org/obo/GO_0010586\n",
      "GRAPHSIZE:  18\n",
      "\n"
     ]
    },
    {
     "name": "stdout",
     "output_type": "stream",
     "text": [
      "miRNA metabolic process\n"
     ]
    },
    {
     "name": "stderr",
     "output_type": "stream",
     "text": [
      "obolibrary\n",
      "obolibrary http://purl.obolibrary.org/obo/GO_0016192\n",
      "GRAPHSIZE:  41\n",
      "\n"
     ]
    },
    {
     "name": "stdout",
     "output_type": "stream",
     "text": [
      "vesicle-mediated transport\n"
     ]
    },
    {
     "name": "stderr",
     "output_type": "stream",
     "text": [
      "obolibrary\n",
      "obolibrary http://purl.obolibrary.org/obo/GO_0007608\n",
      "GRAPHSIZE:  18\n",
      "\n"
     ]
    },
    {
     "name": "stdout",
     "output_type": "stream",
     "text": [
      "sensory perception of smell\n"
     ]
    },
    {
     "name": "stderr",
     "output_type": "stream",
     "text": [
      "obolibrary\n",
      "obolibrary http://purl.obolibrary.org/obo/GO_0008542\n",
      "GRAPHSIZE:  16\n",
      "\n"
     ]
    },
    {
     "name": "stdout",
     "output_type": "stream",
     "text": [
      "visual learning\n"
     ]
    },
    {
     "name": "stderr",
     "output_type": "stream",
     "text": [
      "obolibrary\n",
      "obolibrary http://purl.obolibrary.org/obo/GO_0006913\n",
      "GRAPHSIZE:  25\n",
      "\n"
     ]
    },
    {
     "name": "stdout",
     "output_type": "stream",
     "text": [
      "nucleocytoplasmic transport\n"
     ]
    },
    {
     "name": "stderr",
     "output_type": "stream",
     "text": [
      "obolibrary\n",
      "obolibrary http://purl.obolibrary.org/obo/GO_0006302\n",
      "GRAPHSIZE:  14\n",
      "\n"
     ]
    },
    {
     "name": "stdout",
     "output_type": "stream",
     "text": [
      "double-strand break repair\n"
     ]
    },
    {
     "name": "stderr",
     "output_type": "stream",
     "text": [
      "obolibrary\n",
      "obolibrary http://purl.obolibrary.org/obo/GO_0007140\n",
      "GRAPHSIZE:  43\n",
      "\n"
     ]
    },
    {
     "name": "stdout",
     "output_type": "stream",
     "text": [
      "male meiotic nuclear division\n"
     ]
    },
    {
     "name": "stderr",
     "output_type": "stream",
     "text": [
      "obolibrary\n",
      "obolibrary http://purl.obolibrary.org/obo/GO_0006325\n",
      "GRAPHSIZE:  46\n",
      "\n"
     ]
    },
    {
     "name": "stdout",
     "output_type": "stream",
     "text": [
      "chromatin organization\n"
     ]
    },
    {
     "name": "stderr",
     "output_type": "stream",
     "text": [
      "obolibrary\n",
      "obolibrary http://purl.obolibrary.org/obo/GO_0016485\n",
      "GRAPHSIZE:  27\n",
      "\n"
     ]
    },
    {
     "name": "stdout",
     "output_type": "stream",
     "text": [
      "protein processing\n"
     ]
    },
    {
     "name": "stderr",
     "output_type": "stream",
     "text": [
      "obolibrary\n",
      "obolibrary http://purl.obolibrary.org/obo/GO_0006515\n",
      "GRAPHSIZE:  20\n",
      "\n"
     ]
    },
    {
     "name": "stdout",
     "output_type": "stream",
     "text": [
      "protein quality control for misfolded or incompletely synthesized proteins\n"
     ]
    },
    {
     "name": "stderr",
     "output_type": "stream",
     "text": [
      "obolibrary\n",
      "obolibrary http://purl.obolibrary.org/obo/GO_0016575\n",
      "GRAPHSIZE:  12\n",
      "\n"
     ]
    },
    {
     "name": "stdout",
     "output_type": "stream",
     "text": [
      "obsolete histone deacetylation\n"
     ]
    },
    {
     "name": "stderr",
     "output_type": "stream",
     "text": [
      "obolibrary\n",
      "obolibrary http://purl.obolibrary.org/obo/GO_0007411\n",
      "GRAPHSIZE:  31\n",
      "\n"
     ]
    },
    {
     "name": "stdout",
     "output_type": "stream",
     "text": [
      "axon guidance\n"
     ]
    },
    {
     "name": "stderr",
     "output_type": "stream",
     "text": [
      "obolibrary\n",
      "obolibrary http://purl.obolibrary.org/obo/GO_0051092\n",
      "GRAPHSIZE:  18\n",
      "\n"
     ]
    },
    {
     "name": "stdout",
     "output_type": "stream",
     "text": [
      "positive regulation of NF-kappaB transcription factor activity\n"
     ]
    },
    {
     "name": "stderr",
     "output_type": "stream",
     "text": [
      "obolibrary\n",
      "obolibrary http://purl.obolibrary.org/obo/GO_0051131\n",
      "GRAPHSIZE:  18\n",
      "\n"
     ]
    },
    {
     "name": "stdout",
     "output_type": "stream",
     "text": [
      "chaperone-mediated protein complex assembly\n"
     ]
    },
    {
     "name": "stderr",
     "output_type": "stream",
     "text": [
      "obolibrary\n",
      "obolibrary http://purl.obolibrary.org/obo/GO_0060271\n",
      "GRAPHSIZE:  69\n",
      "\n"
     ]
    },
    {
     "name": "stdout",
     "output_type": "stream",
     "text": [
      "cilium assembly\n"
     ]
    },
    {
     "name": "stderr",
     "output_type": "stream",
     "text": [
      "obolibrary\n",
      "obolibrary http://purl.obolibrary.org/obo/GO_0009686\n",
      "GRAPHSIZE:  27\n",
      "\n"
     ]
    },
    {
     "name": "stdout",
     "output_type": "stream",
     "text": [
      "gibberellin biosynthetic process\n"
     ]
    },
    {
     "name": "stderr",
     "output_type": "stream",
     "text": [
      "obolibrary\n",
      "obolibrary http://purl.obolibrary.org/obo/GO_0009845\n",
      "GRAPHSIZE:  22\n",
      "\n"
     ]
    },
    {
     "name": "stdout",
     "output_type": "stream",
     "text": [
      "seed germination\n"
     ]
    },
    {
     "name": "stderr",
     "output_type": "stream",
     "text": [
      "obolibrary\n",
      "obolibrary http://purl.obolibrary.org/obo/GO_0030431\n",
      "GRAPHSIZE:  20\n",
      "\n"
     ]
    },
    {
     "name": "stdout",
     "output_type": "stream",
     "text": [
      "sleep\n"
     ]
    },
    {
     "name": "stderr",
     "output_type": "stream",
     "text": [
      "obolibrary\n",
      "obolibrary http://purl.obolibrary.org/obo/GO_0009685\n",
      "GRAPHSIZE:  19\n",
      "\n"
     ]
    },
    {
     "name": "stdout",
     "output_type": "stream",
     "text": [
      "gibberellin metabolic process\n"
     ]
    },
    {
     "name": "stderr",
     "output_type": "stream",
     "text": [
      "obolibrary\n",
      "obolibrary http://purl.obolibrary.org/obo/GO_0010154\n",
      "GRAPHSIZE:  11\n",
      "\n"
     ]
    },
    {
     "name": "stdout",
     "output_type": "stream",
     "text": [
      "fruit development\n"
     ]
    },
    {
     "name": "stderr",
     "output_type": "stream",
     "text": [
      "obolibrary\n",
      "obolibrary http://purl.obolibrary.org/obo/GO_0010162\n",
      "GRAPHSIZE:  33\n",
      "\n"
     ]
    },
    {
     "name": "stdout",
     "output_type": "stream",
     "text": [
      "seed dormancy process\n"
     ]
    },
    {
     "name": "stderr",
     "output_type": "stream",
     "text": [
      "obolibrary\n",
      "obolibrary http://purl.obolibrary.org/obo/GO_0044403\n",
      "GRAPHSIZE:  34\n",
      "\n"
     ]
    },
    {
     "name": "stdout",
     "output_type": "stream",
     "text": [
      "biological process involved in symbiotic interaction\n"
     ]
    },
    {
     "name": "stderr",
     "output_type": "stream",
     "text": [
      "obolibrary\n",
      "obolibrary http://purl.obolibrary.org/obo/GO_0009826\n",
      "GRAPHSIZE:  26\n",
      "\n"
     ]
    },
    {
     "name": "stdout",
     "output_type": "stream",
     "text": [
      "unidimensional cell growth\n"
     ]
    },
    {
     "name": "stderr",
     "output_type": "stream",
     "text": [
      "obolibrary\n",
      "obolibrary http://purl.obolibrary.org/obo/GO_0001574\n",
      "GRAPHSIZE:  22\n",
      "\n"
     ]
    },
    {
     "name": "stdout",
     "output_type": "stream",
     "text": [
      "ganglioside biosynthetic process\n"
     ]
    },
    {
     "name": "stderr",
     "output_type": "stream",
     "text": [
      "obolibrary\n",
      "obolibrary http://purl.obolibrary.org/obo/GO_0097207\n",
      "GRAPHSIZE:  21\n",
      "\n"
     ]
    },
    {
     "name": "stdout",
     "output_type": "stream",
     "text": [
      "bud dormancy process\n"
     ]
    },
    {
     "name": "stderr",
     "output_type": "stream",
     "text": [
      "obolibrary\n",
      "obolibrary http://purl.obolibrary.org/obo/GO_0048316\n",
      "GRAPHSIZE:  23\n",
      "\n"
     ]
    },
    {
     "name": "stdout",
     "output_type": "stream",
     "text": [
      "seed development\n"
     ]
    },
    {
     "name": "stderr",
     "output_type": "stream",
     "text": [
      "obolibrary\n",
      "obolibrary http://purl.obolibrary.org/obo/GO_0042445\n",
      "GRAPHSIZE:  25\n",
      "\n"
     ]
    },
    {
     "name": "stdout",
     "output_type": "stream",
     "text": [
      "hormone metabolic process\n"
     ]
    },
    {
     "name": "stderr",
     "output_type": "stream",
     "text": [
      "obolibrary\n",
      "obolibrary http://purl.obolibrary.org/obo/GO_0010431\n",
      "GRAPHSIZE:  26\n",
      "\n"
     ]
    },
    {
     "name": "stdout",
     "output_type": "stream",
     "text": [
      "seed maturation\n"
     ]
    },
    {
     "name": "stderr",
     "output_type": "stream",
     "text": [
      "obolibrary\n",
      "obolibrary http://purl.obolibrary.org/obo/GO_0009414\n",
      "GRAPHSIZE:  20\n",
      "\n"
     ]
    },
    {
     "name": "stdout",
     "output_type": "stream",
     "text": [
      "response to water deprivation\n"
     ]
    },
    {
     "name": "stderr",
     "output_type": "stream",
     "text": [
      "obolibrary\n",
      "obolibrary http://purl.obolibrary.org/obo/GO_0009835\n",
      "GRAPHSIZE:  28\n",
      "\n"
     ]
    },
    {
     "name": "stdout",
     "output_type": "stream",
     "text": [
      "fruit ripening\n"
     ]
    },
    {
     "name": "stderr",
     "output_type": "stream",
     "text": [
      "obolibrary\n",
      "obolibrary http://purl.obolibrary.org/obo/GO_0005985\n",
      "GRAPHSIZE:  13\n",
      "\n"
     ]
    },
    {
     "name": "stdout",
     "output_type": "stream",
     "text": [
      "sucrose metabolic process\n"
     ]
    },
    {
     "name": "stderr",
     "output_type": "stream",
     "text": [
      "obolibrary\n",
      "obolibrary http://purl.obolibrary.org/obo/GO_0042446\n",
      "GRAPHSIZE:  19\n",
      "\n"
     ]
    },
    {
     "name": "stdout",
     "output_type": "stream",
     "text": [
      "hormone biosynthetic process\n"
     ]
    },
    {
     "name": "stderr",
     "output_type": "stream",
     "text": [
      "obolibrary\n",
      "obolibrary http://purl.obolibrary.org/obo/GO_0016032\n",
      "GRAPHSIZE:  29\n",
      "\n"
     ]
    },
    {
     "name": "stdout",
     "output_type": "stream",
     "text": [
      "viral process\n"
     ]
    },
    {
     "name": "stderr",
     "output_type": "stream",
     "text": [
      "obolibrary\n",
      "obolibrary http://purl.obolibrary.org/obo/GO_0000128\n",
      "GRAPHSIZE:  45\n",
      "\n"
     ]
    },
    {
     "name": "stdout",
     "output_type": "stream",
     "text": [
      "flocculation\n"
     ]
    },
    {
     "name": "stderr",
     "output_type": "stream",
     "text": [
      "obolibrary\n",
      "obolibrary http://purl.obolibrary.org/obo/GO_0009617\n",
      "GRAPHSIZE:  18\n",
      "\n"
     ]
    },
    {
     "name": "stdout",
     "output_type": "stream",
     "text": [
      "response to bacterium\n"
     ]
    },
    {
     "name": "stderr",
     "output_type": "stream",
     "text": [
      "obolibrary\n",
      "obolibrary http://purl.obolibrary.org/obo/GO_0009838\n",
      "GRAPHSIZE:  25\n",
      "\n"
     ]
    },
    {
     "name": "stdout",
     "output_type": "stream",
     "text": [
      "abscission\n"
     ]
    },
    {
     "name": "stderr",
     "output_type": "stream",
     "text": [
      "obolibrary\n",
      "obolibrary http://purl.obolibrary.org/obo/GO_0048460\n",
      "GRAPHSIZE:  25\n",
      "\n"
     ]
    },
    {
     "name": "stdout",
     "output_type": "stream",
     "text": [
      "flower formation\n"
     ]
    },
    {
     "name": "stderr",
     "output_type": "stream",
     "text": [
      "obolibrary\n",
      "obolibrary http://purl.obolibrary.org/obo/GO_0006959\n",
      "GRAPHSIZE:  13\n",
      "\n"
     ]
    },
    {
     "name": "stdout",
     "output_type": "stream",
     "text": [
      "humoral immune response\n"
     ]
    },
    {
     "name": "stderr",
     "output_type": "stream",
     "text": [
      "obolibrary\n",
      "obolibrary http://purl.obolibrary.org/obo/GO_0010262\n",
      "GRAPHSIZE:  14\n",
      "\n"
     ]
    },
    {
     "name": "stdout",
     "output_type": "stream",
     "text": [
      "somatic embryogenesis\n"
     ]
    },
    {
     "name": "stderr",
     "output_type": "stream",
     "text": [
      "obolibrary\n",
      "obolibrary http://purl.obolibrary.org/obo/GO_0016102\n",
      "GRAPHSIZE:  22\n",
      "\n"
     ]
    },
    {
     "name": "stdout",
     "output_type": "stream",
     "text": [
      "diterpenoid biosynthetic process\n"
     ]
    },
    {
     "name": "stderr",
     "output_type": "stream",
     "text": [
      "obolibrary\n",
      "obolibrary http://purl.obolibrary.org/obo/GO_0009399\n",
      "GRAPHSIZE:  19\n",
      "\n"
     ]
    },
    {
     "name": "stdout",
     "output_type": "stream",
     "text": [
      "nitrogen fixation\n"
     ]
    },
    {
     "name": "stderr",
     "output_type": "stream",
     "text": [
      "obolibrary\n",
      "obolibrary http://purl.obolibrary.org/obo/GO_0016114\n",
      "GRAPHSIZE:  21\n",
      "\n"
     ]
    },
    {
     "name": "stdout",
     "output_type": "stream",
     "text": [
      "terpenoid biosynthetic process\n"
     ]
    },
    {
     "name": "stderr",
     "output_type": "stream",
     "text": [
      "obolibrary\n",
      "obolibrary http://purl.obolibrary.org/obo/GO_0019748\n",
      "GRAPHSIZE:  30\n",
      "\n"
     ]
    },
    {
     "name": "stdout",
     "output_type": "stream",
     "text": [
      "secondary metabolic process\n"
     ]
    },
    {
     "name": "stderr",
     "output_type": "stream",
     "text": [
      "obolibrary\n",
      "obolibrary http://purl.obolibrary.org/obo/GO_0009630\n",
      "GRAPHSIZE:  18\n",
      "\n"
     ]
    },
    {
     "name": "stdout",
     "output_type": "stream",
     "text": [
      "gravitropism\n"
     ]
    },
    {
     "name": "stderr",
     "output_type": "stream",
     "text": [
      "obolibrary\n",
      "obolibrary http://purl.obolibrary.org/obo/GO_0009641\n",
      "GRAPHSIZE:  13\n",
      "\n"
     ]
    },
    {
     "name": "stdout",
     "output_type": "stream",
     "text": [
      "shade avoidance\n"
     ]
    },
    {
     "name": "stderr",
     "output_type": "stream",
     "text": [
      "obolibrary\n",
      "obolibrary http://purl.obolibrary.org/obo/GO_0009691\n",
      "GRAPHSIZE:  19\n",
      "\n"
     ]
    },
    {
     "name": "stdout",
     "output_type": "stream",
     "text": [
      "cytokinin biosynthetic process\n"
     ]
    },
    {
     "data": {
      "text/plain": [
       "[\"GO:0009448\", \"GO:0007268\", \"GO:0009056\", \"GO:0009450\", \"GO:0007588\", \"GO:0006914\", \"GO:0006099\", \"GO:0098754\", \"GO:0002118\", \"GO:0042133\", \"GO:0050890\", \"GO:0042552\", \"GO:0042592\", \"GO:0000423\", \"GO:0045292\", \"GO:0045333\", \"GO:0000050\", \"GO:0006081\", \"GO:0006541\", \"GO:0006915\", \"GO:0042137\", \"GO:0015881\", \"GO:0070085\", \"GO:0008219\", \"GO:0006600\", \"GO:0006412\", \"GO:0009790\", \"GO:0006457\", \"GO:0006540\", \"GO:0006729\", \"GO:0022900\", \"GO:0006117\", \"GO:0019395\", \"GO:0007416\", \"GO:0042417\", \"GO:0007417\", \"GO:0007420\", \"GO:0006954\", \"GO:0001171\", \"GO:0042427\", \"GO:0042428\", \"GO:0009444\", \"GO:0015884\", \"GO:0080144\", \"GO:0006783\", \"GO:0044237\", \"GO:0016236\", \"GO:0046459\", \"GO:0009594\", \"GO:0006629\", \"GO:0006805\", \"GO:1901336\", \"GO:0061744\", \"GO:0050893\", \"GO:0000302\", \"GO:0007565\", \"GO:0008610\", \"GO:0000425\", \"GO:0016037\", \"GO:0140115\", \"GO:0150103\", \"GO:0022008\", \"GO:0007605\", \"GO:0006695\", \"GO:0006277\", \"GO:0006082\", \"GO:0006083\", \"GO:0006086\", \"GO:0006542\", \"GO:0007623\", \"GO:0006546\", \"GO:0036268\", \"GO:0009555\", \"GO:0007568\", \"GO:0048653\", \"GO:0007165\", \"GO:0035640\", \"GO:0035176\", \"GO:0006936\", \"GO:0010228\", \"GO:0009451\", \"GO:0141119\", \"GO:0030154\", \"GO:0042060\", \"GO:0032259\", \"GO:0012501\", \"GO:0031099\", \"GO:0009856\", \"GO:0140013\", \"GO:0006119\", \"GO:0006955\", \"GO:0001503\", \"GO:0001525\", \"GO:0007601\", \"GO:0001837\", \"GO:0007631\", \"GO:0040011\", \"GO:0023060\", \"GO:0008380\", \"GO:0030218\", \"GO:0046903\", \"GO:0035825\", \"GO:0006950\", \"GO:0007049\", \"GO:0007595\", \"GO:0009556\", \"GO:0051301\", \"GO:0035194\", \"GO:0007155\", \"GO:0015031\", \"GO:0006096\", \"GO:0009410\", \"GO:0099024\", \"GO:0048870\", \"GO:0006396\", \"GO:0009908\", \"GO:0160109\", \"GO:0005975\", \"GO:0006486\", \"GO:0060004\", \"GO:0009844\", \"GO:0072583\", \"GO:0007618\", \"GO:0006113\", \"GO:0016055\", \"GO:0048658\", \"GO:0006887\", \"GO:0042310\", \"GO:0015979\", \"GO:0043113\", \"GO:0140053\", \"GO:0001508\", \"GO:0010468\", \"GO:0009566\", \"GO:0046849\", \"GO:0009616\", \"GO:0050817\", \"GO:0019722\", \"GO:0010629\", \"GO:0007530\", \"GO:0042311\", \"GO:0042697\", \"GO:0006298\", \"GO:0006508\", \"GO:0035282\", \"GO:0044849\", \"GO:0010286\", \"GO:0045453\", \"GO:0042756\", \"GO:0016049\", \"GO:0002082\", \"GO:0032543\", \"GO:0006754\", \"GO:0006090\", \"GO:0022904\", \"GO:0042775\", \"GO:0007005\", \"GO:0006573\", \"GO:0006574\", \"GO:0032981\", \"GO:0006635\", \"GO:0000266\", \"GO:0006200\", \"GO:0006631\", \"GO:0097009\", \"GO:0051259\", \"GO:0048477\", \"GO:0006784\", \"GO:0006264\", \"GO:0006390\", \"GO:0019725\", \"GO:0006413\", \"GO:1903409\", \"GO:0014889\", \"GO:0006094\", \"GO:0009063\", \"GO:0034514\", \"GO:0110148\", \"GO:0000394\", \"GO:0045821\", \"GO:0045851\", \"GO:0043526\", \"GO:0043687\", \"GO:0006730\", \"GO:0008053\", \"GO:0006772\", \"GO:0048565\", \"GO:0006006\", \"GO:0097707\", \"GO:0006909\", \"GO:0015888\", \"GO:0016070\", \"GO:0006309\", \"GO:0017038\", \"GO:0006699\", \"GO:0001764\", \"GO:0000747\", \"GO:0008611\", \"GO:0008654\", \"GO:0071709\", \"GO:0008206\", \"GO:0016559\", \"GO:0051641\", \"GO:0042632\", \"GO:0050892\", \"GO:0006605\", \"GO:0006694\", \"GO:1990523\", \"GO:0016112\", \"GO:0071626\", \"GO:0048513\", \"GO:0044091\", \"GO:0070925\", \"GO:0006468\", \"GO:0042063\", \"GO:0006633\", \"GO:0051319\", \"GO:0008203\", \"GO:0030308\", \"GO:0046485\", \"GO:0000187\", \"GO:0016477\", \"GO:0019915\", \"GO:0071578\", \"GO:0140014\", \"GO:0016557\", \"GO:0016558\", \"GO:0090546\", \"GO:0006554\", \"GO:1903412\", \"GO:1905144\", \"GO:0006558\", \"GO:0006559\", \"GO:0051179\", \"GO:0019889\", \"GO:0051188\", \"GO:0042416\", \"GO:0046146\", \"GO:0042423\", \"GO:0007596\", \"GO:0006487\", \"GO:0030259\", \"GO:0007599\", \"GO:0030073\", \"GO:0034976\", \"GO:0036065\", \"GO:0009101\", \"GO:0097502\", \"GO:0019835\", \"GO:0000271\", \"GO:0006491\", \"GO:0019348\", \"GO:0006312\", \"GO:0051320\", \"GO:0005976\", \"GO:0005980\", \"GO:0032197\", \"GO:0019751\", \"GO:0070527\", \"GO:0030101\", \"GO:0072672\", \"GO:0048599\", \"GO:0033762\", \"GO:0019307\", \"GO:0006488\", \"GO:0040008\", \"GO:0055085\", \"GO:0046907\", \"GO:0006869\", \"GO:0010149\", \"GO:0042730\", \"GO:0035264\", \"GO:0007399\", \"GO:0042116\", \"GO:0009100\", \"GO:0043473\", \"GO:0003006\", \"GO:0051651\", \"GO:0045087\", \"GO:0042267\", \"GO:0099537\", \"GO:0009247\", \"GO:0045190\", \"GO:0051216\", \"GO:0009888\", \"GO:0006688\", \"GO:0007114\", \"GO:0036503\", \"GO:0006281\", \"GO:0007519\", \"GO:0006260\", \"GO:0061337\", \"GO:0051235\", \"GO:0071514\", \"GO:0045445\", \"GO:0006397\", \"GO:0060384\", \"GO:0016310\", \"GO:0090398\", \"GO:0046323\", \"GO:0035483\", \"GO:0048468\", \"GO:0051168\", \"GO:0030432\", \"GO:0110134\", \"GO:0006811\", \"GO:0002524\", \"GO:0014732\", \"GO:0014896\", \"GO:0030163\", \"GO:0031175\", \"GO:0071897\", \"GO:0035822\", \"GO:0007163\", \"GO:0050801\", \"GO:0007283\", \"GO:0007520\", \"GO:0006338\", \"GO:0006402\", \"GO:0006553\", \"GO:0042816\", \"GO:0015819\", \"GO:0019346\", \"GO:0030282\", \"GO:0006567\", \"GO:0006568\", \"GO:0006569\", \"GO:0005977\", \"GO:0006591\", \"GO:0051646\", \"GO:0006596\", \"GO:0046440\", \"GO:0019477\", \"GO:0055062\", \"GO:0030574\", \"GO:0007048\", \"GO:0007567\", \"GO:0008614\", \"GO:0006529\", \"GO:0008652\", \"GO:0006536\", \"GO:0031923\", \"GO:0046655\", \"GO:0070997\", \"GO:0016579\", \"GO:0016567\", \"GO:0030164\", \"GO:0016925\", \"GO:0061743\", \"GO:0016573\", \"GO:0043161\", \"GO:0051169\", \"GO:0051170\", \"GO:0019230\", \"GO:0098930\", \"GO:0007059\", \"GO:0010586\", \"GO:0016192\", \"GO:0007608\", \"GO:0008542\", \"GO:0006913\", \"GO:0006302\", \"GO:0007140\", \"GO:0006325\", \"GO:0016485\", \"GO:0006515\", \"GO:0016575\", \"GO:0007411\", \"GO:0051092\", \"GO:0051131\", \"GO:0060271\", \"GO:0009686\", \"GO:0009845\", \"GO:0030431\", \"GO:0009685\", \"GO:0010154\", \"GO:0010162\", \"GO:0044403\", \"GO:0009826\", \"GO:0001574\", \"GO:0097207\", \"GO:0048316\", \"GO:0042445\", \"GO:0010431\", \"GO:0009414\", \"GO:0009835\", \"GO:0005985\", \"GO:0042446\", \"GO:0016032\", \"GO:0000128\", \"GO:0009617\", \"GO:0009838\", \"GO:0048460\", \"GO:0006959\", \"GO:0010262\", \"GO:0016102\", \"GO:0009399\", \"GO:0016114\", \"GO:0019748\", \"GO:0009630\", \"GO:0009641\", \"GO:0009691\"]"
      ]
     },
     "execution_count": 4,
     "metadata": {},
     "output_type": "execute_result"
    }
   ],
   "source": [
    "require '../Lookups/metadata_functions.rb'\n",
    "\n",
    "out = File.open(OUTPUT, \"w\")\n",
    "out.write CSV.generate_line([\"biovista_goid\",\"biovista_label\",\"GUID\",\"GOTerm\"])\n",
    "pathways.keys.each do |go|\n",
    "  warn go unless go =~ /^GO\\:/\n",
    "  \n",
    "  biovista_goid = go\n",
    "  biovista_label = pathways[go]\n",
    "  oboid = go.gsub(\":\", \"_\")  # the fact that GO never figured out how to represent its IDs will be an endless source of frustration to me\n",
    "  guid = \"http://purl.obolibrary.org/obo/#{oboid}\"\n",
    "  title = ontology_annotations(uri: guid)\n",
    "  puts title\n",
    "  out.write CSV.generate_line([biovista_goid,biovista_label,guid,title])\n",
    "end"
   ]
  }
 ],
 "metadata": {
  "kernelspec": {
   "display_name": "Ruby 3.0.0",
   "language": "ruby",
   "name": "ruby"
  },
  "language_info": {
   "file_extension": ".rb",
   "mimetype": "application/x-ruby",
   "name": "ruby",
   "version": "3.0.0"
  }
 },
 "nbformat": 4,
 "nbformat_minor": 5
}
