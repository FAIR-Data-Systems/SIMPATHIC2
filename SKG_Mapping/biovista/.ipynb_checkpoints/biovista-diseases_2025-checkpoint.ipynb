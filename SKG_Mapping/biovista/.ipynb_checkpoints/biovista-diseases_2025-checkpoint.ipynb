{
 "cells": [
  {
   "cell_type": "code",
   "execution_count": 1,
   "id": "ea62408e",
   "metadata": {},
   "outputs": [
    {
     "name": "stdout",
     "output_type": "stream",
     "text": [
      "UMLS:Disease or Syndrome:MSH\tC0268631\tDisease\tSSADH Deficiency\tHP:human_phenotype\tHP:0001263\tHuman Phenotype\tGlobal developmental delay\t0.0501869\thttps://www.biovista.com/db/link/%5B%5B%22Disease%7CSSADH%20Deficiency%22%5D,%20%5B%22Human%20Phenotype%7CGlobal%20developmental%20delay%22%5D%5D?strength-weight-map=%257B%2522MEDLINE_STRENGTH_AB%2522:1.0,%2522HPO%2522:100.0%257D\n",
      "UMLS:Disease or Syndrome:MSH\tC0268631\tDisease\tSSADH Deficiency\tHP:human_phenotype\tHP:0001249\tHuman Phenotype\tIntellectual disability\t0.0438494\thttps://www.biovista.com/db/link/%5B%5B%22Disease%7CSSADH%20Deficiency%22%5D,%20%5B%22Human%20Phenotype%7CIntellectual%20disability%22%5D%5D?strength-weight-map=%257B%2522MEDLINE_STRENGTH_AB%2522:1.0,%2522HPO%2522:100.0%257D\n",
      "UMLS:Disease or Syndrome:MSH\tC0268631\tDisease\tSSADH Deficiency\tHP:human_phenotype\tHP:0001251\tHuman Phenotype\tAtaxia\t0.0357135\thttps://www.biovista.com/db/link/%5B%5B%22Disease%7CSSADH%20Deficiency%22%5D,%20%5B%22Human%20Phenotype%7CAtaxia%22%5D%5D?strength-weight-map=%257B%2522MEDLINE_STRENGTH_AB%2522:1.0,%2522HPO%2522:100.0%257D\n"
     ]
    }
   ],
   "source": [
    "# SURVEY\n",
    "# puts `ls -l ./raw_data`\n",
    "puts `head -3 ./raw_data/bv_diseases.tsv`\n"
   ]
  },
  {
   "cell_type": "code",
   "execution_count": 7,
   "id": "e5f61b0d",
   "metadata": {},
   "outputs": [
    {
     "name": "stdout",
     "output_type": "stream",
     "text": [
      "C0268631\n",
      "C0751882\n",
      "C0023264\n",
      "C0043459\n",
      "C0268467\n",
      "C0349653\n",
      "C0027126\n",
      "C1849508\n",
      "C0024408\n",
      "C0268595\n"
     ]
    }
   ],
   "source": [
    "require 'csv'\n",
    "diseases = {}\n",
    "CSV.foreach('./raw_data/bv-kg-20250225.large', col_sep: \"\\t\", quote_char: '\"', liberal_parsing: true, headers: true) do |row|\n",
    "  if row['type_1'] == \"Disease\"\n",
    "    if row['source_1'] =~ /UMLS/\n",
    "      diseases[row['id_1']] = 1\n",
    "    else\n",
    "      abort row['source_1']\n",
    "    end\n",
    "  end\n",
    "end\n",
    "\n",
    "puts diseases.keys\n"
   ]
  },
  {
   "cell_type": "code",
   "execution_count": 27,
   "id": "50d26365",
   "metadata": {},
   "outputs": [
    {
     "name": "stderr",
     "output_type": "stream",
     "text": [
      "calling https://data.bioontology.org/search?q=C0268631&apikey=24e04058-54e0-11e0-9d7b-005056aa3316&format=json&ontologies=MESH\n",
      "http://purl.bioontology.org/ontology/MESH/C535803\n",
      "https://data.bioontology.org/ontologies/MESH/classes/http%3A%2F%2Fpurl.bioontology.org%2Fontology%2FMESH%2FC535803/mappings\n"
     ]
    },
    {
     "name": "stdout",
     "output_type": "stream",
     "text": [
      "\n",
      "\n",
      "getting mapping\n",
      "https://data.bioontology.org/ontologies/MESH/classes/http%3A%2F%2Fpurl.bioontology.org%2Fontology%2FMESH%2FC535803/mappings&apikey=24e04058-54e0-11e0-9d7b-005056aa3316&format=json\n",
      "\n",
      "\n"
     ]
    },
    {
     "ename": "RestClient::Unauthorized",
     "evalue": "401 Unauthorized",
     "output_type": "error",
     "traceback": [
      "\u001b[31mRestClient::Unauthorized\u001b[0m: 401 Unauthorized",
      "/home/osboxes/.rvm/gems/ruby-3.0.0/gems/rest-client-2.1.0/lib/restclient/abstract_response.rb:249:in `exception_with_response'",
      "/home/osboxes/.rvm/gems/ruby-3.0.0/gems/rest-client-2.1.0/lib/restclient/abstract_response.rb:129:in `return!'",
      "/home/osboxes/.rvm/gems/ruby-3.0.0/gems/rest-client-2.1.0/lib/restclient/request.rb:836:in `process_result'",
      "/home/osboxes/.rvm/gems/ruby-3.0.0/gems/rest-client-2.1.0/lib/restclient/request.rb:743:in `block in transmit'",
      "/home/osboxes/.rvm/rubies/ruby-3.0.0/lib/ruby/3.0.0/net/http.rb:960:in `start'",
      "/home/osboxes/.rvm/gems/ruby-3.0.0/gems/rest-client-2.1.0/lib/restclient/request.rb:727:in `transmit'",
      "/home/osboxes/.rvm/gems/ruby-3.0.0/gems/rest-client-2.1.0/lib/restclient/request.rb:163:in `execute'",
      "/home/osboxes/.rvm/gems/ruby-3.0.0/gems/rest-client-2.1.0/lib/restclient/request.rb:63:in `execute'",
      "/home/osboxes/.rvm/gems/ruby-3.0.0/gems/rest-client-2.1.0/lib/restclient.rb:66:in `get'",
      "(irb):26:in `block in <top (required)>'",
      "(irb):17:in `each'",
      "(irb):17:in `<top (required)>'"
     ]
    }
   ],
   "source": [
    "require 'json'\n",
    "require 'rest-client'\n",
    "require 'linkeddata'\n",
    "require 'sparql/client'\n",
    "require 'csv'\n",
    "require '../Lookups/metadata_functions.rb'\n",
    "\n",
    "require 'json'\n",
    "\n",
    "def extract_id_and_mappings(json_data)\n",
    "  parsed = JSON.parse(json_data)\n",
    "  collection = parsed['collection']\n",
    "  collection.map do |item|\n",
    "    return [item['@id'], item['links']['mappings']]\n",
    "  end\n",
    "end\n",
    "\n",
    "diseases.keys.each do |cui|\n",
    "  url = \"https://data.bioontology.org/search?q=#{cui}&apikey=24e04058-54e0-11e0-9d7b-005056aa3316&format=json&ontologies=MESH\"\n",
    "warn \"calling #{url}\"\n",
    "  body = RestClient.get(url)\n",
    "\n",
    "  id,mapping = extract_id_and_mappings(body)\n",
    "  warn id,mapping\n",
    "  mapping = mapping + \"?apikey=24e04058-54e0-11e0-9d7b-005056aa3316&format=json\"\n",
    "  puts \"\\n\\ngetting mapping\", mapping,\"\\n\\n\"\n",
    "  mappings = RestClient.get(mapping)\n",
    "  puts \"\\n\\n\\n\\nmappings\", mappings\n",
    "  ordo = mappings.match(%r{(http://www.orpha.net/ORDO/\\w+)})[1]\n",
    "  puts ordo\n",
    "end\n",
    "\n"
   ]
  },
  {
   "cell_type": "code",
   "execution_count": null,
   "id": "bb8d6b76",
   "metadata": {},
   "outputs": [],
   "source": [
    "out = File.open(OUTPUT, \"w\");\n",
    "\n",
    "@seen = {}\n",
    "File.readlines(CSVFILE, chomp: true).each do |line|\n",
    "  row = line.split(\"\\t\")\n",
    "  next unless row[COLUMN + 1] == \"Disease\"\n",
    "  value = row[COLUMN]\n",
    "  value.strip!\n",
    "  next if @seen[value]\n",
    "  warn \"looking for #{value}\"\n",
    "  if value.empty?\n",
    "    warn \"no value found in the column\"\n",
    "    next\n",
    "  end\n",
    "  n = NCBO.new()\n",
    "  uri = n.search_by_term(term: value, ontology: ONTOLOGY, exact: true)\n",
    "  unless uri  # backup plan\n",
    "    synonyms = n.get_synonyms_for_term(term: value, ontology: \"MESH\", exact: true) # returns list\n",
    "    synonyms.each do |syn|\n",
    "      uri = n.search_by_term(term: syn, ontology: ONTOLOGY, exact: true)\n",
    "      break if uri\n",
    "    end\n",
    "  end\n",
    "  unless uri  # give up\n",
    "    out.write \"No URI found for #{value}\\n\"\n",
    "  else\n",
    "    out.write \"#{uri},#{value}\\n\"\n",
    "  end\n",
    "  @seen[value] = 1\n",
    "end\n",
    "out.close\n",
    "puts \"done\""
   ]
  },
  {
   "cell_type": "code",
   "execution_count": 3,
   "id": "5fd2fbef",
   "metadata": {},
   "outputs": [
    {
     "name": "stdout",
     "output_type": "stream",
     "text": [
      "http://www.orpha.net/ORDO/Orphanet_273,MYOTONIC DYSTROPHY TYPE 1\n",
      "http://www.orpha.net/ORDO/Orphanet_98757,SPINOCEREBELLAR ATAXIA TYPE 3\n",
      "http://www.orpha.net/ORDO/Orphanet_79318,PMM2 DEFICIENCY\n",
      "http://www.orpha.net/ORDO/Orphanet_506,LEIGH SYNDROME\n",
      "http://www.orpha.net/ORDO/Orphanet_2102,GTPCH DEFICIENCY\n",
      "http://www.orpha.net/ORDO/Orphanet_22,SSADH DEFICIENCY\n",
      "http://www.orpha.net/ORDO/Orphanet_912,ZELLWEGER SYNDROME\n",
      "http://www.orpha.net/ORDO/Orphanet_3006,PYRIDOXINE-DEPENDENT EPILEPSY\n",
      "http://www.orpha.net/ORDO/Orphanet_25,GLUTARIC ACIDURIA 1\n",
      "http://www.orpha.net/ORDO/Orphanet_590,CONGENITAL MYASTHENIC SYNDROME\n"
     ]
    }
   ],
   "source": [
    "puts `cat #{OUTPUT}`"
   ]
  }
 ],
 "metadata": {
  "kernelspec": {
   "display_name": "Ruby 3.0.0",
   "language": "ruby",
   "name": "ruby"
  },
  "language_info": {
   "file_extension": ".rb",
   "mimetype": "application/x-ruby",
   "name": "ruby",
   "version": "3.0.0"
  }
 },
 "nbformat": 4,
 "nbformat_minor": 5
}
