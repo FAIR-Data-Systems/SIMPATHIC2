{
 "cells": [
  {
   "cell_type": "code",
   "execution_count": null,
   "id": "51119b94",
   "metadata": {},
   "outputs": [],
   "source": [
    "`unzip ./raw_data/bv-disease-graph.large.zip -d ./raw_data`"
   ]
  },
  {
   "cell_type": "code",
   "execution_count": 3,
   "id": "2508a574",
   "metadata": {},
   "outputs": [
    {
     "name": "stdout",
     "output_type": "stream",
     "text": [
      "(3-AMINOPROPYL)(N-BUTYL)PHOSPHINIC ACID\n"
     ]
    }
   ],
   "source": [
    "require 'csv'\n",
    "subjecttype = {}\n",
    "objecttype = {}\n",
    "CSV.foreach('./raw_data/bv-disease-graph.large', col_sep: \"\\t\", quote_char: '\"', liberal_parsing: true, headers: true) do |row|\n",
    "  next unless row[1] == \"Drug\"\n",
    "  puts row[0]\n",
    "  abort\n",
    "end\n",
    "\n"
   ]
  },
  {
   "cell_type": "code",
   "execution_count": null,
   "id": "ca759903",
   "metadata": {},
   "outputs": [],
   "source": [
    "require 'json'\n",
    "require 'rest-client'\n",
    "require '../OBO_Lookup/obo.rb'\n",
    "\n",
    "ONTOLOGY = \"CHEBI\".freeze\n",
    "CSVFILE = \"./raw_data/bv-disease-graph.large\".freeze\n",
    "COLUMN = 0\n",
    "OUTPUT = \"./maps/biovista-drugs.map_testing\".freeze"
   ]
  },
  {
   "cell_type": "code",
   "execution_count": null,
   "id": "9c1a363f",
   "metadata": {},
   "outputs": [],
   "source": [
    "out = File.open(OUTPUT, \"w\");\n",
    "\n",
    "@seen = {}\n",
    "File.readlines(CSVFILE, chomp: true).each do |line|\n",
    "#CSV.foreach(CSVFILE) do |row|\n",
    "  row = line.split(\"\\t\")\n",
    "  next unless row[COLUMN + 1] == \"Drug\"\n",
    "  value = row[COLUMN]\n",
    "  value.strip!\n",
    "  next if @seen[value]\n",
    "  warn \"looking for #{value}\"\n",
    "  if value.empty?\n",
    "    warn \"no value found in the column\"\n",
    "    next\n",
    "  end\n",
    "  n = NCBO.new()\n",
    "  uri = n.search_by_term(term: value, ontology: ONTOLOGY, exact: true)\n",
    "  unless uri  # backup plan NDFRT\n",
    "    uri = n.search_by_term(term: value, ontology: \"NDFRT\", exact: true) # returns list\n",
    "  end\n",
    "  unless uri  # give up\n",
    "    out.write \"No URI found for #{value}\\n\"\n",
    "  else\n",
    "    out.write \"#{uri},#{value}\\n\"\n",
    "  end\n",
    "  @seen[value] = 1\n",
    "end\n",
    "\n",
    "puts \"done\"\n"
   ]
  },
  {
   "cell_type": "code",
   "execution_count": null,
   "id": "89f653da",
   "metadata": {
    "scrolled": false
   },
   "outputs": [],
   "source": [
    "puts `cat #{OUTPUT}`"
   ]
  }
 ],
 "metadata": {
  "kernelspec": {
   "display_name": "Ruby 3.0.0",
   "language": "ruby",
   "name": "ruby"
  },
  "language_info": {
   "file_extension": ".rb",
   "mimetype": "application/x-ruby",
   "name": "ruby",
   "version": "3.0.0"
  }
 },
 "nbformat": 4,
 "nbformat_minor": 5
}
